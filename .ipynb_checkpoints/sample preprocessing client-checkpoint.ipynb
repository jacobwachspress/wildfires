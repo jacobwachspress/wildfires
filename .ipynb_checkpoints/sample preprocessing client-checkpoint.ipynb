{
 "cells": [
  {
   "cell_type": "code",
   "execution_count": 2,
   "id": "fb2e2fc0",
   "metadata": {},
   "outputs": [
    {
     "name": "stderr",
     "output_type": "stream",
     "text": [
      "C:\\Users\\mit\\anaconda3\\envs\\herbie\\lib\\site-packages\\toolbox\\cartopy_tools.py:60: UserWarning: Migrate to `cartopy_tools2` for latest updates and features.\n",
      "  warnings.warn(\"Migrate to `cartopy_tools2` for latest updates and features.\")\n"
     ]
    }
   ],
   "source": [
    "import pandas as pd\n",
    "import preprocessing"
   ]
  },
  {
   "cell_type": "markdown",
   "id": "5b5d047f",
   "metadata": {},
   "source": [
    "## Clean fire observation pixels and merge them to US government incident IDs ##"
   ]
  },
  {
   "cell_type": "markdown",
   "id": "3359bd43",
   "metadata": {},
   "source": [
    "### The raw files are too big for GitHub, will put on Dropbox. Do not worry about this part for now  ###"
   ]
  },
  {
   "cell_type": "code",
   "execution_count": 3,
   "id": "b00bcf79",
   "metadata": {},
   "outputs": [
    {
     "name": "stderr",
     "output_type": "stream",
     "text": [
      "C:\\Users\\mit\\anaconda3\\envs\\herbie\\lib\\site-packages\\pandas\\core\\dtypes\\cast.py:118: ShapelyDeprecationWarning: The array interface is deprecated and will no longer work in Shapely 2.0. Convert the '.coords' to a numpy array instead.\n",
      "  arr = construct_1d_object_array_from_listlike(values)\n"
     ]
    }
   ],
   "source": [
    "viirs_path = r\"C:\\Users\\mit\\Dropbox (MIT)\\Jacob_Sequoia_Sara\\example_data\\viirs_npp_2020\\fire_archive_SV-C2_230749.shp\"\n",
    "SIT_conn_str = (r'DRIVER={Microsoft Access Driver (*.mdb, *.accdb)};'\n",
    "            r'DBQ=C:\\Users\\mit\\Documents\\wildfires\\data\\sit\\2020 SIT DATA.accdb;')\n",
    "boundaries_path = 'data/historical_perimeters/InteragencyFirePerimeterHistory.shp'\n",
    "\n",
    "fires_df, boundaries, unambiguous_fire_pixels = preprocessing.get_fire_pixels(viirs_path, SIT_conn_str, boundaries_path, 2020)\n",
    "\n",
    "fires_df.to_csv('data/clean/viirs.csv', index=False)\n",
    "boundaries.to_pickle('data/clean/merged_boundaries.pkl')\n",
    "unambiguous_fire_pixels.to_csv('data/clean/fire_pixels_lookup.csv', index=False)"
   ]
  },
  {
   "cell_type": "markdown",
   "id": "bf0a3764",
   "metadata": {},
   "source": [
    "## Create standardized grids for the fires and merges in the weather data ##"
   ]
  },
  {
   "cell_type": "code",
   "execution_count": null,
   "id": "5847b4ff",
   "metadata": {},
   "outputs": [
    {
     "name": "stdout",
     "output_type": "stream",
     "text": [
      "2022-01-07 13:39:58.298482\n",
      "determining active fires at each time\n",
      "2022-01-07 13:40:01.673239\n",
      "generating standardized grids and nearest neighbor references for HRRR merge\n",
      "🏋🏻‍♂️ Found \u001b[32m2020-Jan-01 12:00 UTC F00\u001b[m [HRRR] [product=sfc] GRIB2 file from \u001b[38;5;202maws\u001b[m and index file from \u001b[38;5;202maws\u001b[m.                                                                                                                                                       \n",
      "Failed knn_lookup 11930517\n",
      "Failed knn_lookup 11934511\n"
     ]
    }
   ],
   "source": [
    "boundaries = pd.read_pickle('data/clean/merged_boundaries.pkl')\n",
    "fire_pixels_lookup = pd.read_csv('data/clean/fire_pixels_lookup.csv')\n",
    "fire_pixels = pd.read_csv('data/clean/viirs.csv')\n",
    "\n",
    "fire_pixels = pd.merge(fire_pixels, fire_pixels_lookup, on='pixel_id', how='right', validate='1:1')\n",
    "fire_pixels = fire_pixels[fire_pixels['INCIDENT_IDENTIFIER'].notna()]\n",
    "fire_pixels['INCIDENT_IDENTIFIER'] = fire_pixels['INCIDENT_IDENTIFIER'].astype(str)\n",
    "\n",
    "fields = pd.read_csv('data/input/hrrr_fields.csv')\n",
    "\n",
    "out_path = 'data/clean/fire_histories/'\n",
    "\n",
    "preprocessing.merge_all_fire_and_weather_data(fire_pixels, boundaries, fields, out_path)"
   ]
  }
 ],
 "metadata": {
  "kernelspec": {
   "display_name": "Python 3 (ipykernel)",
   "language": "python",
   "name": "python3"
  },
  "language_info": {
   "codemirror_mode": {
    "name": "ipython",
    "version": 3
   },
   "file_extension": ".py",
   "mimetype": "text/x-python",
   "name": "python",
   "nbconvert_exporter": "python",
   "pygments_lexer": "ipython3",
   "version": "3.9.7"
  }
 },
 "nbformat": 4,
 "nbformat_minor": 5
}
