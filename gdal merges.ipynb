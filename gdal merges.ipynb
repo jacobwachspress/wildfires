{
 "cells": [
  {
   "cell_type": "code",
   "execution_count": 3,
   "id": "97acc2e6",
   "metadata": {},
   "outputs": [
    {
     "name": "stderr",
     "output_type": "stream",
     "text": [
      "C:\\Users\\mit\\anaconda3\\envs\\herbie\\lib\\site-packages\\toolbox\\cartopy_tools.py:60: UserWarning: Migrate to `cartopy_tools2` for latest updates and features.\n",
      "  warnings.warn(\"Migrate to `cartopy_tools2` for latest updates and features.\")\n"
     ]
    }
   ],
   "source": [
    "from osgeo import gdal\n",
    "gdal.UseExceptions()\n",
    "import pandas as pd\n",
    "import numpy as np\n",
    "import seaborn as sns\n",
    "import matplotlib.pyplot as plt\n",
    "import geopy.distance as dst\n",
    "import os\n",
    "import datetime as dt\n",
    "from herbie.archive import Herbie\n",
    "import sys\n",
    "import io"
   ]
  },
  {
   "cell_type": "code",
   "execution_count": 2,
   "id": "2c368a71",
   "metadata": {},
   "outputs": [],
   "source": [
    "def get_fire_grid_bounds(bbox, scale, buffer=0):\n",
    "    \n",
    "    # in case I want to add some buffer around the bbox\n",
    "    if buffer != 0:\n",
    "        raise NotImplementedError(\"Fire grid buffer not implemented\")\n",
    "    \n",
    "    # get the local miles per degree longitude, miles per degree latitude\n",
    "    miles_per_lon, miles_per_lat = local_miles_per_lon_lat(bbox)\n",
    "    \n",
    "    # translate the scale in miles to a (lon, lat) resolution\n",
    "    lon_res = scale / miles_per_lon\n",
    "    lat_res = scale / miles_per_lat\n",
    "    \n",
    "    # extract the bounds to variables\n",
    "    lon_min = bbox[0]\n",
    "    lon_max = bbox[2]\n",
    "    lat_min = bbox[1]\n",
    "    lat_max = bbox[3]\n",
    "    \n",
    "    # find the length of the axes in the grid we will create\n",
    "    lon_ticks = (lon_max - lon_min) / lon_res\n",
    "    lat_ticks = (lat_max - lat_min) / lat_res\n",
    "    \n",
    "    # buffer this grid to a whole number of ticks in each dimension\n",
    "    lon_buffer = (1 - np.mod(lon_ticks, 1))\n",
    "    if lon_buffer == 1:\n",
    "        lon_buffer = 0\n",
    "    lon_buffer = lon_buffer * lon_res\n",
    "    lat_buffer = (1 - np.mod(lat_ticks, 1))\n",
    "    if lat_buffer == 1:\n",
    "        lat_buffer = 0\n",
    "    lat_buffer = lat_buffer * lat_res\n",
    "    new_bbox = [lon_min - lon_buffer/2, lat_min - lat_buffer/2, \n",
    "                lon_max + lon_buffer/2, lat_max + lat_buffer/2]\n",
    "    \n",
    "    # return the resolutions and buffered bounding box\n",
    "    return lon_res, lat_res, new_bbox\n",
    "    \n",
    "    "
   ]
  },
  {
   "cell_type": "code",
   "execution_count": 3,
   "id": "85946c7f",
   "metadata": {},
   "outputs": [],
   "source": [
    "def local_miles_per_lon_lat(bbox, k=100):\n",
    "    \n",
    "    # get lat, lon of center of bbox\n",
    "    lat = (bbox[3] + bbox[1]) / 2\n",
    "    lon = (bbox[2] + bbox[0]) / 2\n",
    "    \n",
    "    # get points very close to each other that vary a little bit in latitiude direction\n",
    "    # note: dst.distance uses (lat, lon) convention\n",
    "    coords1 = (lat - 1 / k, lon)\n",
    "    coords2 = (lat + 1 / k, lon)\n",
    "    \n",
    "    # find miles per degree latitude\n",
    "    miles_per_lat = dst.distance(coords1, coords2).miles * k / 2\n",
    "    \n",
    "    # get points very close to each other that vary a little bit in longitude direction\n",
    "    coords1 = (lat, lon - 1 / k)\n",
    "    coords2 = (lat, lon + 1 / k)\n",
    "    \n",
    "    # find miles per degree longitude\n",
    "    miles_per_lon = dst.distance(coords1, coords2).miles * k / 2\n",
    "\n",
    "    return miles_per_lon, miles_per_lat"
   ]
  },
  {
   "cell_type": "code",
   "execution_count": 259,
   "id": "4a6864d8",
   "metadata": {},
   "outputs": [],
   "source": [
    "def generate_static_data(params_df, lon_res, lat_res, fire_grid_bbox, out_path):\n",
    "    \n",
    "    # initialize list of vrt files that will comprise output data set\n",
    "    vrts = []\n",
    "    \n",
    "    # for each static parameter\n",
    "    for _, row in params_df.iterrows():\n",
    "        \n",
    "        # get the path to the data set and open it\n",
    "        path = row['path']\n",
    "        ds = gdal.Open(path)\n",
    "        \n",
    "        # get the name of the layer, and define a path to a .vrt file we will write\n",
    "        layer = row['layer']\n",
    "        vrt_file = f'{out_path}/{layer}.vrt'\n",
    "        \n",
    "        # append to list of vrt files\n",
    "        vrts.append(vrt_file)\n",
    "        \n",
    "        # remove .vrt file if it exists (maybe not needed, but GDAL misbehaves sometimes\n",
    "        # and I think it might have to do with file overwriting)\n",
    "        if os.path.isfile(vrt_file):\n",
    "            os.remove(vrt_file)\n",
    "        \n",
    "        # write a vrt file to the specified location, which links to the original dataset,\n",
    "        # clips to the specific region, and reshapes the data to the proper grid\n",
    "        gdal.Warp(vrt_file, ds, format='VRT', dstSRS='WGS84', xRes=lon_res, yRes=lat_res, \n",
    "                     resampleAlg=row['impute'], outputBounds=fire_grid_bbox)\n",
    "    \n",
    "    # define output file for all static data, delete if it exists\n",
    "    out_file = f'{out_path}/static_data.vrt'\n",
    "    if os.path.isfile(out_file):\n",
    "        os.remove(out_file)        \n",
    "    \n",
    "    # build a .vrt that references all the previous .vrts, one for each layer\n",
    "    # note: we cannot move any of the referenced files after doing this\n",
    "    ds = gdal.BuildVRT(out_file, vrts, separate=True, allowProjectionDifference=False)\n",
    "    ds.FlushCache()\n",
    "    return ds\n",
    "    "
   ]
  },
  {
   "cell_type": "code",
   "execution_count": 277,
   "id": "d74548e5",
   "metadata": {},
   "outputs": [],
   "source": [
    "def generate_daily_fire_footprint(inc_id, ref_ds, fire_obs, fbbox, path):\n",
    "    \n",
    "    ex_fire = fire_obs[fire_obs['INCIDENT_IDENTIFIER'] == inc_id]\n",
    "    fbbox2 = [[fbbox[1], fbbox[3]], [fbbox[0], fbbox[2]]]\n",
    "\n",
    "    ref_ds_path = f'{path}/{inc_id}/static_data.vrt'\n",
    "    ref_ds = gdal.Open(ref_ds_path)\n",
    "    size = (ref_ds.RasterYSize, ref_ds.RasterXSize)\n",
    "    \n",
    "    SCALE = 3\n",
    "    size = SCALE * np.asarray(size)\n",
    "\n",
    "    days = list(ex_fire['ACQ_DATE'].drop_duplicates())\n",
    "    if len(days) == 0:\n",
    "        return 0\n",
    "    first_day = dt.datetime.strptime(days[0], '%Y-%m-%d')\n",
    "    last_day = dt.datetime.strptime(days[-1], '%Y-%m-%d')\n",
    "    delta = last_day - first_day\n",
    "    all_days = [first_day + dt.timedelta(days=i) for i in range(delta.days + 1)]\n",
    "    all_days = [day.strftime('%Y-%m-%d') for day in all_days]\n",
    "    \n",
    "    drv = gdal.GetDriverByName(\"GTiff\")\n",
    "    width = int(size[1])\n",
    "    height = int(size[0])\n",
    "    ds = drv.Create(f'{path}/{inc_id}/unscaled_fire_footprint.tif', width, height, len(all_days), gdal.GDT_Float32)\n",
    "    \n",
    "    for i, day in enumerate(all_days):\n",
    "        if i == 0:\n",
    "            ex_fire_day = ex_fire.query('ACQ_DATE == @day & ACQ_TIME < 1200')\n",
    "        else:\n",
    "            last_day = all_days[i-1]\n",
    "            ex_fire_day = ex_fire.query('(ACQ_DATE == @day & ACQ_TIME < 1200) |'\n",
    "                      ' (ACQ_DATE == @last_day & ACQ_TIME >= 1200) ')\n",
    "        z, y, x = np.histogram2d(ex_fire_day['LATITUDE'], ex_fire_day['LONGITUDE'], \n",
    "                                 bins=size, range=fbbox2)\n",
    "        z = np.flip(z, axis=0)\n",
    "\n",
    "        height, width = z.shape\n",
    "\n",
    "\n",
    "        raster = ds.GetRasterBand(i+1)\n",
    "        raster.WriteArray(z)\n",
    "        raster.SetDescription(day)\n",
    "        tr = np.asarray(ref_ds.GetGeoTransform())\n",
    "        tr[1] /= SCALE\n",
    "        tr[5] /= SCALE\n",
    "\n",
    "        ds.SetGeoTransform(tuple(tr))\n",
    "\n",
    "        tr = ref_ds.GetGeoTransform()\n",
    "    ds2 = gdal.Warp(f'{path}/{inc_id}/daily_fire_footprint.vrt', ds, format='VRT', xRes=abs(tr[1]), yRes=abs(tr[5]), \n",
    "                             resampleAlg='cubic', outputBounds=fbbox)\n",
    "    \n",
    "    return ds2"
   ]
  },
  {
   "cell_type": "code",
   "execution_count": 279,
   "id": "2a24e5da",
   "metadata": {},
   "outputs": [],
   "source": [
    "boundaries = pd.read_pickle('data/clean/merged_boundaries.pkl')\n",
    "fire_pixels_lookup = pd.read_csv('data/clean/fire_pixels_lookup.csv')\n",
    "fire_pixels = pd.read_csv('data/clean/viirs.csv')\n",
    "\n",
    "fire_pixels = pd.merge(fire_pixels, fire_pixels_lookup, on='pixel_id', how='right', validate='1:1')\n",
    "fire_pixels = fire_pixels[fire_pixels['INCIDENT_IDENTIFIER'].notna()]\n",
    "fire_pixels['INCIDENT_IDENTIFIER'] = fire_pixels['INCIDENT_IDENTIFIER'].astype(str)\n",
    "\n",
    "out_path = 'data/clean/fire_histories_3'"
   ]
  },
  {
   "cell_type": "code",
   "execution_count": 1,
   "id": "bda7549f",
   "metadata": {},
   "outputs": [
    {
     "ename": "NameError",
     "evalue": "name 'fire_history' is not defined",
     "output_type": "error",
     "traceback": [
      "\u001b[1;31m---------------------------------------------------------------------------\u001b[0m",
      "\u001b[1;31mNameError\u001b[0m                                 Traceback (most recent call last)",
      "\u001b[1;32m~\\AppData\\Local\\Temp/ipykernel_18928/680109315.py\u001b[0m in \u001b[0;36m<module>\u001b[1;34m\u001b[0m\n\u001b[0;32m      1\u001b[0m \u001b[1;32mimport\u001b[0m \u001b[0mimportlib\u001b[0m\u001b[1;33m\u001b[0m\u001b[1;33m\u001b[0m\u001b[0m\n\u001b[1;32m----> 2\u001b[1;33m \u001b[0mimportlib\u001b[0m\u001b[1;33m.\u001b[0m\u001b[0mreload\u001b[0m\u001b[1;33m(\u001b[0m\u001b[0mfire_history\u001b[0m\u001b[1;33m)\u001b[0m\u001b[1;33m\u001b[0m\u001b[1;33m\u001b[0m\u001b[0m\n\u001b[0m",
      "\u001b[1;31mNameError\u001b[0m: name 'fire_history' is not defined"
     ]
    }
   ],
   "source": [
    "import importlib\n",
    "importlib.reload(fire_history)"
   ]
  },
  {
   "cell_type": "code",
   "execution_count": 2,
   "id": "ca54cf55",
   "metadata": {},
   "outputs": [],
   "source": [
    "import fire_history"
   ]
  },
  {
   "cell_type": "code",
   "execution_count": 3,
   "id": "e4d09a8f",
   "metadata": {},
   "outputs": [
    {
     "data": {
      "text/plain": [
       "<Figure size 432x288 with 0 Axes>"
      ]
     },
     "metadata": {},
     "output_type": "display_data"
    }
   ],
   "source": [
    "dropbox_path = r\"C:\\Users\\mit\\Dropbox (MIT)\"\n",
    "\n",
    "fire_history.preprocess(dropbox_path, gifs=True)"
   ]
  },
  {
   "cell_type": "code",
   "execution_count": 5,
   "id": "9b832eab",
   "metadata": {},
   "outputs": [
    {
     "data": {
      "text/plain": [
       "5"
      ]
     },
     "execution_count": 5,
     "metadata": {},
     "output_type": "execute_result"
    },
    {
     "data": {
      "text/plain": [
       "<Figure size 432x288 with 0 Axes>"
      ]
     },
     "metadata": {},
     "output_type": "display_data"
    }
   ],
   "source": [
    "fire_history.make_gifs('data/clean/fire_histories_6')"
   ]
  },
  {
   "cell_type": "code",
   "execution_count": 281,
   "id": "484a868a",
   "metadata": {},
   "outputs": [],
   "source": [
    "df = pd.read_csv('data/input/static_data_params.csv')\n",
    "dropbox_path  = r\"C:\\Users\\mit\\Dropbox (MIT)\"\n",
    "df['path'] = dropbox_path + \"\\\\\" + df['path']\n",
    "\n",
    "if not os.path.isdir(out_path):\n",
    "    os.mkdir(out_path)\n",
    "scale = 0.6\n",
    "\n",
    "boundaries['fire_grid_bbox'] = ''\n",
    "\n",
    "for i, fire in boundaries.iterrows():\n",
    "    \n",
    "    bbox = fire['bbox']\n",
    "    inc_id = fire['INCIDENT_IDENTIFIER']  \n",
    "    \n",
    "    if inc_id == '11926606':\n",
    "        \n",
    "        fire_out_path = f'{out_path}/{inc_id}'\n",
    "\n",
    "        if not os.path.isdir(fire_out_path):\n",
    "            os.mkdir(fire_out_path)\n",
    "\n",
    "        lon_res, lat_res, new_bbox = get_fire_grid_bounds(bbox, scale)\n",
    "        # boundaries.at[i, 'fire_grid_bbox'] = tuple(new_bbox)\n",
    "        ds = generate_static_data(df, lon_res, lat_res, new_bbox, fire_out_path)\n",
    "\n",
    "        a = generate_daily_fire_footprint(inc_id, ref_ds, fire_pixels, new_bbox, out_path)"
   ]
  },
  {
   "cell_type": "code",
   "execution_count": 264,
   "id": "1c60b484",
   "metadata": {},
   "outputs": [],
   "source": [
    "df = pd.read_csv('data/input/static_data_params.csv')\n",
    "dropbox_path  = r\"C:\\Users\\mit\\Dropbox (MIT)\"\n",
    "df['path'] = dropbox_path + \"\\\\\" + df['path']\n",
    "\n",
    "if not os.path.isdir(out_path):\n",
    "    os.mkdir(out_path)\n",
    "scale = 0.6\n",
    "\n",
    "boundaries['fire_grid_bbox'] = ''\n",
    "\n",
    "for i, fire in boundaries.iterrows():\n",
    "    \n",
    "    bbox = fire['bbox']\n",
    "    inc_id = fire['INCIDENT_IDENTIFIER']   \n",
    "        \n",
    "    fire_out_path = f'{out_path}/{inc_id}'\n",
    "\n",
    "    if not os.path.isdir(fire_out_path):\n",
    "        os.mkdir(fire_out_path)\n",
    "\n",
    "    lon_res, lat_res, new_bbox = get_fire_grid_bounds(bbox, scale)\n",
    "    boundaries.at[i, 'fire_grid_bbox'] = tuple(new_bbox)\n",
    "    ds = generate_static_data(df, lon_res, lat_res, new_bbox, fire_out_path)\n",
    "\n",
    "    a = generate_daily_fire_footprint(inc_id, ref_ds, fire_pixels, new_bbox, out_path)"
   ]
  },
  {
   "cell_type": "code",
   "execution_count": 248,
   "id": "e9aa6c48",
   "metadata": {},
   "outputs": [
    {
     "data": {
      "text/plain": [
       "(46, 29, 30)"
      ]
     },
     "execution_count": 248,
     "metadata": {},
     "output_type": "execute_result"
    }
   ],
   "source": [
    "a.RasterXSize, a.RasterYSize, a.RasterCount"
   ]
  },
  {
   "cell_type": "code",
   "execution_count": 251,
   "id": "ad0575c5",
   "metadata": {},
   "outputs": [
    {
     "data": {
      "text/plain": [
       "(46, 29, 3)"
      ]
     },
     "execution_count": 251,
     "metadata": {},
     "output_type": "execute_result"
    }
   ],
   "source": [
    "ds.RasterXSize, ds.RasterYSize, ds.RasterCount"
   ]
  },
  {
   "cell_type": "code",
   "execution_count": 222,
   "id": "34a869a2",
   "metadata": {},
   "outputs": [],
   "source": [
    "inc_id = '11926606'\n",
    "\n",
    "ex_fire = fire_pixels[fire_pixels['INCIDENT_IDENTIFIER'] == inc_id]\n",
    "bbox = boundaries.set_index('INCIDENT_IDENTIFIER').loc[inc_id, 'bbox']\n",
    "lon_res, lat_res, fbbox = get_fire_grid_bounds(bbox, 0.6, buffer=0)\n",
    "fbbox2 = [[fbbox[1], fbbox[3]], [fbbox[0], fbbox[2]]]\n",
    "\n",
    "ref_ds_path = f'data/clean/fire_histories_2/{inc_id}/static_data.vrt'\n",
    "ref_ds = gdal.Open(ref_ds_path)\n",
    "size = (ref_ds.RasterYSize, ref_ds.RasterXSize)"
   ]
  },
  {
   "cell_type": "markdown",
   "id": "3e08f239",
   "metadata": {},
   "source": [
    "``SCALE ~= scale / 0.2``"
   ]
  },
  {
   "cell_type": "code",
   "execution_count": 223,
   "id": "2133b237",
   "metadata": {},
   "outputs": [],
   "source": [
    "SCALE = 3\n",
    "size = SCALE * np.asarray(size)"
   ]
  },
  {
   "cell_type": "code",
   "execution_count": 224,
   "id": "1d4bf92c",
   "metadata": {},
   "outputs": [],
   "source": [
    "days = list(ex_fire['ACQ_DATE'].drop_duplicates())\n",
    "first_day = dt.datetime.strptime(days[0], '%Y-%m-%d')\n",
    "last_day = dt.datetime.strptime(days[-1], '%Y-%m-%d')\n",
    "delta = last_day - first_day\n",
    "all_days = [first_day + dt.timedelta(days=i) for i in range(delta.days + 1)]\n",
    "all_days = [day.strftime('%Y-%m-%d') for day in all_days]"
   ]
  },
  {
   "cell_type": "code",
   "execution_count": 229,
   "id": "e372a054",
   "metadata": {},
   "outputs": [],
   "source": [
    "drv = gdal.GetDriverByName(\"GTiff\")\n",
    "width = int(size[1])\n",
    "height = int(size[0])\n",
    "ds = drv.Create(\"test5.tif\", width, height, len(all_days), gdal.GDT_Float32)"
   ]
  },
  {
   "cell_type": "code",
   "execution_count": 230,
   "id": "ed0e9963",
   "metadata": {},
   "outputs": [],
   "source": [
    "for i, day in enumerate(all_days):\n",
    "    if i == 0:\n",
    "        ex_fire_day = ex_fire.query('ACQ_DATE == @day & ACQ_TIME < 1200')\n",
    "    else:\n",
    "        last_day = all_days[i-1]\n",
    "        ex_fire_day = ex_fire.query('(ACQ_DATE == @day & ACQ_TIME < 1200) |'\n",
    "                  ' (ACQ_DATE == @last_day & ACQ_TIME >= 1200) ')\n",
    "    z, y, x = np.histogram2d(ex_fire_day['LATITUDE'], ex_fire_day['LONGITUDE'], \n",
    "                             bins=size, range=fbbox2)\n",
    "    z = np.flip(z, axis=0)\n",
    "\n",
    "    height, width = z.shape\n",
    "\n",
    "\n",
    "    ds.GetRasterBand(i+1).WriteArray(z)\n",
    "    tr = np.asarray(ref_ds.GetGeoTransform())\n",
    "    tr[1] /= SCALE\n",
    "    tr[5] /= SCALE\n",
    "\n",
    "    ds.SetGeoTransform(tuple(tr))\n",
    "\n",
    "    tr = ref_ds.GetGeoTransform()\n",
    "ds2 = gdal.Warp(f'data/clean/fire_histories_2/{inc_id}/daily_fire_footprint.vrt', ds, format='VRT', xRes=abs(tr[1]), yRes=abs(tr[5]), \n",
    "                         resampleAlg='cubic', outputBounds=fbbox)"
   ]
  },
  {
   "cell_type": "code",
   "execution_count": 5,
   "id": "28514f46",
   "metadata": {},
   "outputs": [
    {
     "data": {
      "text/html": [
       "<div>\n",
       "<style scoped>\n",
       "    .dataframe tbody tr th:only-of-type {\n",
       "        vertical-align: middle;\n",
       "    }\n",
       "\n",
       "    .dataframe tbody tr th {\n",
       "        vertical-align: top;\n",
       "    }\n",
       "\n",
       "    .dataframe thead th {\n",
       "        text-align: right;\n",
       "    }\n",
       "</style>\n",
       "<table border=\"1\" class=\"dataframe\">\n",
       "  <thead>\n",
       "    <tr style=\"text-align: right;\">\n",
       "      <th></th>\n",
       "      <th>layer</th>\n",
       "      <th>path</th>\n",
       "      <th>impute</th>\n",
       "    </tr>\n",
       "  </thead>\n",
       "  <tbody>\n",
       "    <tr>\n",
       "      <th>0</th>\n",
       "      <td>evc</td>\n",
       "      <td>C:\\Users\\mit\\Dropbox (MIT)\\wildfire_repo\\LF201...</td>\n",
       "      <td>near</td>\n",
       "    </tr>\n",
       "    <tr>\n",
       "      <th>1</th>\n",
       "      <td>slope</td>\n",
       "      <td>C:\\Users\\mit\\Dropbox (MIT)\\wildfire_repo\\LF201...</td>\n",
       "      <td>bilinear</td>\n",
       "    </tr>\n",
       "    <tr>\n",
       "      <th>2</th>\n",
       "      <td>aspect</td>\n",
       "      <td>C:\\Users\\mit\\Dropbox (MIT)\\wildfire_repo\\LF201...</td>\n",
       "      <td>near</td>\n",
       "    </tr>\n",
       "  </tbody>\n",
       "</table>\n",
       "</div>"
      ],
      "text/plain": [
       "    layer                                               path    impute\n",
       "0     evc  C:\\Users\\mit\\Dropbox (MIT)\\wildfire_repo\\LF201...      near\n",
       "1   slope  C:\\Users\\mit\\Dropbox (MIT)\\wildfire_repo\\LF201...  bilinear\n",
       "2  aspect  C:\\Users\\mit\\Dropbox (MIT)\\wildfire_repo\\LF201...      near"
      ]
     },
     "execution_count": 5,
     "metadata": {},
     "output_type": "execute_result"
    }
   ],
   "source": [
    "df = pd.read_csv('data/input/static_data_params.csv')\n",
    "dropbox_path  = r\"C:\\Users\\mit\\Dropbox (MIT)\"\n",
    "df['path'] = dropbox_path + \"\\\\\" + df['path']\n",
    "df"
   ]
  },
  {
   "cell_type": "code",
   "execution_count": 6,
   "id": "4ef48f1c",
   "metadata": {},
   "outputs": [],
   "source": [
    "boundaries = pd.read_pickle('data/clean/merged_boundaries.pkl')"
   ]
  },
  {
   "cell_type": "code",
   "execution_count": 81,
   "id": "ccb48ef9",
   "metadata": {},
   "outputs": [],
   "source": [
    "for i, fire in boundaries.iterrows():\n",
    "    \n",
    "    inc_id = fire['INCIDENT_IDENTIFIER']\n",
    "    fire_out_path = f'{out_path}/{inc_id}/static_data.vrt'\n",
    "    try:\n",
    "        a = gdal.Open(fire_out_path)\n",
    "        b = a.GetRasterBand(3).ReadAsArray()\n",
    "        assert b is not None\n",
    "    except:\n",
    "        print(inc_id)"
   ]
  },
  {
   "cell_type": "code",
   "execution_count": 140,
   "id": "3899c0c1",
   "metadata": {},
   "outputs": [],
   "source": [
    "def extract_hrrr(time, codes, save_dir, fxx=0):\n",
    "    \n",
    "    # get HRRR forecast initialization at this time (should be real-time weather)\n",
    "    H = Herbie(time, model='hrrr', product='sfc', fxx=fxx, save_dir=save_dir)\n",
    "    \n",
    "    herbie_regex = '|'.join(codes)\n",
    "    \n",
    "    print(dt.datetime.now())\n",
    "    original_out = sys.stdout\n",
    "    new_stdout = io.StringIO()\n",
    "    sys.stdout = new_stdout\n",
    "    \n",
    "    H.download(herbie_regex)\n",
    "    \n",
    "    output = new_stdout.getvalue()\n",
    "    sys.stdout = original_out\n",
    "    print(dt.datetime.now())\n",
    "    \n",
    "    l = output.split('GRIB_message')[1:]\n",
    "    lookup = {code : [i for i, string in enumerate(l) if code in string] for code in codes}\n",
    "\n",
    "    lens = list(set([len(lookup[key]) for key in lookup]))\n",
    "    if lens != [1]:\n",
    "        raise ValueError('Merge ambiguity for HRRR bands on download')\n",
    "    \n",
    "    band_lookup = {i:lookup[i][0]+1 for i in lookup}\n",
    "    \n",
    "    return band_lookup"
   ]
  },
  {
   "cell_type": "code",
   "execution_count": 101,
   "id": "828c7d95",
   "metadata": {},
   "outputs": [],
   "source": [
    "import datetime as dt"
   ]
  },
  {
   "cell_type": "code",
   "execution_count": 133,
   "id": "ccd5c525",
   "metadata": {},
   "outputs": [],
   "source": [
    "fields = pd.read_csv('data/input/hrrr_fields.csv')\n",
    "codes = list(fields['download_code'])"
   ]
  },
  {
   "cell_type": "code",
   "execution_count": 118,
   "id": "712a5663",
   "metadata": {},
   "outputs": [
    {
     "data": {
      "text/plain": [
       "'C:\\\\Users\\\\mit\\\\Dropbox (MIT)'"
      ]
     },
     "execution_count": 118,
     "metadata": {},
     "output_type": "execute_result"
    }
   ],
   "source": [
    "dropbox_path"
   ]
  },
  {
   "cell_type": "code",
   "execution_count": 145,
   "id": "ce0437e1",
   "metadata": {},
   "outputs": [],
   "source": [
    "import json"
   ]
  },
  {
   "cell_type": "code",
   "execution_count": 160,
   "id": "357d4d9e",
   "metadata": {},
   "outputs": [
    {
     "name": "stdout",
     "output_type": "stream",
     "text": [
      "🏋🏻‍♂️ Found \u001b[32m2020-Jan-01 00:00 UTC F00\u001b[m [HRRR] [product=sfc] GRIB2 file from \u001b[38;5;202maws\u001b[m and index file from \u001b[38;5;202maws\u001b[m.                                                                                                                                                       \n",
      "2022-01-19 17:05:53.951060\n",
      "2022-01-19 17:05:54.285441\n"
     ]
    }
   ],
   "source": [
    "H = Herbie(time, model='hrrr', product='sfc', fxx=fxx, save_dir='data')\n",
    "\n",
    "herbie_regex = '|'.join(codes)\n",
    "\n",
    "print(dt.datetime.now())\n",
    "original_out = sys.stdout\n",
    "new_stdout = io.StringIO()\n",
    "sys.stdout = new_stdout\n",
    "\n",
    "H.download(herbie_regex)\n",
    "\n",
    "output = new_stdout.getvalue()\n",
    "sys.stdout = original_out\n",
    "print(dt.datetime.now())"
   ]
  },
  {
   "cell_type": "code",
   "execution_count": 161,
   "id": "05e76367",
   "metadata": {},
   "outputs": [
    {
     "data": {
      "text/plain": [
       "'🌉 Already have local copy --> C:\\\\Users\\\\mit\\\\Documents\\\\GitHub\\\\wildfires\\\\data\\\\hrrr\\\\20200101\\\\hrrr.t00z.wrfsfcf00.grib2.subset_54-57-66-68-71-72-77\\n'"
      ]
     },
     "execution_count": 161,
     "metadata": {},
     "output_type": "execute_result"
    }
   ],
   "source": [
    "output"
   ]
  },
  {
   "cell_type": "code",
   "execution_count": null,
   "id": "7ae04269",
   "metadata": {},
   "outputs": [],
   "source": [
    "H.download(herbie_regex)\n",
    "\n",
    "output = new_stdout.getvalue()\n",
    "sys.stdout = original_out\n",
    "print(dt.datetime.now())\n",
    "\n",
    "l = output.split('GRIB_message')[1:]\n",
    "lookup = {code : [i for i, string in enumerate(l) if code in string] for code in codes}\n",
    "\n",
    "lens = list(set([len(lookup[key]) for key in lookup]))\n",
    "if lens != [1]:\n",
    "    raise ValueError('Merge ambiguity for HRRR bands on download')"
   ]
  },
  {
   "cell_type": "code",
   "execution_count": 168,
   "id": "e4391aab",
   "metadata": {},
   "outputs": [
    {
     "data": {
      "text/plain": [
       "<module 'weather' from 'C:\\\\Users\\\\mit\\\\Documents\\\\GitHub\\\\wildfires\\\\weather.py'>"
      ]
     },
     "execution_count": 168,
     "metadata": {},
     "output_type": "execute_result"
    }
   ],
   "source": [
    "import importlib\n",
    "importlib.reload(weather)"
   ]
  },
  {
   "cell_type": "code",
   "execution_count": 170,
   "id": "a80dd23f",
   "metadata": {},
   "outputs": [
    {
     "data": {
      "text/plain": [
       "['TMP:2 m',\n",
       " 'SPFH:2 m',\n",
       " 'UGRD:10 m',\n",
       " 'VGRD:10 m',\n",
       " 'LTNG',\n",
       " 'PRATE',\n",
       " 'PRES:surface']"
      ]
     },
     "execution_count": 170,
     "metadata": {},
     "output_type": "execute_result"
    }
   ],
   "source": [
    "codes"
   ]
  },
  {
   "cell_type": "code",
   "execution_count": 171,
   "id": "646fb430",
   "metadata": {},
   "outputs": [
    {
     "name": "stdout",
     "output_type": "stream",
     "text": [
      "🏋🏻‍♂️ Found \u001b[32m2020-Jan-01 12:00 UTC F00\u001b[m [HRRR] [product=sfc] GRIB2 file from \u001b[38;5;202maws\u001b[m and index file from \u001b[38;5;202maws\u001b[m.                                                                                                                                                       \n",
      "🏋🏻‍♂️ Found \u001b[32m2020-Jan-02 12:00 UTC F00\u001b[m [HRRR] [product=sfc] GRIB2 file from \u001b[38;5;202maws\u001b[m and index file from \u001b[38;5;202maws\u001b[m.                                                                                                                                                       \n",
      "🏋🏻‍♂️ Found \u001b[32m2020-Jan-03 12:00 UTC F00\u001b[m [HRRR] [product=sfc] GRIB2 file from \u001b[38;5;202maws\u001b[m and index file from \u001b[38;5;202maws\u001b[m.                                                                                                                                                       \n"
     ]
    }
   ],
   "source": [
    "first = dt.datetime(2020, 1, 1, 12, 0)\n",
    "in_path = 'data'\n",
    "out_path = 'C:\\\\Users\\\\mit\\\\Dropbox (MIT)\\\\wildfire_repo'\n",
    "weather.download_all_hrrr(codes, first, 3, in_path, out_path, fxx=0)"
   ]
  },
  {
   "cell_type": "code",
   "execution_count": 237,
   "id": "33bf5a9c",
   "metadata": {},
   "outputs": [],
   "source": [
    "del ds\n",
    "del ds2"
   ]
  },
  {
   "cell_type": "code",
   "execution_count": 231,
   "id": "c91a2c95",
   "metadata": {},
   "outputs": [],
   "source": [
    "arr = np.asarray([ds2.GetRasterBand(i+1).ReadAsArray() for i in range(ds2.RasterCount)])"
   ]
  },
  {
   "cell_type": "code",
   "execution_count": 268,
   "id": "5aebbeb9",
   "metadata": {},
   "outputs": [
    {
     "data": {
      "text/plain": [
       "['data/clean/fire_histories_3\\\\11684732',\n",
       " 'data/clean/fire_histories_3\\\\11689311',\n",
       " 'data/clean/fire_histories_3\\\\11691297',\n",
       " 'data/clean/fire_histories_3\\\\11691594',\n",
       " 'data/clean/fire_histories_3\\\\11691738',\n",
       " 'data/clean/fire_histories_3\\\\11692955',\n",
       " 'data/clean/fire_histories_3\\\\11694233',\n",
       " 'data/clean/fire_histories_3\\\\11695713',\n",
       " 'data/clean/fire_histories_3\\\\11696761',\n",
       " 'data/clean/fire_histories_3\\\\11696993',\n",
       " 'data/clean/fire_histories_3\\\\11697391',\n",
       " 'data/clean/fire_histories_3\\\\11697544',\n",
       " 'data/clean/fire_histories_3\\\\11698370',\n",
       " 'data/clean/fire_histories_3\\\\11698585',\n",
       " 'data/clean/fire_histories_3\\\\11698619',\n",
       " 'data/clean/fire_histories_3\\\\11700201',\n",
       " 'data/clean/fire_histories_3\\\\11700584',\n",
       " 'data/clean/fire_histories_3\\\\11701645',\n",
       " 'data/clean/fire_histories_3\\\\11701776',\n",
       " 'data/clean/fire_histories_3\\\\11701944',\n",
       " 'data/clean/fire_histories_3\\\\11702064',\n",
       " 'data/clean/fire_histories_3\\\\11702913',\n",
       " 'data/clean/fire_histories_3\\\\11706093',\n",
       " 'data/clean/fire_histories_3\\\\11707715',\n",
       " 'data/clean/fire_histories_3\\\\11709158',\n",
       " 'data/clean/fire_histories_3\\\\11709364',\n",
       " 'data/clean/fire_histories_3\\\\11711060',\n",
       " 'data/clean/fire_histories_3\\\\11711845',\n",
       " 'data/clean/fire_histories_3\\\\11711903',\n",
       " 'data/clean/fire_histories_3\\\\11712859',\n",
       " 'data/clean/fire_histories_3\\\\11712951',\n",
       " 'data/clean/fire_histories_3\\\\11713665',\n",
       " 'data/clean/fire_histories_3\\\\11713738',\n",
       " 'data/clean/fire_histories_3\\\\11714248',\n",
       " 'data/clean/fire_histories_3\\\\11714280',\n",
       " 'data/clean/fire_histories_3\\\\11714439',\n",
       " 'data/clean/fire_histories_3\\\\11714666',\n",
       " 'data/clean/fire_histories_3\\\\11714782',\n",
       " 'data/clean/fire_histories_3\\\\11714885',\n",
       " 'data/clean/fire_histories_3\\\\11714957',\n",
       " 'data/clean/fire_histories_3\\\\11714999',\n",
       " 'data/clean/fire_histories_3\\\\11715039',\n",
       " 'data/clean/fire_histories_3\\\\11715287',\n",
       " 'data/clean/fire_histories_3\\\\11715332',\n",
       " 'data/clean/fire_histories_3\\\\11715478',\n",
       " 'data/clean/fire_histories_3\\\\11715569',\n",
       " 'data/clean/fire_histories_3\\\\11715744',\n",
       " 'data/clean/fire_histories_3\\\\11716626',\n",
       " 'data/clean/fire_histories_3\\\\11718083',\n",
       " 'data/clean/fire_histories_3\\\\11718113',\n",
       " 'data/clean/fire_histories_3\\\\11718215',\n",
       " 'data/clean/fire_histories_3\\\\11718559',\n",
       " 'data/clean/fire_histories_3\\\\11718702',\n",
       " 'data/clean/fire_histories_3\\\\11718860',\n",
       " 'data/clean/fire_histories_3\\\\11718888',\n",
       " 'data/clean/fire_histories_3\\\\11718962',\n",
       " 'data/clean/fire_histories_3\\\\11719066',\n",
       " 'data/clean/fire_histories_3\\\\11719581',\n",
       " 'data/clean/fire_histories_3\\\\11719605',\n",
       " 'data/clean/fire_histories_3\\\\11719643',\n",
       " 'data/clean/fire_histories_3\\\\11719716',\n",
       " 'data/clean/fire_histories_3\\\\11719914',\n",
       " 'data/clean/fire_histories_3\\\\11720018',\n",
       " 'data/clean/fire_histories_3\\\\11720056',\n",
       " 'data/clean/fire_histories_3\\\\11720065',\n",
       " 'data/clean/fire_histories_3\\\\11720106',\n",
       " 'data/clean/fire_histories_3\\\\11720135',\n",
       " 'data/clean/fire_histories_3\\\\11720176',\n",
       " 'data/clean/fire_histories_3\\\\11721009',\n",
       " 'data/clean/fire_histories_3\\\\11721584',\n",
       " 'data/clean/fire_histories_3\\\\11721706',\n",
       " 'data/clean/fire_histories_3\\\\11722418',\n",
       " 'data/clean/fire_histories_3\\\\11722709',\n",
       " 'data/clean/fire_histories_3\\\\11722738',\n",
       " 'data/clean/fire_histories_3\\\\11722938',\n",
       " 'data/clean/fire_histories_3\\\\11723262',\n",
       " 'data/clean/fire_histories_3\\\\11723586',\n",
       " 'data/clean/fire_histories_3\\\\11723685',\n",
       " 'data/clean/fire_histories_3\\\\11723968',\n",
       " 'data/clean/fire_histories_3\\\\11724390',\n",
       " 'data/clean/fire_histories_3\\\\11724434',\n",
       " 'data/clean/fire_histories_3\\\\11724450',\n",
       " 'data/clean/fire_histories_3\\\\11724979',\n",
       " 'data/clean/fire_histories_3\\\\11726754',\n",
       " 'data/clean/fire_histories_3\\\\11726856',\n",
       " 'data/clean/fire_histories_3\\\\11726969',\n",
       " 'data/clean/fire_histories_3\\\\11727053',\n",
       " 'data/clean/fire_histories_3\\\\11727462',\n",
       " 'data/clean/fire_histories_3\\\\11727480',\n",
       " 'data/clean/fire_histories_3\\\\11727581',\n",
       " 'data/clean/fire_histories_3\\\\11727752',\n",
       " 'data/clean/fire_histories_3\\\\11728107',\n",
       " 'data/clean/fire_histories_3\\\\11728691',\n",
       " 'data/clean/fire_histories_3\\\\11731918',\n",
       " 'data/clean/fire_histories_3\\\\11732644',\n",
       " 'data/clean/fire_histories_3\\\\11732798',\n",
       " 'data/clean/fire_histories_3\\\\11733300',\n",
       " 'data/clean/fire_histories_3\\\\11734391',\n",
       " 'data/clean/fire_histories_3\\\\11734551',\n",
       " 'data/clean/fire_histories_3\\\\11734865',\n",
       " 'data/clean/fire_histories_3\\\\11734875',\n",
       " 'data/clean/fire_histories_3\\\\11735378',\n",
       " 'data/clean/fire_histories_3\\\\11735451',\n",
       " 'data/clean/fire_histories_3\\\\11735462',\n",
       " 'data/clean/fire_histories_3\\\\11735508',\n",
       " 'data/clean/fire_histories_3\\\\11736184',\n",
       " 'data/clean/fire_histories_3\\\\11739180',\n",
       " 'data/clean/fire_histories_3\\\\11745300',\n",
       " 'data/clean/fire_histories_3\\\\11745474',\n",
       " 'data/clean/fire_histories_3\\\\11745616',\n",
       " 'data/clean/fire_histories_3\\\\11745720',\n",
       " 'data/clean/fire_histories_3\\\\11746793',\n",
       " 'data/clean/fire_histories_3\\\\11749495',\n",
       " 'data/clean/fire_histories_3\\\\11750151',\n",
       " 'data/clean/fire_histories_3\\\\11751212',\n",
       " 'data/clean/fire_histories_3\\\\11751788',\n",
       " 'data/clean/fire_histories_3\\\\11752414',\n",
       " 'data/clean/fire_histories_3\\\\11753206',\n",
       " 'data/clean/fire_histories_3\\\\11753392',\n",
       " 'data/clean/fire_histories_3\\\\11753509',\n",
       " 'data/clean/fire_histories_3\\\\11753648',\n",
       " 'data/clean/fire_histories_3\\\\11754053',\n",
       " 'data/clean/fire_histories_3\\\\11754449',\n",
       " 'data/clean/fire_histories_3\\\\11754749',\n",
       " 'data/clean/fire_histories_3\\\\11754883',\n",
       " 'data/clean/fire_histories_3\\\\11755239',\n",
       " 'data/clean/fire_histories_3\\\\11755293',\n",
       " 'data/clean/fire_histories_3\\\\11755780',\n",
       " 'data/clean/fire_histories_3\\\\11756148',\n",
       " 'data/clean/fire_histories_3\\\\11758177',\n",
       " 'data/clean/fire_histories_3\\\\11758289',\n",
       " 'data/clean/fire_histories_3\\\\11758807',\n",
       " 'data/clean/fire_histories_3\\\\11759379',\n",
       " 'data/clean/fire_histories_3\\\\11760113',\n",
       " 'data/clean/fire_histories_3\\\\11760806',\n",
       " 'data/clean/fire_histories_3\\\\11761034',\n",
       " 'data/clean/fire_histories_3\\\\11761596',\n",
       " 'data/clean/fire_histories_3\\\\11762522',\n",
       " 'data/clean/fire_histories_3\\\\11762743',\n",
       " 'data/clean/fire_histories_3\\\\11763515',\n",
       " 'data/clean/fire_histories_3\\\\11763810',\n",
       " 'data/clean/fire_histories_3\\\\11764661',\n",
       " 'data/clean/fire_histories_3\\\\11765024',\n",
       " 'data/clean/fire_histories_3\\\\11766979',\n",
       " 'data/clean/fire_histories_3\\\\11767022',\n",
       " 'data/clean/fire_histories_3\\\\11767577',\n",
       " 'data/clean/fire_histories_3\\\\11768019',\n",
       " 'data/clean/fire_histories_3\\\\11768751',\n",
       " 'data/clean/fire_histories_3\\\\11769052',\n",
       " 'data/clean/fire_histories_3\\\\11769090',\n",
       " 'data/clean/fire_histories_3\\\\11769930',\n",
       " 'data/clean/fire_histories_3\\\\11770007',\n",
       " 'data/clean/fire_histories_3\\\\11770718',\n",
       " 'data/clean/fire_histories_3\\\\11770897',\n",
       " 'data/clean/fire_histories_3\\\\11771025',\n",
       " 'data/clean/fire_histories_3\\\\11771414',\n",
       " 'data/clean/fire_histories_3\\\\11771435',\n",
       " 'data/clean/fire_histories_3\\\\11771894',\n",
       " 'data/clean/fire_histories_3\\\\11772135',\n",
       " 'data/clean/fire_histories_3\\\\11772978',\n",
       " 'data/clean/fire_histories_3\\\\11773188',\n",
       " 'data/clean/fire_histories_3\\\\11773470',\n",
       " 'data/clean/fire_histories_3\\\\11778859',\n",
       " 'data/clean/fire_histories_3\\\\11779064',\n",
       " 'data/clean/fire_histories_3\\\\11780184',\n",
       " 'data/clean/fire_histories_3\\\\11780445',\n",
       " 'data/clean/fire_histories_3\\\\11780550',\n",
       " 'data/clean/fire_histories_3\\\\11780603',\n",
       " 'data/clean/fire_histories_3\\\\11780644',\n",
       " 'data/clean/fire_histories_3\\\\11780722',\n",
       " 'data/clean/fire_histories_3\\\\11782721',\n",
       " 'data/clean/fire_histories_3\\\\11784522',\n",
       " 'data/clean/fire_histories_3\\\\11785855',\n",
       " 'data/clean/fire_histories_3\\\\11785965',\n",
       " 'data/clean/fire_histories_3\\\\11787832',\n",
       " 'data/clean/fire_histories_3\\\\11788276',\n",
       " 'data/clean/fire_histories_3\\\\11788363',\n",
       " 'data/clean/fire_histories_3\\\\11789031',\n",
       " 'data/clean/fire_histories_3\\\\11791096',\n",
       " 'data/clean/fire_histories_3\\\\11792567',\n",
       " 'data/clean/fire_histories_3\\\\11793240',\n",
       " 'data/clean/fire_histories_3\\\\11794441',\n",
       " 'data/clean/fire_histories_3\\\\11797008',\n",
       " 'data/clean/fire_histories_3\\\\11797248',\n",
       " 'data/clean/fire_histories_3\\\\11797475',\n",
       " 'data/clean/fire_histories_3\\\\11798531',\n",
       " 'data/clean/fire_histories_3\\\\11800747',\n",
       " 'data/clean/fire_histories_3\\\\11801124',\n",
       " 'data/clean/fire_histories_3\\\\11808283',\n",
       " 'data/clean/fire_histories_3\\\\11810532',\n",
       " 'data/clean/fire_histories_3\\\\11812687',\n",
       " 'data/clean/fire_histories_3\\\\11813057',\n",
       " 'data/clean/fire_histories_3\\\\11813882',\n",
       " 'data/clean/fire_histories_3\\\\11814290',\n",
       " 'data/clean/fire_histories_3\\\\11815161',\n",
       " 'data/clean/fire_histories_3\\\\11815599',\n",
       " 'data/clean/fire_histories_3\\\\11819249',\n",
       " 'data/clean/fire_histories_3\\\\11819820',\n",
       " 'data/clean/fire_histories_3\\\\11819910',\n",
       " 'data/clean/fire_histories_3\\\\11819967',\n",
       " 'data/clean/fire_histories_3\\\\11820649',\n",
       " 'data/clean/fire_histories_3\\\\11820700',\n",
       " 'data/clean/fire_histories_3\\\\11821277',\n",
       " 'data/clean/fire_histories_3\\\\11821765',\n",
       " 'data/clean/fire_histories_3\\\\11822033',\n",
       " 'data/clean/fire_histories_3\\\\11822802',\n",
       " 'data/clean/fire_histories_3\\\\11823218',\n",
       " 'data/clean/fire_histories_3\\\\11823594',\n",
       " 'data/clean/fire_histories_3\\\\11824243',\n",
       " 'data/clean/fire_histories_3\\\\11825368',\n",
       " 'data/clean/fire_histories_3\\\\11829054',\n",
       " 'data/clean/fire_histories_3\\\\11830101',\n",
       " 'data/clean/fire_histories_3\\\\11831221',\n",
       " 'data/clean/fire_histories_3\\\\11831522',\n",
       " 'data/clean/fire_histories_3\\\\11831546',\n",
       " 'data/clean/fire_histories_3\\\\11831570',\n",
       " 'data/clean/fire_histories_3\\\\11831764',\n",
       " 'data/clean/fire_histories_3\\\\11832454',\n",
       " 'data/clean/fire_histories_3\\\\11832726',\n",
       " 'data/clean/fire_histories_3\\\\11835746',\n",
       " 'data/clean/fire_histories_3\\\\11836658',\n",
       " 'data/clean/fire_histories_3\\\\11836897',\n",
       " 'data/clean/fire_histories_3\\\\11837350',\n",
       " 'data/clean/fire_histories_3\\\\11837476',\n",
       " 'data/clean/fire_histories_3\\\\11840753',\n",
       " 'data/clean/fire_histories_3\\\\11843048',\n",
       " 'data/clean/fire_histories_3\\\\11843080',\n",
       " 'data/clean/fire_histories_3\\\\11843135',\n",
       " 'data/clean/fire_histories_3\\\\11853977',\n",
       " 'data/clean/fire_histories_3\\\\11854625',\n",
       " 'data/clean/fire_histories_3\\\\11855521',\n",
       " 'data/clean/fire_histories_3\\\\11856910',\n",
       " 'data/clean/fire_histories_3\\\\11856938',\n",
       " 'data/clean/fire_histories_3\\\\11862945',\n",
       " 'data/clean/fire_histories_3\\\\11863709',\n",
       " 'data/clean/fire_histories_3\\\\11865133',\n",
       " 'data/clean/fire_histories_3\\\\11865777',\n",
       " 'data/clean/fire_histories_3\\\\11873463',\n",
       " 'data/clean/fire_histories_3\\\\11873603',\n",
       " 'data/clean/fire_histories_3\\\\11881048',\n",
       " 'data/clean/fire_histories_3\\\\11881214',\n",
       " 'data/clean/fire_histories_3\\\\11883908',\n",
       " 'data/clean/fire_histories_3\\\\11884077',\n",
       " 'data/clean/fire_histories_3\\\\11884679',\n",
       " 'data/clean/fire_histories_3\\\\11885085',\n",
       " 'data/clean/fire_histories_3\\\\11885771',\n",
       " 'data/clean/fire_histories_3\\\\11886442',\n",
       " 'data/clean/fire_histories_3\\\\11886731',\n",
       " 'data/clean/fire_histories_3\\\\11886793',\n",
       " 'data/clean/fire_histories_3\\\\11887587',\n",
       " 'data/clean/fire_histories_3\\\\11889940',\n",
       " 'data/clean/fire_histories_3\\\\11890738',\n",
       " 'data/clean/fire_histories_3\\\\11891738',\n",
       " 'data/clean/fire_histories_3\\\\11892312',\n",
       " 'data/clean/fire_histories_3\\\\11894150',\n",
       " 'data/clean/fire_histories_3\\\\11894317',\n",
       " 'data/clean/fire_histories_3\\\\11895061',\n",
       " 'data/clean/fire_histories_3\\\\11895218',\n",
       " 'data/clean/fire_histories_3\\\\11895300',\n",
       " 'data/clean/fire_histories_3\\\\11896373',\n",
       " 'data/clean/fire_histories_3\\\\11898597',\n",
       " 'data/clean/fire_histories_3\\\\11899037',\n",
       " 'data/clean/fire_histories_3\\\\11899577',\n",
       " 'data/clean/fire_histories_3\\\\11900796',\n",
       " 'data/clean/fire_histories_3\\\\11901409',\n",
       " 'data/clean/fire_histories_3\\\\11902229',\n",
       " 'data/clean/fire_histories_3\\\\11902259',\n",
       " 'data/clean/fire_histories_3\\\\11903060',\n",
       " 'data/clean/fire_histories_3\\\\11904157',\n",
       " 'data/clean/fire_histories_3\\\\11904234',\n",
       " 'data/clean/fire_histories_3\\\\11904289',\n",
       " 'data/clean/fire_histories_3\\\\11905209',\n",
       " 'data/clean/fire_histories_3\\\\11905673',\n",
       " 'data/clean/fire_histories_3\\\\11905820',\n",
       " 'data/clean/fire_histories_3\\\\11905900',\n",
       " 'data/clean/fire_histories_3\\\\11906039',\n",
       " 'data/clean/fire_histories_3\\\\11907367',\n",
       " 'data/clean/fire_histories_3\\\\11907415',\n",
       " 'data/clean/fire_histories_3\\\\11908866',\n",
       " 'data/clean/fire_histories_3\\\\11916675',\n",
       " 'data/clean/fire_histories_3\\\\11916904',\n",
       " 'data/clean/fire_histories_3\\\\11917302',\n",
       " 'data/clean/fire_histories_3\\\\11917747',\n",
       " 'data/clean/fire_histories_3\\\\11920769',\n",
       " 'data/clean/fire_histories_3\\\\11922811',\n",
       " 'data/clean/fire_histories_3\\\\11923345',\n",
       " 'data/clean/fire_histories_3\\\\11923419',\n",
       " 'data/clean/fire_histories_3\\\\11923647',\n",
       " 'data/clean/fire_histories_3\\\\11926606',\n",
       " 'data/clean/fire_histories_3\\\\11928423',\n",
       " 'data/clean/fire_histories_3\\\\11929631',\n",
       " 'data/clean/fire_histories_3\\\\11930517',\n",
       " 'data/clean/fire_histories_3\\\\11933376',\n",
       " 'data/clean/fire_histories_3\\\\11933945',\n",
       " 'data/clean/fire_histories_3\\\\11934511',\n",
       " 'data/clean/fire_histories_3\\\\11936658',\n",
       " 'data/clean/fire_histories_3\\\\11941464',\n",
       " 'data/clean/fire_histories_3\\\\11943503',\n",
       " 'data/clean/fire_histories_3\\\\11944165',\n",
       " 'data/clean/fire_histories_3\\\\11945702',\n",
       " 'data/clean/fire_histories_3\\\\11947539',\n",
       " 'data/clean/fire_histories_3\\\\11948237',\n",
       " 'data/clean/fire_histories_3\\\\11951011',\n",
       " 'data/clean/fire_histories_3\\\\11955066',\n",
       " 'data/clean/fire_histories_3\\\\11956286',\n",
       " 'data/clean/fire_histories_3\\\\11957222',\n",
       " 'data/clean/fire_histories_3\\\\11957511',\n",
       " 'data/clean/fire_histories_3\\\\11958015',\n",
       " 'data/clean/fire_histories_3\\\\11958816',\n",
       " 'data/clean/fire_histories_3\\\\11959066',\n",
       " 'data/clean/fire_histories_3\\\\11959148',\n",
       " 'data/clean/fire_histories_3\\\\11959459',\n",
       " 'data/clean/fire_histories_3\\\\11959746',\n",
       " 'data/clean/fire_histories_3\\\\11959873',\n",
       " 'data/clean/fire_histories_3\\\\11960570',\n",
       " 'data/clean/fire_histories_3\\\\11960984',\n",
       " 'data/clean/fire_histories_3\\\\11961675',\n",
       " 'data/clean/fire_histories_3\\\\11961863',\n",
       " 'data/clean/fire_histories_3\\\\11962084',\n",
       " 'data/clean/fire_histories_3\\\\11962142',\n",
       " 'data/clean/fire_histories_3\\\\11962442',\n",
       " 'data/clean/fire_histories_3\\\\11962812',\n",
       " 'data/clean/fire_histories_3\\\\11963438',\n",
       " 'data/clean/fire_histories_3\\\\11965053',\n",
       " 'data/clean/fire_histories_3\\\\11965678',\n",
       " 'data/clean/fire_histories_3\\\\11966019',\n",
       " 'data/clean/fire_histories_3\\\\11966782',\n",
       " 'data/clean/fire_histories_3\\\\11969659',\n",
       " 'data/clean/fire_histories_3\\\\11970833',\n",
       " 'data/clean/fire_histories_3\\\\11971451',\n",
       " 'data/clean/fire_histories_3\\\\11971568',\n",
       " 'data/clean/fire_histories_3\\\\11971709',\n",
       " 'data/clean/fire_histories_3\\\\11971857',\n",
       " 'data/clean/fire_histories_3\\\\11972018',\n",
       " 'data/clean/fire_histories_3\\\\11972557',\n",
       " 'data/clean/fire_histories_3\\\\11973346',\n",
       " 'data/clean/fire_histories_3\\\\11973856',\n",
       " 'data/clean/fire_histories_3\\\\11975102',\n",
       " 'data/clean/fire_histories_3\\\\11975836',\n",
       " 'data/clean/fire_histories_3\\\\11977405',\n",
       " 'data/clean/fire_histories_3\\\\11978302',\n",
       " 'data/clean/fire_histories_3\\\\11978755',\n",
       " 'data/clean/fire_histories_3\\\\11978937',\n",
       " 'data/clean/fire_histories_3\\\\11979838',\n",
       " 'data/clean/fire_histories_3\\\\11980821',\n",
       " 'data/clean/fire_histories_3\\\\11980913']"
      ]
     },
     "execution_count": 268,
     "metadata": {},
     "output_type": "execute_result"
    }
   ],
   "source": []
  },
  {
   "cell_type": "code",
   "execution_count": 12,
   "id": "62094ada",
   "metadata": {},
   "outputs": [
    {
     "data": {
      "text/plain": [
       "<Figure size 432x288 with 0 Axes>"
      ]
     },
     "metadata": {},
     "output_type": "display_data"
    }
   ],
   "source": [
    "import os\n",
    "import glob\n",
    "from PIL import Image\n",
    "\n",
    "fig = plt.figure()\n",
    "\n",
    "for out_path in glob.glob('data/clean/fire_histories_4/*'):\n",
    "    \n",
    "    ds_path = f'{out_path}/daily_fire_footprint.vrt'\n",
    "    if os.path.isfile(ds_path):\n",
    "        \n",
    "        ds = gdal.Open(ds_path)\n",
    "        arr = np.asarray([ds.GetRasterBand(i+1).ReadAsArray() for i in range(ds.RasterCount)])\n",
    "\n",
    "        ims = []\n",
    "        for i, day in enumerate(arr):\n",
    "            im = plt.imshow(day)\n",
    "            plt.set_cmap(\"hot\")\n",
    "            plt.clim(0,1)\n",
    "            plt.colorbar()\n",
    "            title = ds.GetRasterBand(i+1).GetDescription()\n",
    "            plt.title(title)\n",
    "            plt.savefig(f'{out_path}/{str(i).zfill(4)}.png')\n",
    "            plt.clf()\n",
    "\n",
    "        fp_in = f\"{out_path}/*.png\"\n",
    "        fp_out = f\"{out_path}/daily_fire_footprint.gif\"\n",
    "\n",
    "        pngs = sorted(glob.glob(fp_in))\n",
    "        img, *imgs = [Image.open(f) for f in pngs]\n",
    "\n",
    "        duration = [200 for f in pngs]\n",
    "        duration[-1] = 1000\n",
    "        img.save(fp=fp_out, format='GIF', append_images=imgs,\n",
    "                 save_all=True, duration=duration, loop=0)\n",
    "\n",
    "        rm_files = [os.remove(f) for f in pngs]"
   ]
  },
  {
   "cell_type": "code",
   "execution_count": 11,
   "id": "5673b090",
   "metadata": {},
   "outputs": [
    {
     "data": {
      "text/plain": [
       "''"
      ]
     },
     "execution_count": 11,
     "metadata": {},
     "output_type": "execute_result"
    }
   ],
   "source": [
    "ds.GetRasterBand(i+1).GetDescription()"
   ]
  },
  {
   "cell_type": "code",
   "execution_count": 7,
   "id": "b0280129",
   "metadata": {},
   "outputs": [],
   "source": [
    "import glob\n",
    "from PIL import Image"
   ]
  },
  {
   "cell_type": "code",
   "execution_count": 8,
   "id": "bbbcf9c0",
   "metadata": {},
   "outputs": [
    {
     "data": {
      "text/plain": [
       "<Figure size 432x288 with 0 Axes>"
      ]
     },
     "metadata": {},
     "output_type": "display_data"
    }
   ],
   "source": [
    "out_path = 'data/clean/fire_histories_4/11926606'\n",
    "ds_path = f'{out_path}/daily_fire_footprint.vrt'\n",
    "if os.path.isfile(ds_path):\n",
    "\n",
    "    ds = gdal.Open(ds_path)\n",
    "    arr = np.asarray([ds.GetRasterBand(i+1).ReadAsArray() for i in range(ds.RasterCount)])\n",
    "\n",
    "    ims = []\n",
    "    for i, day in enumerate(arr):\n",
    "        im = plt.imshow(day)\n",
    "        plt.set_cmap(\"hot\")\n",
    "        plt.clim(0,1)\n",
    "        plt.colorbar()\n",
    "        plt.title(f'{i}')\n",
    "        plt.savefig(f'{out_path}/{str(i).zfill(4)}.png')\n",
    "        plt.clf()\n",
    "\n",
    "    fp_in = f\"{out_path}/*.png\"\n",
    "    fp_out = f\"{out_path}/daily_fire_footprint.gif\"\n",
    "\n",
    "    pngs = sorted(glob.glob(fp_in))\n",
    "    img, *imgs = [Image.open(f) for f in pngs]\n",
    "\n",
    "    duration = [200 for f in pngs]\n",
    "    duration[-1] = 1000\n",
    "    img.save(fp=fp_out, format='GIF', append_images=imgs,\n",
    "             save_all=True, duration=duration, loop=0)\n",
    "\n",
    "    rm_files = [os.remove(f) for f in pngs]"
   ]
  },
  {
   "cell_type": "code",
   "execution_count": 273,
   "id": "4e991776",
   "metadata": {},
   "outputs": [
    {
     "data": {
      "text/plain": [
       "True"
      ]
     },
     "execution_count": 273,
     "metadata": {},
     "output_type": "execute_result"
    }
   ],
   "source": [
    "os.path.isfile('data/clean/fire_histories_3/11980913/daily_fire_footprint.vrt')"
   ]
  },
  {
   "cell_type": "code",
   "execution_count": 270,
   "id": "12ec724e",
   "metadata": {},
   "outputs": [
    {
     "data": {
      "text/plain": [
       "'data/clean/fire_histories_3\\\\11980913/daily_fire_footprint.vrt'"
      ]
     },
     "execution_count": 270,
     "metadata": {},
     "output_type": "execute_result"
    }
   ],
   "source": [
    "ds_path"
   ]
  },
  {
   "cell_type": "code",
   "execution_count": 235,
   "id": "620d4240",
   "metadata": {},
   "outputs": [
    {
     "data": {
      "image/png": "[encoded data removed]",
      "text/plain": [
       "<Figure size 360x360 with 1 Axes>"
      ]
     },
     "metadata": {
      "needs_background": "light"
     },
     "output_type": "display_data"
    }
   ],
   "source": [
    "plt.imshow(np.amax(arr, axis=0))\n",
    "plt.clim(0,1)"
   ]
  },
  {
   "cell_type": "code",
   "execution_count": 234,
   "id": "7c7f4388",
   "metadata": {},
   "outputs": [
    {
     "data": {
      "text/plain": [
       "<matplotlib.collections.PathCollection at 0x1fb86138970>"
      ]
     },
     "execution_count": 234,
     "metadata": {},
     "output_type": "execute_result"
    },
    {
     "data": {
      "image/png": "[encoded data removed]",
      "text/plain": [
       "<Figure size 360x360 with 1 Axes>"
      ]
     },
     "metadata": {
      "needs_background": "light"
     },
     "output_type": "display_data"
    }
   ],
   "source": [
    "plt.rcParams['figure.figsize'] = (5, 5)\n",
    "plt.scatter(ex_fire['LONGITUDE'], ex_fire['LATITUDE'], s=2)"
   ]
  },
  {
   "cell_type": "code",
   "execution_count": 137,
   "id": "4d0632af",
   "metadata": {},
   "outputs": [
    {
     "name": "stdout",
     "output_type": "stream",
     "text": [
      "Help on method save in module PIL.Image:\n",
      "\n",
      "save(fp, format=None, **params) method of PIL.PngImagePlugin.PngImageFile instance\n",
      "    Saves this image under the given filename.  If no format is\n",
      "    specified, the format to use is determined from the filename\n",
      "    extension, if possible.\n",
      "    \n",
      "    Keyword options can be used to provide additional instructions\n",
      "    to the writer. If a writer doesn't recognise an option, it is\n",
      "    silently ignored. The available options are described in the\n",
      "    :doc:`image format documentation\n",
      "    <../handbook/image-file-formats>` for each writer.\n",
      "    \n",
      "    You can use a file object instead of a filename. In this case,\n",
      "    you must always specify the format. The file object must\n",
      "    implement the ``seek``, ``tell``, and ``write``\n",
      "    methods, and be opened in binary mode.\n",
      "    \n",
      "    :param fp: A filename (string), pathlib.Path object or file object.\n",
      "    :param format: Optional format override.  If omitted, the\n",
      "       format to use is determined from the filename extension.\n",
      "       If a file object was used instead of a filename, this\n",
      "       parameter should always be used.\n",
      "    :param params: Extra parameters to the image writer.\n",
      "    :returns: None\n",
      "    :exception ValueError: If the output format could not be determined\n",
      "       from the file name.  Use the format option to solve this.\n",
      "    :exception OSError: If the file could not be written.  The file\n",
      "       may have been created, and may contain partial data.\n",
      "\n"
     ]
    }
   ],
   "source": [
    "help(img.save)"
   ]
  },
  {
   "cell_type": "code",
   "execution_count": 133,
   "id": "7137ba5e",
   "metadata": {},
   "outputs": [
    {
     "data": {
      "text/plain": [
       "['sample_fig\\\\0.png',\n",
       " 'sample_fig\\\\1.png',\n",
       " 'sample_fig\\\\10.png',\n",
       " 'sample_fig\\\\11.png',\n",
       " 'sample_fig\\\\12.png',\n",
       " 'sample_fig\\\\13.png',\n",
       " 'sample_fig\\\\14.png',\n",
       " 'sample_fig\\\\15.png',\n",
       " 'sample_fig\\\\16.png',\n",
       " 'sample_fig\\\\17.png',\n",
       " 'sample_fig\\\\18.png',\n",
       " 'sample_fig\\\\19.png',\n",
       " 'sample_fig\\\\2.png',\n",
       " 'sample_fig\\\\20.png',\n",
       " 'sample_fig\\\\21.png',\n",
       " 'sample_fig\\\\22.png',\n",
       " 'sample_fig\\\\23.png',\n",
       " 'sample_fig\\\\24.png',\n",
       " 'sample_fig\\\\25.png',\n",
       " 'sample_fig\\\\26.png',\n",
       " 'sample_fig\\\\27.png',\n",
       " 'sample_fig\\\\28.png',\n",
       " 'sample_fig\\\\29.png',\n",
       " 'sample_fig\\\\3.png',\n",
       " 'sample_fig\\\\30.png',\n",
       " 'sample_fig\\\\31.png',\n",
       " 'sample_fig\\\\32.png',\n",
       " 'sample_fig\\\\33.png',\n",
       " 'sample_fig\\\\34.png',\n",
       " 'sample_fig\\\\35.png',\n",
       " 'sample_fig\\\\36.png',\n",
       " 'sample_fig\\\\37.png',\n",
       " 'sample_fig\\\\38.png',\n",
       " 'sample_fig\\\\39.png',\n",
       " 'sample_fig\\\\4.png',\n",
       " 'sample_fig\\\\40.png',\n",
       " 'sample_fig\\\\41.png',\n",
       " 'sample_fig\\\\42.png',\n",
       " 'sample_fig\\\\43.png',\n",
       " 'sample_fig\\\\44.png',\n",
       " 'sample_fig\\\\45.png',\n",
       " 'sample_fig\\\\5.png',\n",
       " 'sample_fig\\\\6.png',\n",
       " 'sample_fig\\\\7.png',\n",
       " 'sample_fig\\\\8.png',\n",
       " 'sample_fig\\\\9.png']"
      ]
     },
     "execution_count": 133,
     "metadata": {},
     "output_type": "execute_result"
    }
   ],
   "source": [
    "fp_in = f\"{out_path}/*.png\"\n",
    "sorted(glob.glob(fp_in))"
   ]
  },
  {
   "cell_type": "code",
   "execution_count": 116,
   "id": "b24e49c0",
   "metadata": {},
   "outputs": [],
   "source": [
    "plt.show()"
   ]
  },
  {
   "cell_type": "code",
   "execution_count": 41,
   "id": "afc23f85",
   "metadata": {},
   "outputs": [
    {
     "data": {
      "text/plain": [
       "array([[0., 0., 0., 0., 0., 0., 0., 0., 0., 0., 0., 0., 0., 0., 0., 0.,\n",
       "        0.],\n",
       "       [0., 0., 0., 0., 0., 0., 0., 0., 0., 0., 0., 0., 0., 0., 0., 0.,\n",
       "        0.],\n",
       "       [0., 0., 0., 0., 0., 0., 0., 0., 0., 0., 0., 0., 0., 0., 0., 0.,\n",
       "        0.],\n",
       "       [0., 0., 0., 0., 0., 0., 0., 0., 0., 0., 0., 0., 0., 0., 0., 0.,\n",
       "        0.],\n",
       "       [0., 0., 0., 0., 0., 0., 0., 0., 0., 0., 0., 0., 0., 0., 0., 0.,\n",
       "        0.],\n",
       "       [0., 0., 0., 0., 0., 0., 0., 0., 0., 0., 0., 0., 0., 0., 0., 0.,\n",
       "        0.],\n",
       "       [0., 0., 0., 0., 0., 0., 0., 0., 0., 0., 0., 0., 0., 0., 0., 0.,\n",
       "        0.],\n",
       "       [0., 0., 0., 0., 0., 0., 0., 0., 0., 0., 0., 0., 0., 0., 0., 0.,\n",
       "        0.],\n",
       "       [0., 0., 0., 0., 0., 0., 0., 0., 0., 0., 0., 0., 0., 0., 0., 0.,\n",
       "        0.],\n",
       "       [0., 0., 0., 0., 0., 0., 0., 0., 0., 0., 0., 0., 0., 0., 0., 0.,\n",
       "        0.],\n",
       "       [0., 0., 0., 0., 0., 0., 0., 0., 0., 0., 0., 0., 0., 0., 0., 0.,\n",
       "        0.],\n",
       "       [0., 0., 0., 0., 0., 0., 0., 0., 0., 0., 0., 0., 0., 0., 0., 0.,\n",
       "        0.],\n",
       "       [0., 0., 0., 0., 0., 0., 0., 0., 0., 0., 0., 0., 0., 0., 0., 0.,\n",
       "        0.],\n",
       "       [0., 0., 0., 0., 0., 0., 0., 0., 0., 0., 0., 0., 0., 0., 0., 0.,\n",
       "        0.],\n",
       "       [0., 0., 0., 0., 0., 0., 0., 0., 0., 0., 0., 0., 0., 0., 0., 0.,\n",
       "        0.],\n",
       "       [0., 0., 0., 0., 0., 0., 0., 0., 0., 0., 0., 0., 0., 0., 0., 0.,\n",
       "        0.],\n",
       "       [0., 0., 0., 0., 0., 0., 0., 0., 0., 0., 0., 0., 0., 0., 0., 0.,\n",
       "        0.]], dtype=float32)"
      ]
     },
     "execution_count": 41,
     "metadata": {},
     "output_type": "execute_result"
    }
   ],
   "source": [
    "arr[1]"
   ]
  },
  {
   "cell_type": "code",
   "execution_count": 379,
   "id": "d1898dd3",
   "metadata": {},
   "outputs": [],
   "source": [
    "from PIL import Image"
   ]
  },
  {
   "cell_type": "code",
   "execution_count": 383,
   "id": "0d35d984",
   "metadata": {},
   "outputs": [
    {
     "ename": "AttributeError",
     "evalue": "'numpy.ndarray' object has no attribute 'save'",
     "output_type": "error",
     "traceback": [
      "\u001b[1;31m---------------------------------------------------------------------------\u001b[0m",
      "\u001b[1;31mAttributeError\u001b[0m                            Traceback (most recent call last)",
      "\u001b[1;32m~\\AppData\\Local\\Temp/ipykernel_24384/3307602629.py\u001b[0m in \u001b[0;36m<module>\u001b[1;34m\u001b[0m\n\u001b[1;32m----> 1\u001b[1;33m \u001b[0marr\u001b[0m\u001b[1;33m[\u001b[0m\u001b[1;36m0\u001b[0m\u001b[1;33m]\u001b[0m\u001b[1;33m.\u001b[0m\u001b[0msave\u001b[0m\u001b[1;33m(\u001b[0m\u001b[1;34m\"array.gif\"\u001b[0m\u001b[1;33m,\u001b[0m \u001b[0msave_all\u001b[0m\u001b[1;33m=\u001b[0m\u001b[1;32mTrue\u001b[0m\u001b[1;33m,\u001b[0m \u001b[0mappend_images\u001b[0m\u001b[1;33m=\u001b[0m\u001b[0marr\u001b[0m\u001b[1;33m[\u001b[0m\u001b[1;36m1\u001b[0m\u001b[1;33m:\u001b[0m\u001b[1;33m]\u001b[0m\u001b[1;33m,\u001b[0m \u001b[0mduration\u001b[0m\u001b[1;33m=\u001b[0m\u001b[1;36m300\u001b[0m\u001b[1;33m,\u001b[0m \u001b[0mloop\u001b[0m\u001b[1;33m=\u001b[0m\u001b[1;36m0\u001b[0m\u001b[1;33m)\u001b[0m\u001b[1;33m\u001b[0m\u001b[1;33m\u001b[0m\u001b[0m\n\u001b[0m",
      "\u001b[1;31mAttributeError\u001b[0m: 'numpy.ndarray' object has no attribute 'save'"
     ]
    }
   ],
   "source": [
    "arr[0].save(\"array.gif\", save_all=True, append_images=arr[1:], duration=300, loop=0)"
   ]
  },
  {
   "cell_type": "code",
   "execution_count": 380,
   "id": "ab43ab31",
   "metadata": {},
   "outputs": [
    {
     "data": {
      "text/plain": [
       "(100, 50, 50, 3)"
      ]
     },
     "execution_count": 380,
     "metadata": {},
     "output_type": "execute_result"
    }
   ],
   "source": [
    "imgs = np.random.randint(0, 255, (100, 50, 50, 3), dtype=np.uint8)\n",
    "imgs.shape"
   ]
  },
  {
   "cell_type": "code",
   "execution_count": 378,
   "id": "26c2ad55",
   "metadata": {},
   "outputs": [
    {
     "data": {
      "text/plain": [
       "(46, 17, 17)"
      ]
     },
     "execution_count": 378,
     "metadata": {},
     "output_type": "execute_result"
    }
   ],
   "source": [
    "arr.shape"
   ]
  },
  {
   "cell_type": "code",
   "execution_count": null,
   "id": "9e3b1450",
   "metadata": {},
   "outputs": [],
   "source": [
    "imgs = [Image.fromarray(img) for img in imgs]"
   ]
  },
  {
   "cell_type": "code",
   "execution_count": 371,
   "id": "09095157",
   "metadata": {},
   "outputs": [
    {
     "data": {
      "text/plain": [
       "<matplotlib.colorbar.Colorbar at 0x291078da400>"
      ]
     },
     "execution_count": 371,
     "metadata": {},
     "output_type": "execute_result"
    },
    {
     "data": {
      "image/png": "[encoded data removed]",
      "text/plain": [
       "<Figure size 432x288 with 2 Axes>"
      ]
     },
     "metadata": {
      "needs_background": "light"
     },
     "output_type": "display_data"
    }
   ],
   "source": [
    "plt.imshow(ds2.GetRasterBand(32).ReadAsArray())\n",
    "plt.colorbar()"
   ]
  },
  {
   "cell_type": "code",
   "execution_count": 281,
   "id": "39bced6a",
   "metadata": {},
   "outputs": [
    {
     "data": {
      "text/plain": [
       "0.33999999999999997"
      ]
     },
     "execution_count": 281,
     "metadata": {},
     "output_type": "execute_result"
    }
   ],
   "source": [
    "0.6 * 17 / 30"
   ]
  },
  {
   "cell_type": "code",
   "execution_count": 282,
   "id": "57eb73e0",
   "metadata": {},
   "outputs": [
    {
     "data": {
      "text/plain": [
       "(51, 51)"
      ]
     },
     "execution_count": 282,
     "metadata": {},
     "output_type": "execute_result"
    }
   ],
   "source": [
    "z.shape"
   ]
  },
  {
   "cell_type": "code",
   "execution_count": 343,
   "id": "20627ad4",
   "metadata": {},
   "outputs": [
    {
     "data": {
      "text/plain": [
       "<matplotlib.colorbar.Colorbar at 0x2910650ddc0>"
      ]
     },
     "execution_count": 343,
     "metadata": {},
     "output_type": "execute_result"
    },
    {
     "data": {
      "image/png": "[encoded data removed]",
      "text/plain": [
       "<Figure size 432x288 with 2 Axes>"
      ]
     },
     "metadata": {
      "needs_background": "light"
     },
     "output_type": "display_data"
    }
   ],
   "source": [
    "z, y, x = np.histogram2d(ex_fire_day['LATITUDE'], ex_fire_day['LONGITUDE'], \n",
    "                         bins=(5, 51), range=fbbox2)\n",
    "z = np.flip(z, axis=0)\n",
    "\n",
    "plt.imshow(z)\n",
    "plt.colorbar()"
   ]
  },
  {
   "cell_type": "code",
   "execution_count": 325,
   "id": "7098f4e7",
   "metadata": {},
   "outputs": [
    {
     "data": {
      "text/plain": [
       "0"
      ]
     },
     "execution_count": 325,
     "metadata": {},
     "output_type": "execute_result"
    }
   ],
   "source": [
    "height, width = z.shape\n",
    "drv = gdal.GetDriverByName(\"GTiff\")\n",
    "ds = drv.Create(\"test5.tif\", width, height, 1, gdal.GDT_Float32)\n",
    "ds.GetRasterBand(1).WriteArray(z)\n",
    "tr = np.asarray(test.GetGeoTransform())\n",
    "tr[1] /= SCALE\n",
    "tr[5] /= SCALE\n",
    "\n",
    "ds.SetGeoTransform(tuple(tr))"
   ]
  },
  {
   "cell_type": "code",
   "execution_count": 326,
   "id": "db52fc69",
   "metadata": {},
   "outputs": [
    {
     "data": {
      "text/plain": [
       "<matplotlib.image.AxesImage at 0x291061d1970>"
      ]
     },
     "execution_count": 326,
     "metadata": {},
     "output_type": "execute_result"
    },
    {
     "data": {
      "image/png": "[encoded data removed]",
      "text/plain": [
       "<Figure size 432x288 with 1 Axes>"
      ]
     },
     "metadata": {
      "needs_background": "light"
     },
     "output_type": "display_data"
    }
   ],
   "source": [
    "plt.imshow(ds.GetRasterBand(1).ReadAsArray())"
   ]
  },
  {
   "cell_type": "code",
   "execution_count": 330,
   "id": "22f0bb5e",
   "metadata": {},
   "outputs": [
    {
     "data": {
      "text/plain": [
       "(-106.08134681656745,\n",
       " 0.011280197596173078,\n",
       " 0.0,\n",
       " 39.906611342985336,\n",
       " 0.0,\n",
       " -0.008696695115915663)"
      ]
     },
     "execution_count": 330,
     "metadata": {},
     "output_type": "execute_result"
    }
   ],
   "source": [
    "tr = test.GetGeoTransform()\n",
    "tr"
   ]
  },
  {
   "cell_type": "code",
   "execution_count": 348,
   "id": "1ebe41c4",
   "metadata": {},
   "outputs": [],
   "source": [
    "ds2 = gdal.Warp('blah.vrt', ds, format='VRT', xRes=abs(tr[1]), yRes=abs(tr[5]), \n",
    "                     resampleAlg='cubic', outputBounds=fbbox)"
   ]
  },
  {
   "cell_type": "code",
   "execution_count": 349,
   "id": "2d16103b",
   "metadata": {},
   "outputs": [
    {
     "data": {
      "text/plain": [
       "<matplotlib.colorbar.Colorbar at 0x291065abac0>"
      ]
     },
     "execution_count": 349,
     "metadata": {},
     "output_type": "execute_result"
    },
    {
     "data": {
      "image/png": "[encoded data removed]",
      "text/plain": [
       "<Figure size 432x288 with 2 Axes>"
      ]
     },
     "metadata": {
      "needs_background": "light"
     },
     "output_type": "display_data"
    }
   ],
   "source": [
    "plt.imshow(ds2.GetRasterBand(1).ReadAsArray())\n",
    "plt.colorbar()"
   ]
  },
  {
   "cell_type": "code",
   "execution_count": 338,
   "id": "464b19cc",
   "metadata": {},
   "outputs": [
    {
     "data": {
      "text/plain": [
       "<matplotlib.colorbar.Colorbar at 0x2910645ae50>"
      ]
     },
     "execution_count": 338,
     "metadata": {},
     "output_type": "execute_result"
    },
    {
     "data": {
      "image/png": "[encoded data removed]",
      "text/plain": [
       "<Figure size 432x288 with 2 Axes>"
      ]
     },
     "metadata": {
      "needs_background": "light"
     },
     "output_type": "display_data"
    }
   ],
   "source": [
    "plt.imshow(ds2.GetRasterBand(1).ReadAsArray())\n",
    "plt.colorbar()"
   ]
  },
  {
   "cell_type": "code",
   "execution_count": 205,
   "id": "7b86a03b",
   "metadata": {},
   "outputs": [
    {
     "data": {
      "text/plain": [
       "<matplotlib.colorbar.Colorbar at 0x29170133790>"
      ]
     },
     "execution_count": 205,
     "metadata": {},
     "output_type": "execute_result"
    },
    {
     "data": {
      "image/png": "[encoded data removed]",
      "text/plain": [
       "<Figure size 432x288 with 2 Axes>"
      ]
     },
     "metadata": {
      "needs_background": "light"
     },
     "output_type": "display_data"
    }
   ],
   "source": [
    "sample = r\"C:\\Users\\mit\\Documents\\GitHub\\wildfires\\data\\clean\\fire_histories\\11881214\\20200823UTC120000.csv\"\n",
    "df = pd.read_csv(sample)\n",
    "plt.scatter(df['lon'], df['lat'], c=df['on_fire'])\n",
    "plt.colorbar()"
   ]
  },
  {
   "cell_type": "code",
   "execution_count": 164,
   "id": "aea45352",
   "metadata": {},
   "outputs": [
    {
     "name": "stdout",
     "output_type": "stream",
     "text": [
      "🏋🏻‍♂️ Found \u001b[32m2020-Jan-01 12:00 UTC F01\u001b[m [HRRR] [product=sfc] GRIB2 file from \u001b[38;5;202maws\u001b[m and index file from \u001b[38;5;202maws\u001b[m.                                                                                                                                                       \n",
      "2022-01-19 17:09:09.945601\n",
      "2022-01-19 17:09:13.804208\n",
      "🏋🏻‍♂️ Found \u001b[32m2020-Jan-02 12:00 UTC F01\u001b[m [HRRR] [product=sfc] GRIB2 file from \u001b[38;5;202maws\u001b[m and index file from \u001b[38;5;202maws\u001b[m.                                                                                                                                                       \n",
      "2022-01-19 17:09:14.075283\n",
      "2022-01-19 17:09:17.731982\n",
      "🏋🏻‍♂️ Found \u001b[32m2020-Jan-03 12:00 UTC F01\u001b[m [HRRR] [product=sfc] GRIB2 file from \u001b[38;5;202maws\u001b[m and index file from \u001b[38;5;202maws\u001b[m.                                                                                                                                                       \n",
      "2022-01-19 17:09:17.964025\n",
      "2022-01-19 17:09:21.578655\n",
      "🏋🏻‍♂️ Found \u001b[32m2020-Jan-01 00:00 UTC F01\u001b[m [HRRR] [product=sfc] GRIB2 file from \u001b[38;5;202maws\u001b[m and index file from \u001b[38;5;202maws\u001b[m.                                                                                                                                                       \n",
      "2022-01-19 17:09:21.835985\n",
      "2022-01-19 17:09:25.671941\n",
      "🏋🏻‍♂️ Found \u001b[32m2020-Jan-02 00:00 UTC F01\u001b[m [HRRR] [product=sfc] GRIB2 file from \u001b[38;5;202maws\u001b[m and index file from \u001b[38;5;202maws\u001b[m.                                                                                                                                                       \n",
      "2022-01-19 17:09:25.919949\n",
      "2022-01-19 17:09:29.602868\n",
      "🏋🏻‍♂️ Found \u001b[32m2020-Jan-03 00:00 UTC F01\u001b[m [HRRR] [product=sfc] GRIB2 file from \u001b[38;5;202maws\u001b[m and index file from \u001b[38;5;202maws\u001b[m.                                                                                                                                                       \n",
      "2022-01-19 17:09:29.873662\n",
      "2022-01-19 17:09:34.008362\n"
     ]
    }
   ],
   "source": [
    "in_path = 'data'\n",
    "fxx=1\n",
    "\n",
    "first = dt.datetime(2020, 1, 1, 12, 0)\n",
    "first2 = dt.datetime(2020, 1, 1, 0, 0)\n",
    "times = [(first + dt.timedelta(days=i)) for i in range(3)]\n",
    "times2 = [(first2 + dt.timedelta(days=i)) for i in range(3)]\n",
    "for time in times:\n",
    "    direc = f'{in_path}/hrrr/{time.strftime(\"%Y%m%d\")}'\n",
    "    band_lookup = extract_hrrr(time, codes, 'data', fxx=fxx)\n",
    "    hour = time.hour\n",
    "    with open(f'{direc}/band_lookup_{hour}z_fxx{fxx}.json', 'w') as f:\n",
    "        json.dump(band_lookup, f)\n",
    "for time in times2:\n",
    "    direc = f'{in_path}/hrrr/{time.strftime(\"%Y%m%d\")}'\n",
    "    band_lookup = extract_hrrr(time, codes, 'data', fxx=fxx)\n",
    "    hour = time.hour\n",
    "    with open(f'{direc}/band_lookup_{hour}z_fxx{fxx}.json', 'w') as f:\n",
    "        json.dump(band_lookup, f)\n",
    "# os.rename('data/hrrr', dropbox_path +'\\\\wildfire_repo\\\\hrrr')"
   ]
  },
  {
   "cell_type": "code",
   "execution_count": 144,
   "id": "cbb19270",
   "metadata": {},
   "outputs": [
    {
     "data": {
      "text/plain": [
       "{'TMP:2 m': 3,\n",
       " 'SPFH:2 m': 4,\n",
       " 'UGRD:10 m': 5,\n",
       " 'VGRD:10 m': 6,\n",
       " 'LTNG': 1,\n",
       " 'PRATE': 7,\n",
       " 'PRES:surface': 2}"
      ]
     },
     "execution_count": 144,
     "metadata": {},
     "output_type": "execute_result"
    }
   ],
   "source": [
    "json.dumps(band_lookup, 'data/hrrr'"
   ]
  },
  {
   "cell_type": "code",
   "execution_count": 407,
   "id": "a49fc487",
   "metadata": {},
   "outputs": [],
   "source": [
    "ds = gdal.Open(file)\n",
    "\n",
    "bbox = [-110, 25, -75, 50]\n",
    "hrrr = warp(ds, *bbox, *local_miles_per_lon_lat(bbox), 1, 'test.vrt')"
   ]
  },
  {
   "cell_type": "code",
   "execution_count": 417,
   "id": "170a5d0e",
   "metadata": {},
   "outputs": [
    {
     "data": {
      "text/plain": [
       "<matplotlib.colorbar.Colorbar at 0x1d1969592e0>"
      ]
     },
     "execution_count": 417,
     "metadata": {},
     "output_type": "execute_result"
    },
    {
     "data": {
      "image/png": "[encoded data removed]",
      "text/plain": [
       "<Figure size 432x288 with 2 Axes>"
      ]
     },
     "metadata": {
      "needs_background": "light"
     },
     "output_type": "display_data"
    }
   ],
   "source": [
    "plt.imshow(hrrr.GetRasterBand(7).ReadAsArray(), cmap='Blues')\n",
    "plt.colorbar()"
   ]
  },
  {
   "cell_type": "code",
   "execution_count": 252,
   "id": "24a4b89e",
   "metadata": {
    "scrolled": true
   },
   "outputs": [
    {
     "data": {
      "text/plain": [
       "173"
      ]
     },
     "execution_count": 252,
     "metadata": {},
     "output_type": "execute_result"
    }
   ],
   "source": [
    "b.RasterCount"
   ]
  },
  {
   "cell_type": "code",
   "execution_count": 253,
   "id": "006eb9aa",
   "metadata": {},
   "outputs": [
    {
     "data": {
      "text/plain": [
       "{1: 'Maximum / Composite radar reflectivity [dB]',\n",
       " 2: 'Echo Top [m]',\n",
       " 3: '(prodType 0, cat 16, subcat 201) [-]',\n",
       " 4: 'Vertically-integrated liquid [kg/m]',\n",
       " 5: 'Visibility [m]',\n",
       " 6: 'Derived radar reflectivity [dB]',\n",
       " 7: 'Derived radar reflectivity [dB]',\n",
       " 8: 'Derived radar reflectivity [dB]',\n",
       " 9: 'Wind speed (gust) [m/s]',\n",
       " 10: 'u-component of wind [m/s]',\n",
       " 11: 'v-component of wind [m/s]',\n",
       " 12: 'u-component of wind [m/s]',\n",
       " 13: 'v-component of wind [m/s]',\n",
       " 14: 'Geopotential height [gpm]',\n",
       " 15: 'Temperature [C]',\n",
       " 16: 'Dew point temperature [C]',\n",
       " 17: 'u-component of wind [m/s]',\n",
       " 18: 'v-component of wind [m/s]',\n",
       " 19: 'Geopotential height [gpm]',\n",
       " 20: 'Temperature [C]',\n",
       " 21: 'Dew point temperature [C]',\n",
       " 22: 'Verical velocity (geometric) [m/s]',\n",
       " 23: 'u-component of wind [m/s]',\n",
       " 24: 'v-component of wind [m/s]',\n",
       " 25: 'Geopotential height [gpm]',\n",
       " 26: 'Temperature [C]',\n",
       " 27: 'Dew point temperature [C]',\n",
       " 28: 'u-component of wind [m/s]',\n",
       " 29: 'v-component of wind [m/s]',\n",
       " 30: 'Temperature [C]',\n",
       " 31: 'Dew point temperature [C]',\n",
       " 32: 'u-component of wind [m/s]',\n",
       " 33: 'v-component of wind [m/s]',\n",
       " 34: 'Temperature [C]',\n",
       " 35: 'Dew point temperature [C]',\n",
       " 36: 'u-component of wind [m/s]',\n",
       " 37: 'v-component of wind [m/s]',\n",
       " 38: 'Hourly Maximum of Downward Vertical Velocity in the lowest 400hPa [m/s]',\n",
       " 39: 'Hourly Maximum of Downward Vertical Velocity [m/s]',\n",
       " 40: 'Verical velocity (geometric) [m/s]',\n",
       " 41: 'MSLP (MAPS System Reduction) [Pa]',\n",
       " 42: 'Geopotential height [gpm]',\n",
       " 43: 'Hourly Maximum of Simulated Reflectivity at 1 km AGL [dB]',\n",
       " 44: 'Derived radar reflectivity [dB]',\n",
       " 45: 'Hourly Maximum of Updraft Helicity over Layer 2km to 5 km AGL [m^2/s^2]',\n",
       " 46: 'Hourly Minimum of Updraft Helicity [m^2/s^2]',\n",
       " 47: 'Hourly Maximum of Updraft Helicity over Layer 2km to 5 km AGL [m^2/s^2]',\n",
       " 48: 'Hourly Minimum of Updraft Helicity [m^2/s^2]',\n",
       " 49: 'Hourly Maximum of Updraft Helicity over Layer 2km to 5 km AGL [m^2/s^2]',\n",
       " 50: 'Hourly Minimum of Updraft Helicity [m^2/s^2]',\n",
       " 51: 'Relative vorticity [1/s]',\n",
       " 52: 'Relative vorticity [1/s]',\n",
       " 53: 'Hail [m]',\n",
       " 54: 'Hail [m]',\n",
       " 55: 'Hail [m]',\n",
       " 56: 'Total Column Integrate Graupel [kg/m^2]',\n",
       " 57: 'Lightning Potential Index (LPI) (see Note) [J/kg]',\n",
       " 58: 'Lightning Potential Index (LPI) (see Note) [J/kg]',\n",
       " 59: 'Lightning [-]',\n",
       " 60: 'u-component of wind [m/s]',\n",
       " 61: 'v-component of wind [m/s]',\n",
       " 62: 'Pressure [Pa]',\n",
       " 63: 'Geopotential height [gpm]',\n",
       " 64: 'Temperature [C]',\n",
       " 65: 'Total snowfall [m]',\n",
       " 66: 'Moisture Availability [%]',\n",
       " 67: 'Plant canopy surface water [kg/(m^2)]',\n",
       " 68: 'Water equivalent of accumulated snow depth [kg/(m^2)]',\n",
       " 69: 'Snow cover [%]',\n",
       " 70: 'Snow depth [m]',\n",
       " 71: 'Temperature [C]',\n",
       " 72: 'Potential temperature [C]',\n",
       " 73: 'Specific humidity [kg/kg]',\n",
       " 74: 'Dew point temperature [C]',\n",
       " 75: 'Relative humidity [%]',\n",
       " 76: 'Mass Density (Concentration) [kg/(m^3)]',\n",
       " 77: 'u-component of wind [m/s]',\n",
       " 78: 'v-component of wind [m/s]',\n",
       " 79: 'Wind speed [m/s]',\n",
       " 80: 'U Component of Hourly Maximum 10m Wind Speed [m/s]',\n",
       " 81: 'V Component of Hourly Maximum 10m Wind Speed [m/s]',\n",
       " 82: 'Percent frozen precipitation [%]',\n",
       " 83: 'Precipitation rate [kg/(m^2 s)]',\n",
       " 84: '06 hr Total precipitation [kg/(m^2)]',\n",
       " 85: 'Water equivalent of accumulated snow depth [kg/(m^2)]',\n",
       " 86: 'Frozen Rain [kg/(m^2)]',\n",
       " 87: 'Freezing rain [kg/(m^2)]',\n",
       " 88: 'Storm surface runoff [kg/(m^2)]',\n",
       " 89: 'Baseflow-groundwater runoff [kg/(m^2)]',\n",
       " 90: '01 hr Total precipitation [kg/(m^2)]',\n",
       " 91: 'Water equivalent of accumulated snow depth [kg/(m^2)]',\n",
       " 92: 'Frozen Rain [kg/(m^2)]',\n",
       " 93: 'Categorical snow [0=no; 1=yes]',\n",
       " 94: 'Categorical ice pellets [0=no; 1=yes]',\n",
       " 95: 'Categorical freezing rain [0=no; 1=yes]',\n",
       " 96: 'Categorical rain [0=no; 1=yes]',\n",
       " 97: 'Surface roughness [m]',\n",
       " 98: 'Frictional velocity [m/s]',\n",
       " 99: 'Sensible heat net flux [W/(m^2)]',\n",
       " 100: 'Latent heat net flux [W/(m^2)]',\n",
       " 101: 'Vegetation [%]',\n",
       " 102: '(prodType 2, cat 0, subcat 231) [-]',\n",
       " 103: '(prodType 2, cat 0, subcat 232) [-]',\n",
       " 104: 'Leaf Area Index [Numeric]',\n",
       " 105: 'Ground heat flux [W/(m^2)]',\n",
       " 106: 'Vegetation Type [0..13]',\n",
       " 107: 'Surface lifted index [C]',\n",
       " 108: 'Convective available potential energy [J/kg]',\n",
       " 109: 'Convective inhibition [J/kg]',\n",
       " 110: 'Precipitable water [kg/(m^2)]',\n",
       " 111: 'Atmosphere Optical Thickness [Numeric]',\n",
       " 112: 'Column-Integrated Mass Density [kg/(m^2)]',\n",
       " 113: 'Total column-integrated cloud water [kg/(m^2)]',\n",
       " 114: 'Total column-integrated cloud ice [kg/(m^2)]',\n",
       " 115: 'Total cloud cover [%]',\n",
       " 116: 'Low cloud cover [%]',\n",
       " 117: 'Medium cloud cover [%]',\n",
       " 118: 'High cloud cover [%]',\n",
       " 119: 'Total cloud cover [%]',\n",
       " 120: 'Geopotential height [gpm]',\n",
       " 121: 'Geopotential height [gpm]',\n",
       " 122: 'Pressure [Pa]',\n",
       " 123: 'Pressure [Pa]',\n",
       " 124: 'Geopotential height [gpm]',\n",
       " 125: 'Upward long-wave radiation flux [W/(m^2)]',\n",
       " 126: 'Downward short-wave radiation flux [W/(m^2)]',\n",
       " 127: 'Downward long-wave radiation flux [W/(m^2)]',\n",
       " 128: 'Upward short-wave radiation flux [W/(m^2)]',\n",
       " 129: 'Upward long-wave radiation flux [W/(m^2)]',\n",
       " 130: 'Cloud Forcing Net Solar Flux [W/(m^2)]',\n",
       " 131: 'Visible Beam Downward Solar Flux [W/(m^2)]',\n",
       " 132: 'Visible Diffuse Downward Solar Flux [W/(m^2)]',\n",
       " 133: 'Upward short-wave radiation flux [W/(m^2)]',\n",
       " 134: 'Storm relative helicity [J/kg]',\n",
       " 135: 'Storm relative helicity [J/kg]',\n",
       " 136: 'U-component storm motion [m/s]',\n",
       " 137: 'V-component storm motion [m/s]',\n",
       " 138: 'Vertical u-component shear [1/s]',\n",
       " 139: 'Vertical v-component shear [1/s]',\n",
       " 140: 'Vertical u-component shear [1/s]',\n",
       " 141: 'Vertical v-component shear [1/s]',\n",
       " 142: 'Geopotential height [gpm]',\n",
       " 143: 'Relative humidity [%]',\n",
       " 144: 'Pressure [Pa]',\n",
       " 145: 'Geopotential height [gpm]',\n",
       " 146: 'Relative humidity [%]',\n",
       " 147: 'Pressure [Pa]',\n",
       " 148: 'Geopotential height [gpm]',\n",
       " 149: 'Geopotential height [gpm]',\n",
       " 150: 'Best (4 layer) Lifted Index [C]',\n",
       " 151: 'Convective available potential energy [J/kg]',\n",
       " 152: 'Convective inhibition [J/kg]',\n",
       " 153: 'Planetary boundary layer height [m]',\n",
       " 154: 'Geopotential height [gpm]',\n",
       " 155: 'Convective available potential energy [J/kg]',\n",
       " 156: 'Convective inhibition [J/kg]',\n",
       " 157: 'Convective available potential energy [J/kg]',\n",
       " 158: 'Convective inhibition [J/kg]',\n",
       " 159: 'Geopotential height [gpm]',\n",
       " 160: 'Pressure of level from which parcel was lifted [Pa]',\n",
       " 161: 'Convective available potential energy [J/kg]',\n",
       " 162: 'Geopotential height [gpm]',\n",
       " 163: '(prodType 0, cat 7, subcat 204) [-]',\n",
       " 164: '(prodType 0, cat 7, subcat 206) [-]',\n",
       " 165: 'Layer Thickness [m]',\n",
       " 166: '(prodType 0, cat 7, subcat 205) [-]',\n",
       " 167: 'Relative Humidity with Respect to Precipitable Water [%]',\n",
       " 168: 'Land cover (1=land; 2=sea) [Proportion]',\n",
       " 169: 'Ice cover [Proportion]',\n",
       " 170: 'Simulated Brightness Temperature for GOES 12, Channel 3 [C]',\n",
       " 171: 'Simulated Brightness Temperature for GOES 12, Channel 4 [C]',\n",
       " 172: 'Simulated Brightness Temperature for GOES 11, Channel 3 [C]',\n",
       " 173: 'Simulated Brightness Temperature for GOES 11, Channel 4 [C]'}"
      ]
     },
     "execution_count": 253,
     "metadata": {},
     "output_type": "execute_result"
    }
   ],
   "source": [
    "comments = {i:b.GetRasterBand(i).GetMetadata()['GRIB_COMMENT'] for i in range(1, b.RasterCount+1)}\n",
    "comments "
   ]
  },
  {
   "cell_type": "code",
   "execution_count": 19,
   "id": "6e64ab14",
   "metadata": {},
   "outputs": [
    {
     "ename": "NameError",
     "evalue": "name 'ex_fire' is not defined",
     "output_type": "error",
     "traceback": [
      "\u001b[1;31m---------------------------------------------------------------------------\u001b[0m",
      "\u001b[1;31mNameError\u001b[0m                                 Traceback (most recent call last)",
      "\u001b[1;32m~\\AppData\\Local\\Temp/ipykernel_7912/3953816589.py\u001b[0m in \u001b[0;36m<module>\u001b[1;34m\u001b[0m\n\u001b[1;32m----> 1\u001b[1;33m \u001b[0mz\u001b[0m\u001b[1;33m,\u001b[0m \u001b[0my\u001b[0m\u001b[1;33m,\u001b[0m \u001b[0mx\u001b[0m \u001b[1;33m=\u001b[0m \u001b[0mnp\u001b[0m\u001b[1;33m.\u001b[0m\u001b[0mhistogram2d\u001b[0m\u001b[1;33m(\u001b[0m\u001b[0mex_fire\u001b[0m\u001b[1;33m[\u001b[0m\u001b[1;34m'LATITUDE'\u001b[0m\u001b[1;33m]\u001b[0m\u001b[1;33m,\u001b[0m \u001b[0mex_fire\u001b[0m\u001b[1;33m[\u001b[0m\u001b[1;34m'LONGITUDE'\u001b[0m\u001b[1;33m]\u001b[0m\u001b[1;33m,\u001b[0m \u001b[0mbins\u001b[0m\u001b[1;33m=\u001b[0m\u001b[1;36m100\u001b[0m\u001b[1;33m,\u001b[0m \u001b[0mrange\u001b[0m\u001b[1;33m=\u001b[0m\u001b[1;33m[\u001b[0m\u001b[1;33m[\u001b[0m\u001b[1;36m44.60\u001b[0m\u001b[1;33m,\u001b[0m \u001b[1;36m44.95\u001b[0m\u001b[1;33m]\u001b[0m\u001b[1;33m,\u001b[0m \u001b[1;33m[\u001b[0m\u001b[1;33m-\u001b[0m\u001b[1;36m122.17\u001b[0m\u001b[1;33m,\u001b[0m \u001b[1;33m-\u001b[0m\u001b[1;36m121.51\u001b[0m\u001b[1;33m]\u001b[0m\u001b[1;33m]\u001b[0m\u001b[1;33m)\u001b[0m\u001b[1;33m\u001b[0m\u001b[1;33m\u001b[0m\u001b[0m\n\u001b[0m\u001b[0;32m      2\u001b[0m \u001b[0mz\u001b[0m \u001b[1;33m=\u001b[0m \u001b[0mnp\u001b[0m\u001b[1;33m.\u001b[0m\u001b[0mflip\u001b[0m\u001b[1;33m(\u001b[0m\u001b[0mz\u001b[0m\u001b[1;33m,\u001b[0m \u001b[0maxis\u001b[0m\u001b[1;33m=\u001b[0m\u001b[1;36m0\u001b[0m\u001b[1;33m)\u001b[0m\u001b[1;33m\u001b[0m\u001b[1;33m\u001b[0m\u001b[0m\n",
      "\u001b[1;31mNameError\u001b[0m: name 'ex_fire' is not defined"
     ]
    }
   ],
   "source": [
    "z, y, x = np.histogram2d(ex_fire['LATITUDE'], ex_fire['LONGITUDE'], bins=100, range=[[44.60, 44.95], [-122.17, -121.51]])\n",
    "z = np.flip(z, axis=0)"
   ]
  },
  {
   "cell_type": "code",
   "execution_count": 20,
   "id": "3bac4a51",
   "metadata": {},
   "outputs": [
    {
     "ename": "NameError",
     "evalue": "name 'x' is not defined",
     "output_type": "error",
     "traceback": [
      "\u001b[1;31m---------------------------------------------------------------------------\u001b[0m",
      "\u001b[1;31mNameError\u001b[0m                                 Traceback (most recent call last)",
      "\u001b[1;32m~\\AppData\\Local\\Temp/ipykernel_7912/1761995645.py\u001b[0m in \u001b[0;36m<module>\u001b[1;34m\u001b[0m\n\u001b[1;32m----> 1\u001b[1;33m \u001b[0mx\u001b[0m\u001b[1;33m,\u001b[0m \u001b[0my\u001b[0m\u001b[1;33m\u001b[0m\u001b[1;33m\u001b[0m\u001b[0m\n\u001b[0m",
      "\u001b[1;31mNameError\u001b[0m: name 'x' is not defined"
     ]
    }
   ],
   "source": [
    "x, y"
   ]
  },
  {
   "cell_type": "code",
   "execution_count": 489,
   "id": "d3ac975e",
   "metadata": {},
   "outputs": [
    {
     "data": {
      "text/plain": [
       "(array([ 0.,  1.,  2.,  3.,  4.,  5.,  6.,  7.,  8.,  9., 10., 11., 12.,\n",
       "        13., 14., 15., 16., 17., 18., 20., 22., 25.]),\n",
       " array([5567,  993,  925,  739,  541,  427,  247,  168,  132,   73,   61,\n",
       "          37,   31,   16,   13,   11,   12,    2,    2,    1,    1,    1],\n",
       "       dtype=int64))"
      ]
     },
     "execution_count": 489,
     "metadata": {},
     "output_type": "execute_result"
    }
   ],
   "source": [
    "np.unique(z, return_counts=True)"
   ]
  },
  {
   "cell_type": "code",
   "execution_count": 486,
   "id": "33ad433f",
   "metadata": {},
   "outputs": [
    {
     "data": {
      "text/plain": [
       "<matplotlib.image.AxesImage at 0x1d183f027f0>"
      ]
     },
     "execution_count": 486,
     "metadata": {},
     "output_type": "execute_result"
    },
    {
     "data": {
      "image/png": "[encoded data removed]",
      "text/plain": [
       "<Figure size 432x288 with 1 Axes>"
      ]
     },
     "metadata": {
      "needs_background": "light"
     },
     "output_type": "display_data"
    }
   ],
   "source": [
    "plt.imshow(z)"
   ]
  },
  {
   "cell_type": "code",
   "execution_count": 427,
   "id": "f041b52f",
   "metadata": {},
   "outputs": [
    {
     "data": {
      "text/plain": [
       "<matplotlib.collections.PathCollection at 0x1d1875ef820>"
      ]
     },
     "execution_count": 427,
     "metadata": {},
     "output_type": "execute_result"
    },
    {
     "data": {
      "image/png": "[encoded data removed]",
      "text/plain": [
       "<Figure size 432x288 with 1 Axes>"
      ]
     },
     "metadata": {
      "needs_background": "light"
     },
     "output_type": "display_data"
    }
   ],
   "source": [
    "plt.scatter(ex_fire['LONGITUDE'], ex_fire['LATITUDE'], s=0.1)"
   ]
  }
 ],
 "metadata": {
  "kernelspec": {
   "display_name": "Python 3 (ipykernel)",
   "language": "python",
   "name": "python3"
  },
  "language_info": {
   "codemirror_mode": {
    "name": "ipython",
    "version": 3
   },
   "file_extension": ".py",
   "mimetype": "text/x-python",
   "name": "python",
   "nbconvert_exporter": "python",
   "pygments_lexer": "ipython3",
   "version": "3.9.7"
  }
 },
 "nbformat": 4,
 "nbformat_minor": 5
}
