{
 "cells": [
  {
   "cell_type": "code",
   "execution_count": 1,
   "id": "022cb19d",
   "metadata": {},
   "outputs": [
    {
     "name": "stderr",
     "output_type": "stream",
     "text": [
      "C:\\Users\\mit\\anaconda3\\envs\\dl\\lib\\site-packages\\tensorflow\\python\\framework\\dtypes.py:516: FutureWarning: Passing (type, 1) or '1type' as a synonym of type is deprecated; in a future version of numpy, it will be understood as (type, (1,)) / '(1,)type'.\n",
      "  _np_qint8 = np.dtype([(\"qint8\", np.int8, 1)])\n",
      "C:\\Users\\mit\\anaconda3\\envs\\dl\\lib\\site-packages\\tensorflow\\python\\framework\\dtypes.py:517: FutureWarning: Passing (type, 1) or '1type' as a synonym of type is deprecated; in a future version of numpy, it will be understood as (type, (1,)) / '(1,)type'.\n",
      "  _np_quint8 = np.dtype([(\"quint8\", np.uint8, 1)])\n",
      "C:\\Users\\mit\\anaconda3\\envs\\dl\\lib\\site-packages\\tensorflow\\python\\framework\\dtypes.py:518: FutureWarning: Passing (type, 1) or '1type' as a synonym of type is deprecated; in a future version of numpy, it will be understood as (type, (1,)) / '(1,)type'.\n",
      "  _np_qint16 = np.dtype([(\"qint16\", np.int16, 1)])\n",
      "C:\\Users\\mit\\anaconda3\\envs\\dl\\lib\\site-packages\\tensorflow\\python\\framework\\dtypes.py:519: FutureWarning: Passing (type, 1) or '1type' as a synonym of type is deprecated; in a future version of numpy, it will be understood as (type, (1,)) / '(1,)type'.\n",
      "  _np_quint16 = np.dtype([(\"quint16\", np.uint16, 1)])\n",
      "C:\\Users\\mit\\anaconda3\\envs\\dl\\lib\\site-packages\\tensorflow\\python\\framework\\dtypes.py:520: FutureWarning: Passing (type, 1) or '1type' as a synonym of type is deprecated; in a future version of numpy, it will be understood as (type, (1,)) / '(1,)type'.\n",
      "  _np_qint32 = np.dtype([(\"qint32\", np.int32, 1)])\n",
      "C:\\Users\\mit\\anaconda3\\envs\\dl\\lib\\site-packages\\tensorflow\\python\\framework\\dtypes.py:525: FutureWarning: Passing (type, 1) or '1type' as a synonym of type is deprecated; in a future version of numpy, it will be understood as (type, (1,)) / '(1,)type'.\n",
      "  np_resource = np.dtype([(\"resource\", np.ubyte, 1)])\n",
      "C:\\Users\\mit\\anaconda3\\envs\\dl\\lib\\site-packages\\tensorboard\\compat\\tensorflow_stub\\dtypes.py:541: FutureWarning: Passing (type, 1) or '1type' as a synonym of type is deprecated; in a future version of numpy, it will be understood as (type, (1,)) / '(1,)type'.\n",
      "  _np_qint8 = np.dtype([(\"qint8\", np.int8, 1)])\n",
      "C:\\Users\\mit\\anaconda3\\envs\\dl\\lib\\site-packages\\tensorboard\\compat\\tensorflow_stub\\dtypes.py:542: FutureWarning: Passing (type, 1) or '1type' as a synonym of type is deprecated; in a future version of numpy, it will be understood as (type, (1,)) / '(1,)type'.\n",
      "  _np_quint8 = np.dtype([(\"quint8\", np.uint8, 1)])\n",
      "C:\\Users\\mit\\anaconda3\\envs\\dl\\lib\\site-packages\\tensorboard\\compat\\tensorflow_stub\\dtypes.py:543: FutureWarning: Passing (type, 1) or '1type' as a synonym of type is deprecated; in a future version of numpy, it will be understood as (type, (1,)) / '(1,)type'.\n",
      "  _np_qint16 = np.dtype([(\"qint16\", np.int16, 1)])\n",
      "C:\\Users\\mit\\anaconda3\\envs\\dl\\lib\\site-packages\\tensorboard\\compat\\tensorflow_stub\\dtypes.py:544: FutureWarning: Passing (type, 1) or '1type' as a synonym of type is deprecated; in a future version of numpy, it will be understood as (type, (1,)) / '(1,)type'.\n",
      "  _np_quint16 = np.dtype([(\"quint16\", np.uint16, 1)])\n",
      "C:\\Users\\mit\\anaconda3\\envs\\dl\\lib\\site-packages\\tensorboard\\compat\\tensorflow_stub\\dtypes.py:545: FutureWarning: Passing (type, 1) or '1type' as a synonym of type is deprecated; in a future version of numpy, it will be understood as (type, (1,)) / '(1,)type'.\n",
      "  _np_qint32 = np.dtype([(\"qint32\", np.int32, 1)])\n",
      "C:\\Users\\mit\\anaconda3\\envs\\dl\\lib\\site-packages\\tensorboard\\compat\\tensorflow_stub\\dtypes.py:550: FutureWarning: Passing (type, 1) or '1type' as a synonym of type is deprecated; in a future version of numpy, it will be understood as (type, (1,)) / '(1,)type'.\n",
      "  np_resource = np.dtype([(\"resource\", np.ubyte, 1)])\n"
     ]
    }
   ],
   "source": [
    "from tensorflow import keras\n",
    "import tensorflow as tf\n",
    "import numpy as np\n",
    "import pandas as pd\n",
    "from osgeo import gdal\n",
    "import matplotlib.pyplot as plt\n",
    "from fire_history import get_fire_grid_bounds\n",
    "import pickle\n",
    "import json\n",
    "from glob import glob\n",
    "import os"
   ]
  },
  {
   "cell_type": "code",
   "execution_count": 4,
   "id": "8abd9569",
   "metadata": {},
   "outputs": [],
   "source": [
    "dropbox_path = r\"C:\\Users\\mit\\Dropbox (MIT)\\wildfire_repo\"\n",
    "hrrr_path = dropbox_path + '/hrrr'\n",
    "\n",
    "with open('data/clean/bbox.json') as json_file:\n",
    "    bboxes = json.load(json_file)\n",
    "    \n",
    "path = 'data/clean/fire_histories_revised'"
   ]
  },
  {
   "cell_type": "code",
   "execution_count": 9,
   "id": "a4e385d5",
   "metadata": {},
   "outputs": [],
   "source": [
    "def slope_aspect_wind_transform(slope, aspect, u_wind, v_wind, i, j):\n",
    "    \n",
    "    # sometimes the slope or aspect DataFrames do not read in correctly\n",
    "    if np.any(aspect == -9999) or np.any(slope == -9999):\n",
    "        raise ValueError('Slope or aspect not read correctly')\n",
    "        \n",
    "    # get the shape of the arrays, make sure they are always the same\n",
    "    h, w = slope.shape\n",
    "    for arr in [aspect, u_wind, v_wind]:\n",
    "        if arr.shape != slope.shape:\n",
    "            raise ValueError(\"Arrays not all of same shape\")\n",
    "        \n",
    "    # get the distance E and N needed to travel from each pixel to (i, j) pixel \n",
    "    u_dist = np.zeros((h, w))\n",
    "    v_dist = np.zeros((h, w))\n",
    "    for y in range(h):\n",
    "        for x in range(w):\n",
    "            u_dist[y, x] = j - x\n",
    "            v_dist[y, x] = y - i\n",
    "            \n",
    "    # get the pixel distance from each pixel to (i, j)\n",
    "    dist = (v_dist ** 2 + u_dist ** 2) ** 0.5\n",
    "    \n",
    "    # get the U and V component of the direction of the upslope\n",
    "    # (270 degrees is up E, 180 is up N)\n",
    "    u_upslope = - np.sin(aspect / 180 * np.pi)\n",
    "    v_upslope = - np.cos(aspect / 180 * np.pi)\n",
    "\n",
    "    # dot product the upslope vector with the vector from pixel to (i, j)\n",
    "    upslope = (u_dist * u_upslope  + v_dist * v_upslope) / dist\n",
    "    \n",
    "    # manually set 0/0 value at pixel (i, j) to 1\n",
    "    upslope[i, j] = 1\n",
    "    \n",
    "    # dot product the downwind vector with the vector from pixel to (i, j)\n",
    "    wind = (u_wind ** 2 + v_wind ** 2) ** 0.5\n",
    "    downwind = (u_dist * u_wind + v_dist * v_wind) / (dist * wind)\n",
    "    downwind[i, j] = 1\n",
    "    \n",
    "    # manually set 0/0 value at pixel (i, j) to 1\n",
    "    return dist, upslope, downwind, wind\n",
    "    "
   ]
  },
  {
   "cell_type": "code",
   "execution_count": 10,
   "id": "634ca034",
   "metadata": {},
   "outputs": [],
   "source": [
    "try:\n",
    "    del static_data\n",
    "except:\n",
    "    pass\n"
   ]
  },
  {
   "cell_type": "code",
   "execution_count": 37,
   "id": "743add22",
   "metadata": {},
   "outputs": [],
   "source": [
    "path = 'data/clean/fire_histories_revised'"
   ]
  },
  {
   "cell_type": "code",
   "execution_count": 38,
   "id": "10b5f45a",
   "metadata": {},
   "outputs": [],
   "source": [
    "time_fxx = [{'time' : '12z', 'fxx' : 'f00'}]\n",
    "\n",
    "\n",
    "dropbox_path = r\"C:\\Users\\mit\\Dropbox (MIT)\\wildfire_repo\"\n",
    "hrrr = dropbox_path + '/hrrr'\n",
    "\n",
    "process_single_fire_data('data/clean/fire_histories_revised', 'data/processed', hrrr, 11917747, time_fxx)"
   ]
  },
  {
   "cell_type": "code",
   "execution_count": 35,
   "id": "31d0fa6c",
   "metadata": {},
   "outputs": [],
   "source": [
    "def get_grid_bounds_from_geo_ds(ds):\n",
    "    \n",
    "    tr = ds.GetGeoTransform()\n",
    "    bounds = [tr[0], tr[3] + ds.RasterYSize * tr[5], tr[0] + ds.RasterXSize * tr[1], tr[3]]\n",
    "    return tr[1], -tr[5], bounds"
   ]
  },
  {
   "cell_type": "code",
   "execution_count": 36,
   "id": "2147bfee",
   "metadata": {},
   "outputs": [],
   "source": [
    "def process_single_fire_data(in_dir, out_dir, hrrr_path, inc_id, time_fxx_list):\n",
    "    \n",
    "    # only do this if we have a fire footprint\n",
    "    if not os.path.isfile(f'{in_dir}/{inc_id}/daily_fire_footprint.vrt'):\n",
    "        return\n",
    "    \n",
    "    # make directories if needed\n",
    "    if not os.path.isdir(out_dir):\n",
    "        os.mkdir(out_dir)\n",
    "    if not os.path.isdir(f'{out_dir}/{inc_id}'):\n",
    "        os.mkdir(f'{out_dir}/{inc_id}')\n",
    "\n",
    "\n",
    "    static_data = gdal.Open(f'{in_dir}/{inc_id}/static_data.vrt')\n",
    "    \n",
    "    # make it an array and check we read it right\n",
    "    bands = [static_data.GetRasterBand(i+1) for i in range(static_data.RasterCount)]\n",
    "    np_static_data = np.dstack([band.ReadAsArray() for band in bands])\n",
    "    if np.any(np_static_data == -9999):\n",
    "        raise ValueError('Static data read in wrong')\n",
    "\n",
    "    # save to numpy\n",
    "    np.save(f'{out_dir}/{inc_id}/static_data.npy', np_static_data)\n",
    "    \n",
    "    # save json with documentation of the layers\n",
    "    static_data_lookup = pd.read_csv('data/input/static_data_params.csv')\n",
    "    static_data_lookup = dict(zip(static_data_lookup['layer'], static_data_lookup.index))\n",
    "    with open(f'{out_dir}/{inc_id}/static_data.json', 'w') as f:\n",
    "        json.dump(static_data_lookup, f)\n",
    "\n",
    "    # read geotransform info from static data, to be used to read weather data later\n",
    "    lon_res, lat_res, fire_bbox = get_grid_bounds_from_geo_ds(static_data)\n",
    "    \n",
    "    # read fire footprint data, get number of days\n",
    "    fire_footprint = gdal.Open(f'{in_dir}/{inc_id}/daily_fire_footprint.vrt')\n",
    "    num_days = fire_footprint.RasterCount\n",
    "    \n",
    "    # for each fire day\n",
    "    for fire_day in range(1, num_days+1):\n",
    "\n",
    "        # make numbered subdirectory\n",
    "        if not os.path.isdir(f'{out_dir}/{inc_id}/{fire_day}'):\n",
    "            os.mkdir(f'{out_dir}/{inc_id}/{fire_day}')\n",
    "\n",
    "        # get the raster band and the day\n",
    "        fire = fire_footprint.GetRasterBand(fire_day)\n",
    "        day = fire.GetDescription()\n",
    "        day = day.replace('-', '')\n",
    "\n",
    "        # for the first day only, save some global info about the fire\n",
    "        if fire_day == 1:\n",
    "            with open(f'{out_dir}/{inc_id}/info.json', 'w') as f:\n",
    "                json.dump({'transform' : static_data.GetGeoTransform(), \n",
    "                           'shape' : np_static_data.shape[0:2],\n",
    "                           'start_day' : day,\n",
    "                            'num_days' : num_days}, \n",
    "                          f)\n",
    "\n",
    "        # read the fire footprint for the day as an array, and save\n",
    "        fire = fire.ReadAsArray()\n",
    "        np.save(f'{out_dir}/{inc_id}/{fire_day}/fire.npy', fire)\n",
    "\n",
    "        # for each set of time/fxx params in the list\n",
    "        for d in time_fxx_list:\n",
    "            \n",
    "            # prepare the regex to grab corresponding GRIB file\n",
    "            time = d['time']\n",
    "            fxx = d['fxx']\n",
    "            regex = f'{hrrr_path}/{day}/*{time}*{fxx}*grib2*'\n",
    "            \n",
    "            # read the grib file\n",
    "            grib = glob(regex)\n",
    "            grib = [i for i in grib if '.xml' not in i]\n",
    "            if len(grib) != 1:\n",
    "                raise ValueError(\"Not exactly one GRIB file found\")\n",
    "            grib_file = grib[0]\n",
    "            ds = gdal.Open(grib_file)\n",
    "            \n",
    "            # slice and warp to fire bounds using info from static data\n",
    "            warped = gdal.Warp('temp.vrt', ds, format='VRT', dstSRS='WGS84', xRes=lon_res, yRes=lat_res,\n",
    "                      resampleAlg='bilinear', outputBounds=fire_bbox)\n",
    "\n",
    "            # read weather data to array and save\n",
    "            np_weather_data = np.dstack([warped.GetRasterBand(i+1).ReadAsArray() for i in range(warped.RasterCount)])\n",
    "            np.save(f'{out_dir}/{inc_id}/{fire_day}/weather_{time}_{fxx}.npy', np_weather_data)\n",
    "            \n",
    "            # read and save info about the channels\n",
    "            with open(f'{hrrr_path}/{day}/band_lookup_{time}.json', 'r') as f:\n",
    "                band_lookup = json.load(f)\n",
    "            weather_lookup = {key : band_lookup[key] - 1 for key in band_lookup}\n",
    "            with open(f'{out_dir}/{inc_id}/{fire_day}/weather_{time}.json', 'w') as f:\n",
    "                json.dump(weather_lookup, f)\n",
    "                \n",
    "    os.remove('temp.vrt')  "
   ]
  },
  {
   "cell_type": "code",
   "execution_count": 7,
   "id": "4df59833",
   "metadata": {},
   "outputs": [],
   "source": [
    "inc_id = 11917747\n",
    "time = '12z'\n",
    "fxx = 'f00'\n",
    "\n",
    "bbox = bboxes[str(inc_id)]\n",
    "lon_res, lat_res, fire_bbox = get_fire_grid_bounds(bbox, 0.6)\n",
    "\n",
    "static_data = gdal.Open(f'{path}/{inc_id}/static_data.vrt')\n",
    "fire_footprint = gdal.Open(f'{path}/{inc_id}/daily_fire_footprint.vrt')\n",
    "fire = fire_footprint.GetRasterBand(25)\n",
    "day = fire.GetDescription()\n",
    "day = day.replace('-', '')\n",
    "\n",
    "slope = static_data.GetRasterBand(2)\n",
    "slope = slope.ReadAsArray()\n",
    "aspect = static_data.GetRasterBand(3)\n",
    "aspect = aspect.ReadAsArray()\n",
    "\n",
    "layers = {}\n",
    "\n",
    "regex = f'{hrrr_path}/{day}/*{time}*{fxx}*grib2*'\n",
    "grib = glob(regex)\n",
    "grib = [i for i in grib if '.xml' not in i]\n",
    "if len(grib) != 1:\n",
    "    raise ValueError(\"Not exactly one GRIB file found\")\n",
    "grib_file = grib[0]\n",
    "with open(f'{hrrr_path}/{day}/band_lookup_{time}.json', 'r') as f:\n",
    "    band_lookup = json.load(f)\n",
    "ds = gdal.Open(grib_file)\n",
    "warped = gdal.Warp('temp.vrt', ds, format='VRT', dstSRS='WGS84', xRes=lon_res, yRes=lat_res,\n",
    "          resampleAlg='near', outputBounds=fire_bbox)\n",
    "\n",
    "layers = {}\n",
    "for key in band_lookup:\n",
    "    band = warped.GetRasterBand(band_lookup[key])\n",
    "    layers[key] = band.ReadAsArray()\n",
    "\n",
    "u_wind = layers['UGRD:10 m']\n",
    "v_wind = layers['VGRD:10 m']"
   ]
  },
  {
   "cell_type": "code",
   "execution_count": 8,
   "id": "6e2376e7",
   "metadata": {},
   "outputs": [
    {
     "name": "stderr",
     "output_type": "stream",
     "text": [
      "C:\\Users\\mit\\anaconda3\\envs\\dl\\lib\\site-packages\\ipykernel_launcher.py:30: RuntimeWarning: invalid value encountered in true_divide\n",
      "C:\\Users\\mit\\anaconda3\\envs\\dl\\lib\\site-packages\\ipykernel_launcher.py:37: RuntimeWarning: invalid value encountered in true_divide\n"
     ]
    }
   ],
   "source": [
    "i = 4\n",
    "j = 7\n",
    "dist, upslope, downwind, wind = slope_aspect_wind_transform(slope, aspect, u_wind, v_wind, i, j)"
   ]
  },
  {
   "cell_type": "code",
   "execution_count": 9,
   "id": "ab388a6e",
   "metadata": {},
   "outputs": [
    {
     "data": {
      "text/plain": [
       "Text(0.5, 1.0, 'Upslope in the direction \\n of the key pixel (4, 7)')"
      ]
     },
     "execution_count": 9,
     "metadata": {},
     "output_type": "execute_result"
    },
    {
     "data": {
      "image/png": "[encoded data removed]",
      "text/plain": [
       "<Figure size 1080x720 with 12 Axes>"
      ]
     },
     "metadata": {
      "needs_background": "light"
     },
     "output_type": "display_data"
    }
   ],
   "source": [
    "plt.rcParams['figure.figsize'] = (15, 10)\n",
    "fig, axs = plt.subplots(2, 3)\n",
    "\n",
    "im = axs[0,0].imshow(u_wind)\n",
    "plt.colorbar(im, ax=axs[0,0])\n",
    "axs[0,0].set_title(f'East component of wind\\n {day}')\n",
    "\n",
    "im = axs[0,1].imshow(v_wind)\n",
    "plt.colorbar(im, ax=axs[0,1])\n",
    "axs[0,1].set_title(f'North component of wind\\n {day}')\n",
    "\n",
    "im = axs[0,2].imshow(downwind)\n",
    "plt.colorbar(im, ax=axs[0,2])\n",
    "axs[0,2].set_title(f'Downwind in the direction \\n of the key pixel ({i}, {j})')\n",
    "\n",
    "im = axs[1,0].imshow(-np.sin(aspect / 180 * np.pi))\n",
    "plt.colorbar(im, ax=axs[1,0])\n",
    "axs[1,0].set_title('East component of upslope')\n",
    "\n",
    "im = axs[1,1].imshow(-np.cos(aspect / 180 * np.pi))\n",
    "plt.colorbar(im, ax=axs[1,1])\n",
    "axs[1,1].set_title('North component of upslope')\n",
    "\n",
    "im = axs[1,2].imshow(upslope)\n",
    "plt.colorbar(im, ax=axs[1,2])\n",
    "axs[1,2].set_title(f'Upslope in the direction \\n of the key pixel ({i}, {j})')"
   ]
  },
  {
   "cell_type": "markdown",
   "id": "ec2359e5",
   "metadata": {},
   "source": [
    "![SegmentLocal](data/clean/fire_histories_revised/11917747/daily_fire_footprint.gif \"segment\")"
   ]
  },
  {
   "cell_type": "code",
   "execution_count": 10,
   "id": "e21c8020",
   "metadata": {},
   "outputs": [],
   "source": [
    "def get_layers(layer_names, slope, aspect, fire_array, next_fire_array, geo_ds, band_lookup, i, j, dim,\n",
    "              threshold=0.2):\n",
    "    \n",
    "    layers = {}\n",
    "    for key in band_lookup:\n",
    "        band = geo_ds.GetRasterBand(band_lookup[key])\n",
    "        layers[key] = band.ReadAsArray()\n",
    "    \n",
    "    u_wind = layers['UGRD:10 m']\n",
    "    v_wind = layers['VGRD:10 m']\n",
    "    \n",
    "    layers['dist'], layers['upslope'], layers['downwind'], layers['wind'] = \\\n",
    "        slope_aspect_wind_transform(slope, aspect, u_wind, v_wind, i, j)\n",
    "    \n",
    "    layers['inv_dist'] = 1/layers['dist']\n",
    "    layers['inv_dist'][i, j] = layers['inv_dist'].min()\n",
    "    \n",
    "    layers['fire'] = fire_array\n",
    "    \n",
    "    if layer_names is not None:   \n",
    "        to_stack = [layers[name] for name in layer_names]\n",
    "    else:\n",
    "        to_stack = [layers[name] for name in layers]\n",
    "    stack = np.dstack(to_stack)\n",
    "    stack = stack[i-dim:i+dim+1, j-dim:j+dim+1, :]\n",
    "    \n",
    "    output = (next_fire_array[i, j] > threshold).astype(int)\n",
    "    \n",
    "    return stack, output"
   ]
  },
  {
   "cell_type": "code",
   "execution_count": 16,
   "id": "32f1e588",
   "metadata": {},
   "outputs": [
    {
     "name": "stderr",
     "output_type": "stream",
     "text": [
      "C:\\Users\\mit\\anaconda3\\envs\\dl\\lib\\site-packages\\ipykernel_launcher.py:30: RuntimeWarning: invalid value encountered in true_divide\n",
      "C:\\Users\\mit\\anaconda3\\envs\\dl\\lib\\site-packages\\ipykernel_launcher.py:37: RuntimeWarning: invalid value encountered in true_divide\n",
      "C:\\Users\\mit\\anaconda3\\envs\\dl\\lib\\site-packages\\ipykernel_launcher.py:15: RuntimeWarning: divide by zero encountered in true_divide\n",
      "  from ipykernel import kernelapp as app\n"
     ]
    }
   ],
   "source": [
    "inputs = []\n",
    "outputs = []\n",
    "layers_to_use = ['fire', 'downwind', 'wind']\n",
    "dim = 10\n",
    "    \n",
    "for fire_day in range(1, num_days):\n",
    "\n",
    "    \n",
    "    fire = fire_footprint.GetRasterBand(fire_day)\n",
    "    next_day = fire_footprint.GetRasterBand(fire_day + 1) \n",
    "\n",
    "    day = fire.GetDescription()\n",
    "    day = day.replace('-', '')\n",
    "\n",
    "    fire_array = fire.ReadAsArray()\n",
    "\n",
    "    layers = {}\n",
    "    regex = f'{hrrr_path}/{day}/*{time}*{fxx}*grib2*'\n",
    "    grib = glob(regex)\n",
    "    grib = [i for i in grib if '.xml' not in i]\n",
    "    if len(grib) != 1:\n",
    "        raise ValueError(\"Not exactly one GRIB file found\")\n",
    "    grib_file = grib[0]\n",
    "    with open(f'{hrrr_path}/{day}/band_lookup_{time}.json', 'r') as f:\n",
    "        band_lookup = json.load(f)\n",
    "    ds = gdal.Open(grib_file)\n",
    "    warped = gdal.Warp('temp.vrt', ds, format='VRT', dstSRS='WGS84', xRes=lon_res, yRes=lat_res,\n",
    "              resampleAlg='near', outputBounds=fire_bbox)\n",
    " \n",
    "    for i in range(dim, slope.shape[0] - dim):\n",
    "        for j in range(dim, slope.shape[1] - dim):\n",
    "            stack, output = get_layers(layers_to_use, slope, aspect, fire_array, \n",
    "                                       next_day.ReadAsArray(), warped, band_lookup, i, j, dim)\n",
    "            inputs.append(stack)\n",
    "            outputs.append(output)"
   ]
  },
  {
   "cell_type": "code",
   "execution_count": 138,
   "id": "aed8b617",
   "metadata": {},
   "outputs": [],
   "source": [
    "inputs = np.asarray(inputs)\n",
    "outputs = np.asarray(outputs)\n",
    "\n",
    "ix_to_keep = np.arange(outputs.shape[0])\n",
    "np.random.seed(8)\n",
    "np.random.shuffle(ix_to_keep)\n",
    "\n",
    "inputs = inputs[ix_to_keep, :, :, :]\n",
    "outputs = outputs[ix_to_keep]"
   ]
  },
  {
   "cell_type": "code",
   "execution_count": 139,
   "id": "fb758b07",
   "metadata": {},
   "outputs": [
    {
     "name": "stdout",
     "output_type": "stream",
     "text": [
      "(13200, 21, 21, 3)\n",
      "(13200,)\n"
     ]
    }
   ],
   "source": [
    "print(inputs.shape)\n",
    "print(outputs.shape)"
   ]
  },
  {
   "cell_type": "code",
   "execution_count": 140,
   "id": "5b8ff1d0",
   "metadata": {},
   "outputs": [
    {
     "data": {
      "text/plain": [
       "0.9287878787878788"
      ]
     },
     "execution_count": 140,
     "metadata": {},
     "output_type": "execute_result"
    }
   ],
   "source": [
    "1 - outputs[-2640:].mean()"
   ]
  },
  {
   "cell_type": "code",
   "execution_count": 2,
   "id": "fad9cbed",
   "metadata": {},
   "outputs": [],
   "source": [
    "def slope_aspect_wind_transform(slope, aspect, u_wind, v_wind, i, j):\n",
    "\n",
    "    # sometimes the slope or aspect DataFrames do not read in correctly\n",
    "    if np.any(aspect == -9999) or np.any(slope == -9999):\n",
    "        raise ValueError('Slope or aspect not read correctly')\n",
    "\n",
    "    # get the shape of the arrays, make sure they are always the same\n",
    "    h, w = slope.shape\n",
    "    for arr in [aspect, u_wind, v_wind]:\n",
    "        if arr.shape != slope.shape:\n",
    "            raise ValueError(\"Arrays not all of same shape\")\n",
    "\n",
    "    # get the distance E and N needed to travel from each pixel to (i, j) pixel \n",
    "    u_dist = np.zeros((h, w))\n",
    "    v_dist = np.zeros((h, w))\n",
    "    for y in range(h):\n",
    "        for x in range(w):\n",
    "            u_dist[y, x] = j - x\n",
    "            v_dist[y, x] = y - i\n",
    "\n",
    "    # get the pixel distance from each pixel to (i, j)\n",
    "    dist = (v_dist ** 2 + u_dist ** 2) ** 0.5\n",
    "\n",
    "    # get the U and V component of the direction of the upslope\n",
    "    # (270 degrees is up E, 180 is up N)\n",
    "    u_upslope = - np.sin(aspect / 180 * np.pi)\n",
    "    v_upslope = - np.cos(aspect / 180 * np.pi)\n",
    "\n",
    "    # dot product the upslope vector with the vector from pixel to (i, j)\n",
    "    upslope = (u_dist * u_upslope  + v_dist * v_upslope) / dist\n",
    "\n",
    "    # manually set 0/0 value at pixel (i, j) to 1\n",
    "    upslope[i, j] = 1\n",
    "\n",
    "    # dot product the downwind vector with the vector from pixel to (i, j)\n",
    "    wind = (u_wind ** 2 + v_wind ** 2) ** 0.5\n",
    "    downwind = (u_dist * u_wind + v_dist * v_wind) / (dist * wind)\n",
    "    downwind[i, j] = 1\n",
    "\n",
    "    # manually set 0/0 value at pixel (i, j) to 1\n",
    "    return dist, upslope, downwind, wind"
   ]
  },
  {
   "cell_type": "code",
   "execution_count": 3,
   "id": "4eead704",
   "metadata": {},
   "outputs": [],
   "source": [
    "def basic_cnn_preprocess(path, inc_id, day, i, j, dim, time, fxx, threshold, layer_names):\n",
    "\n",
    "    with open(f'{path}/{inc_id}/static_data.json', 'r') as f:\n",
    "        static_data_lookup = json.load(f)\n",
    "\n",
    "    static_data = np.load(f'{path}/{inc_id}/static_data.npy')\n",
    "    slope = static_data[:, :, static_data_lookup['slope']]\n",
    "    aspect = static_data[:, :, static_data_lookup['aspect']]\n",
    "\n",
    "    with open(f'{path}/{inc_id}/{day}/weather_{time}.json', 'r') as f:\n",
    "        weather_data_lookup = json.load(f)\n",
    "    weather_data = np.load(f'{path}/{inc_id}/{day}/weather_{time}_{fxx}.npy')\n",
    "\n",
    "    layers = {}\n",
    "    for key in weather_data_lookup:\n",
    "        layers[key] = weather_data[:, :, weather_data_lookup[key]]\n",
    "\n",
    "    u_wind = layers['UGRD:10 m']\n",
    "    v_wind = layers['VGRD:10 m']\n",
    "\n",
    "    layers['dist'], layers['upslope'], layers['downwind'], layers['wind'] = \\\n",
    "        slope_aspect_wind_transform(slope, aspect, u_wind, v_wind, i, j)\n",
    "\n",
    "    layers['inv_dist'] = 1/layers['dist']\n",
    "    layers['inv_dist'][i, j] = layers['inv_dist'].min()\n",
    "\n",
    "    layers['fire'] = np.load(f'{path}/{inc_id}/{day}/fire.npy')\n",
    "\n",
    "    if layer_names is not None:   \n",
    "        to_stack = [layers[name] for name in layer_names]\n",
    "    else:\n",
    "        to_stack = [layers[name] for name in layers]\n",
    "    stack = np.dstack(to_stack)\n",
    "    stack = stack[i-dim:i+dim+1, j-dim:j+dim+1, :]\n",
    "\n",
    "    next_fire_array = np.load(f'{path}/{inc_id}/{day+1}/fire.npy')\n",
    "    output = (next_fire_array[i, j] > threshold).astype(int)\n",
    "    \n",
    "    return stack, output"
   ]
  },
  {
   "cell_type": "code",
   "execution_count": 4,
   "id": "651e48f3",
   "metadata": {},
   "outputs": [
    {
     "data": {
      "text/plain": [
       "302.7024"
      ]
     },
     "execution_count": 4,
     "metadata": {},
     "output_type": "execute_result"
    }
   ],
   "source": [
    "13200 * 21 * 21 * 13 * 4 / 1000000"
   ]
  },
  {
   "cell_type": "code",
   "execution_count": 5,
   "id": "eee82159",
   "metadata": {},
   "outputs": [
    {
     "name": "stderr",
     "output_type": "stream",
     "text": [
      "C:\\Users\\mit\\anaconda3\\envs\\dl\\lib\\site-packages\\ipykernel_launcher.py:30: RuntimeWarning: invalid value encountered in true_divide\n",
      "C:\\Users\\mit\\anaconda3\\envs\\dl\\lib\\site-packages\\ipykernel_launcher.py:37: RuntimeWarning: invalid value encountered in true_divide\n",
      "C:\\Users\\mit\\anaconda3\\envs\\dl\\lib\\site-packages\\ipykernel_launcher.py:24: RuntimeWarning: divide by zero encountered in true_divide\n"
     ]
    }
   ],
   "source": [
    "path = 'data/processed'\n",
    "dim = 10\n",
    "time = '12z'\n",
    "fxx = 'f00'\n",
    "threshold = 0.2\n",
    "layers = ['fire', 'downwind', 'wind']\n",
    "\n",
    "all_IDs = []\n",
    "inc_ids = os.listdir(path)\n",
    "for inc_id in inc_ids:\n",
    "    shape = np.load(f'{path}/{inc_id}/1/fire.npy').shape[0:2]\n",
    "    days = sorted([int(i) for i in os.listdir(f'{path}/{inc_id}') if '.' not in i])\n",
    "    days = days[:-1]\n",
    "    IDs = [(inc_id, day, i, j) for day in days for i in range(dim, shape[0] - dim) \\\n",
    "                               for j in range(dim, shape[1] - dim)]\n",
    "    all_IDs = all_IDs + IDs\n",
    "\n",
    "inps = []\n",
    "outps = []\n",
    "\n",
    "for ID in all_IDs:\n",
    "    inc_id, day, i, j = ID\n",
    "    inp, outp = basic_cnn_preprocess(path, inc_id, day, i, j, dim, time, fxx, threshold, layers)\n",
    "    inps.append(inp)\n",
    "    outps.append(outp)"
   ]
  },
  {
   "cell_type": "code",
   "execution_count": 6,
   "id": "f9678718",
   "metadata": {},
   "outputs": [
    {
     "data": {
      "text/plain": [
       "0.06856060606060606"
      ]
     },
     "execution_count": 6,
     "metadata": {},
     "output_type": "execute_result"
    }
   ],
   "source": [
    "np.mean(outps)"
   ]
  },
  {
   "cell_type": "code",
   "execution_count": 7,
   "id": "50c4c951",
   "metadata": {},
   "outputs": [],
   "source": [
    "inputs = np.asarray(inps)\n",
    "outputs = np.asarray(outps)\n",
    "\n",
    "ix_to_keep = np.arange(outputs.shape[0])\n",
    "np.random.seed(8)\n",
    "np.random.shuffle(ix_to_keep)\n",
    "\n",
    "inputs = inputs[ix_to_keep, :, :, :]\n",
    "outputs = outputs[ix_to_keep]"
   ]
  },
  {
   "cell_type": "code",
   "execution_count": 11,
   "id": "3230cb0e",
   "metadata": {},
   "outputs": [],
   "source": [
    "if not os.path.isdir('data/cnn_input'):\n",
    "    os.mkdir('data/cnn_input')\n",
    "    \n",
    "for i, output in enumerate(outputs):\n",
    "    np.save(f'data/cnn_input/{i}.npy', inputs[i, :, :, :])\n"
   ]
  },
  {
   "cell_type": "code",
   "execution_count": 8,
   "id": "25c596dd",
   "metadata": {},
   "outputs": [],
   "source": [
    "class DataGenerator(keras.utils.Sequence):\n",
    "    'Generates data for Keras'\n",
    "    def __init__(self, list_IDs, labels, batch_size=32, dim=(21, 21), n_channels=3, shuffle=True):\n",
    "        'Initialization'\n",
    "        self.dim = dim\n",
    "        self.batch_size = batch_size\n",
    "        self.labels = labels\n",
    "        self.list_IDs = list_IDs\n",
    "        self.n_channels = n_channels\n",
    "        self.shuffle = shuffle\n",
    "        self.on_epoch_end()\n",
    "\n",
    "    def __len__(self):\n",
    "        'Denotes the number of batches per epoch'\n",
    "        return int(np.floor(len(self.list_IDs) / self.batch_size))\n",
    "\n",
    "    def __getitem__(self, index):\n",
    "        'Generate one batch of data'\n",
    "        # Generate indexes of the batch\n",
    "        indexes = self.indexes[index*self.batch_size:(index+1)*self.batch_size]\n",
    "\n",
    "        # Find list of IDs\n",
    "        list_IDs_temp = [self.list_IDs[k] for k in indexes]\n",
    "\n",
    "        # Generate data\n",
    "        X, y = self.__data_generation(list_IDs_temp)\n",
    "\n",
    "        return X, y\n",
    "\n",
    "    def on_epoch_end(self):\n",
    "        'Updates indexes after each epoch'\n",
    "        self.indexes = np.arange(len(self.list_IDs))\n",
    "        if self.shuffle == True:\n",
    "            np.random.shuffle(self.indexes)\n",
    "\n",
    "    def __data_generation(self, list_IDs_temp):\n",
    "        'Generates data containing batch_size samples' # X : (n_samples, *dim, n_channels)\n",
    "        # Initialization\n",
    "        X = np.empty((self.batch_size, *self.dim, self.n_channels))\n",
    "        y = np.empty((self.batch_size), dtype=int)\n",
    "\n",
    "        # Generate data\n",
    "        for i, ID in enumerate(list_IDs_temp):\n",
    "            # Store sample\n",
    "            X[i,] = np.load('data/cnn_input/' + str(ID) + '.npy')\n",
    "\n",
    "            # Store class\n",
    "            y[i] = self.labels[ID]\n",
    "\n",
    "        return X, y"
   ]
  },
  {
   "cell_type": "code",
   "execution_count": 9,
   "id": "ae332c07",
   "metadata": {},
   "outputs": [],
   "source": [
    "# Generators\n",
    "training_generator = DataGenerator(range(10560), outputs)\n",
    "validation_generator = DataGenerator(range(10560, 13200), outputs)"
   ]
  },
  {
   "cell_type": "code",
   "execution_count": 10,
   "id": "77a587e6",
   "metadata": {},
   "outputs": [
    {
     "data": {
      "text/plain": [
       "0.9287878787878788"
      ]
     },
     "execution_count": 10,
     "metadata": {},
     "output_type": "execute_result"
    }
   ],
   "source": [
    "1 - outputs[-2640:].mean()"
   ]
  },
  {
   "cell_type": "code",
   "execution_count": 25,
   "id": "48affe2b",
   "metadata": {},
   "outputs": [],
   "source": [
    "from tensorflow.keras.layers import Conv2D, MaxPool2D, Flatten, Dense, Dropout\n",
    "\n",
    "model = keras.Sequential(\n",
    "    [\n",
    "        keras.Input(shape=inputs.shape[1:]),\n",
    "        Conv2D(5, kernel_size=(2, 2), activation=\"relu\", name=\"Conv_1\"),\n",
    "        MaxPool2D(),\n",
    "        Flatten(),\n",
    "        Dense(256, activation=\"relu\"),   \n",
    "        Dropout(0.2), \n",
    "        Dense(2, activation=\"softmax\", name=\"Output\")\n",
    "    ]\n",
    "\n",
    ")"
   ]
  },
  {
   "cell_type": "code",
   "execution_count": 26,
   "id": "104626a0",
   "metadata": {},
   "outputs": [
    {
     "name": "stdout",
     "output_type": "stream",
     "text": [
      "Model: \"sequential_2\"\n",
      "_________________________________________________________________\n",
      "Layer (type)                 Output Shape              Param #   \n",
      "=================================================================\n",
      "Conv_1 (Conv2D)              (None, 20, 20, 5)         65        \n",
      "_________________________________________________________________\n",
      "max_pooling2d_2 (MaxPooling2 (None, 10, 10, 5)         0         \n",
      "_________________________________________________________________\n",
      "flatten_2 (Flatten)          (None, 500)               0         \n",
      "_________________________________________________________________\n",
      "dense_2 (Dense)              (None, 256)               128256    \n",
      "_________________________________________________________________\n",
      "dropout_2 (Dropout)          (None, 256)               0         \n",
      "_________________________________________________________________\n",
      "Output (Dense)               (None, 2)                 514       \n",
      "=================================================================\n",
      "Total params: 128,835\n",
      "Trainable params: 128,835\n",
      "Non-trainable params: 0\n",
      "_________________________________________________________________\n"
     ]
    },
    {
     "data": {
      "text/plain": [
       "None"
      ]
     },
     "metadata": {},
     "output_type": "display_data"
    }
   ],
   "source": [
    "display(model.summary())"
   ]
  },
  {
   "cell_type": "code",
   "execution_count": 27,
   "id": "9ee46f0c",
   "metadata": {},
   "outputs": [],
   "source": [
    "model.compile(loss='sparse_categorical_crossentropy',\n",
    "             optimizer='adam',\n",
    "             metrics=['accuracy'])"
   ]
  },
  {
   "cell_type": "code",
   "execution_count": 28,
   "id": "5f598c8c",
   "metadata": {},
   "outputs": [],
   "source": [
    "callbacks = [keras.callbacks.ModelCheckpoint(\n",
    "    filepath='cnn_from_scratch.keras',\n",
    "    save_best_only=True,\n",
    "    monitor='val_acc')]"
   ]
  },
  {
   "cell_type": "code",
   "execution_count": 29,
   "id": "28d4c9ac",
   "metadata": {},
   "outputs": [
    {
     "name": "stdout",
     "output_type": "stream",
     "text": [
      "Train on 10560 samples, validate on 2640 samples\n",
      "Epoch 1/15\n",
      "10560/10560 [==============================] - 5s 445us/sample - loss: 0.3151 - acc: 0.9282 - val_loss: 0.2068 - val_acc: 0.9299\n",
      "Epoch 2/15\n",
      "10560/10560 [==============================] - 2s 144us/sample - loss: 0.1987 - acc: 0.9343 - val_loss: 0.1802 - val_acc: 0.9337\n",
      "Epoch 3/15\n",
      "10560/10560 [==============================] - 1s 141us/sample - loss: 0.1719 - acc: 0.9381 - val_loss: 0.1864 - val_acc: 0.9356\n",
      "Epoch 4/15\n",
      "10560/10560 [==============================] - 1s 141us/sample - loss: 0.1586 - acc: 0.9421 - val_loss: 0.1575 - val_acc: 0.9409\n",
      "Epoch 5/15\n",
      "10560/10560 [==============================] - 2s 152us/sample - loss: 0.1418 - acc: 0.9451 - val_loss: 0.1455 - val_acc: 0.9413\n",
      "Epoch 6/15\n",
      "10560/10560 [==============================] - 1s 139us/sample - loss: 0.1333 - acc: 0.9485 - val_loss: 0.1382 - val_acc: 0.9455\n",
      "Epoch 7/15\n",
      "10560/10560 [==============================] - 1s 138us/sample - loss: 0.1192 - acc: 0.9535 - val_loss: 0.1367 - val_acc: 0.9519\n",
      "Epoch 8/15\n",
      "10560/10560 [==============================] - 1s 141us/sample - loss: 0.1110 - acc: 0.9574 - val_loss: 0.1280 - val_acc: 0.9500\n",
      "Epoch 9/15\n",
      "10560/10560 [==============================] - 2s 150us/sample - loss: 0.1064 - acc: 0.9598 - val_loss: 0.1327 - val_acc: 0.9511\n",
      "Epoch 10/15\n",
      "10560/10560 [==============================] - 2s 154us/sample - loss: 0.1007 - acc: 0.9616 - val_loss: 0.1227 - val_acc: 0.9527\n",
      "Epoch 11/15\n",
      "10560/10560 [==============================] - 2s 145us/sample - loss: 0.0933 - acc: 0.9655 - val_loss: 0.1224 - val_acc: 0.9557\n",
      "Epoch 12/15\n",
      "10560/10560 [==============================] - 2s 145us/sample - loss: 0.0892 - acc: 0.9656 - val_loss: 0.1158 - val_acc: 0.9576\n",
      "Epoch 13/15\n",
      "10560/10560 [==============================] - 1s 139us/sample - loss: 0.0837 - acc: 0.9672 - val_loss: 0.1180 - val_acc: 0.9561\n",
      "Epoch 14/15\n",
      "10560/10560 [==============================] - 1s 139us/sample - loss: 0.0778 - acc: 0.9688 - val_loss: 0.1202 - val_acc: 0.9591\n",
      "Epoch 15/15\n",
      "10560/10560 [==============================] - 2s 188us/sample - loss: 0.0778 - acc: 0.9695 - val_loss: 0.1224 - val_acc: 0.9564\n"
     ]
    },
    {
     "data": {
      "text/plain": [
       "<tensorflow.python.keras.callbacks.History at 0x2c11e476988>"
      ]
     },
     "execution_count": 29,
     "metadata": {},
     "output_type": "execute_result"
    }
   ],
   "source": [
    "callbacks = [keras.callbacks.ModelCheckpoint(\n",
    "    filepath='cnn_from_scratch.keras',\n",
    "    save_best_only=True,\n",
    "    monitor='val_acc')]\n",
    "\n",
    "# This callback will tell the trainer that we must store the weights that give the best accuracy in validation\n",
    "\n",
    "model.fit(inputs,\n",
    "         outputs,\n",
    "         batch_size=32,\n",
    "         epochs=15,\n",
    "         validation_split=0.2,\n",
    "         callbacks=callbacks)"
   ]
  },
  {
   "cell_type": "code",
   "execution_count": 31,
   "id": "66930599",
   "metadata": {},
   "outputs": [],
   "source": [
    "sorted_IDs = [all_IDs[i] for i in ix_to_keep]"
   ]
  },
  {
   "cell_type": "code",
   "execution_count": 263,
   "id": "72040dda",
   "metadata": {},
   "outputs": [],
   "source": [
    "inc_ids = set([i[0] for i in sorted_IDs])\n",
    "path = 'data/processed'\n",
    "\n",
    "fires = {}\n",
    "for inc_id in inc_ids:\n",
    "    with open(f'{path}/{inc_id}/info.json', 'r') as f:\n",
    "        info = json.load(f)\n",
    "    shape = info['shape']\n",
    "    days = info['num_days']\n",
    "    arr_shape = tuple(shape) + (days,)\n",
    "    fires[inc_id] = np.full(arr_shape, 'No prediction', dtype='object')"
   ]
  },
  {
   "cell_type": "code",
   "execution_count": 264,
   "id": "709f4fbc",
   "metadata": {},
   "outputs": [],
   "source": [
    "y_pred = np.argmax(model.predict(inputs), axis=1)"
   ]
  },
  {
   "cell_type": "code",
   "execution_count": 265,
   "id": "a047a68f",
   "metadata": {},
   "outputs": [],
   "source": [
    "for i, ID in enumerate(sorted_IDs):\n",
    "    \n",
    "    pred = y_pred[i]\n",
    "    actual = outputs[i]\n",
    "    train = i < 10560\n",
    "\n",
    "    val = 'Error'\n",
    "    if pred == 0 and actual == 0:\n",
    "        val = 'True Negative'\n",
    "    if pred == 1 and actual == 1:\n",
    "        val = 'True Positive'\n",
    "    if pred == 1 and actual == 0:\n",
    "        val = 'False Positive'\n",
    "    if pred == 0 and actual == 1:\n",
    "        val = 'False Negative'\n",
    "        \n",
    "    # haha a little bit on the nose\n",
    "    if val == 'Error':\n",
    "        raise ValueError() \n",
    "        \n",
    "    if train:\n",
    "        val = 'Train ' + val\n",
    "    else:\n",
    "        val = 'Validation ' + val\n",
    "        \n",
    "    inc, day, i, j = ID\n",
    "    \n",
    "    # note that 1-indexing and next day cancel each other out, not day+1\n",
    "    fires[inc_id][i, j, day] = val\n",
    "        "
   ]
  },
  {
   "cell_type": "code",
   "execution_count": 304,
   "id": "9e78eaf5",
   "metadata": {},
   "outputs": [],
   "source": [
    "path = f'data/processed/{inc_id}'\n",
    "day = 10"
   ]
  },
  {
   "cell_type": "code",
   "execution_count": 328,
   "id": "850bb217",
   "metadata": {},
   "outputs": [],
   "source": [
    "def f(s, green=[], red=[]):\n",
    "\n",
    "    if s in green:\n",
    "        return 1\n",
    "    if s in red:\n",
    "        return -1\n",
    "    return 0\n",
    "\n",
    "func = np.vectorize(f, excluded=['green', 'red'])"
   ]
  },
  {
   "cell_type": "code",
   "execution_count": 331,
   "id": "b9231921",
   "metadata": {},
   "outputs": [
    {
     "data": {
      "text/plain": [
       "Text(0.5, 1.0, 'Validation True Negative/Validation False Positive')"
      ]
     },
     "execution_count": 331,
     "metadata": {},
     "output_type": "execute_result"
    },
    {
     "data": {
      "image/png": "[encoded data removed]",
      "text/plain": [
       "<Figure size 720x1440 with 8 Axes>"
      ]
     },
     "metadata": {
      "needs_background": "light"
     },
     "output_type": "display_data"
    }
   ],
   "source": [
    "path = f'data/processed/{inc_id}'\n",
    "day = 20\n",
    "\n",
    "plt.rcParams['figure.figsize'] = (10, 20)\n",
    "fig, axs = plt.subplots(4, 2)\n",
    "\n",
    "weather = np.load(f'{path}/{day-1}/weather_12z_f00.npy')\n",
    "with open(f'{path}/{day-1}/weather_12z.json', 'r') as f:\n",
    "    bands = json.load(f)\n",
    "u_wind = weather[:, :, bands['UGRD:10 m']]\n",
    "v_wind = weather[:, :, bands['VGRD:10 m']]\n",
    "axs[0, 0].quiver(np.flip(u_wind, axis=0)[::4, ::4], np.flip(v_wind, axis=0)[::4, ::4], scale=100)\n",
    "axs[0, 0].set_title('Yesterday wind')\n",
    "\n",
    "weather = np.load(f'{path}/{day}/weather_12z_f00.npy')\n",
    "with open(f'{path}/{day}/weather_12z.json', 'r') as f:\n",
    "    bands = json.load(f)\n",
    "u_wind = weather[:, :, bands['UGRD:10 m']]\n",
    "v_wind = weather[:, :, bands['VGRD:10 m']]\n",
    "axs[0, 1].quiver(np.flip(u_wind, axis=0)[::4, ::4], np.flip(v_wind, axis=0)[::4, ::4], scale=100)\n",
    "axs[0, 1].set_title('Today wind')\n",
    "\n",
    "fire = np.load(f'{path}/{day-1}/fire.npy')\n",
    "fire = fire > 0.2\n",
    "axs[1, 0].imshow(fire, cmap='hot')\n",
    "axs[1,0].set_title('Yesterday fire')\n",
    "\n",
    "fire = np.load(f'{path}/{day}/fire.npy')\n",
    "fire = fire > 0.2\n",
    "axs[1, 1].imshow(fire, cmap='hot')\n",
    "axs[1,1].set_title('Today fire')\n",
    "\n",
    "\n",
    "day_fire = fires[inc_id][:, :, day-1]\n",
    "d = {'green' : ['Train True Positive'], 'red' : ['Train True Positive']}\n",
    "axs[2, 0].imshow(func(day_fire, **d), cmap = plt.cm.get_cmap('RdYlGn', 3), vmin=-1, vmax=1)\n",
    "axs[2,0].set_title('Train True Positive/Train False Negative')\n",
    "\n",
    "d = {'green' : ['Validation True Positive'], 'red' : ['Validation False Negative']}\n",
    "axs[2, 1].imshow(func(day_fire, **d), cmap = plt.cm.get_cmap('RdYlGn', 3), vmin=-1, vmax=1)\n",
    "axs[2,1].set_title('Validation True Positive/False Negative')\n",
    "\n",
    "d = {'green' : ['Train True Negative'], 'red' : ['Train False Positive']}\n",
    "axs[3, 0].imshow(func(day_fire, **d), cmap = plt.cm.get_cmap('RdYlGn', 3), vmin=-1, vmax=1)\n",
    "axs[3,0].set_title('Train True Negative/Train False Positive')\n",
    "\n",
    "d = {'green' : ['Validation True Negative'], 'red' : ['Validation False Positive']}\n",
    "axs[3, 1].imshow(func(day_fire, **d), cmap = plt.cm.get_cmap('RdYlGn', 3), vmin=-1, vmax=1)\n",
    "axs[3,1].set_title('Validation True Negative/Validation False Positive')\n",
    "\n",
    "\n",
    "\n"
   ]
  },
  {
   "cell_type": "code",
   "execution_count": 18,
   "id": "37d9f4eb",
   "metadata": {},
   "outputs": [
    {
     "name": "stdout",
     "output_type": "stream",
     "text": [
      "Epoch 1/15\n",
      "330/330 [==============================] - 7s 22ms/step - loss: 0.0122 - acc: 0.9953 - val_loss: 0.2449 - val_acc: 0.9569\n",
      "Epoch 2/15\n",
      "330/330 [==============================] - 5s 16ms/step - loss: 0.0120 - acc: 0.9956 - val_loss: 0.2619 - val_acc: 0.9539\n",
      "Epoch 3/15\n",
      "110/330 [=========>....................] - ETA: 2s - loss: 0.0141 - acc: 0.9952"
     ]
    },
    {
     "ename": "KeyboardInterrupt",
     "evalue": "",
     "output_type": "error",
     "traceback": [
      "\u001b[1;31m---------------------------------------------------------------------------\u001b[0m",
      "\u001b[1;31mKeyboardInterrupt\u001b[0m                         Traceback (most recent call last)",
      "\u001b[1;32m~\\AppData\\Local\\Temp/ipykernel_18940/2454112960.py\u001b[0m in \u001b[0;36m<module>\u001b[1;34m\u001b[0m\n\u001b[0;32m      3\u001b[0m                     \u001b[0muse_multiprocessing\u001b[0m\u001b[1;33m=\u001b[0m\u001b[1;32mFalse\u001b[0m\u001b[1;33m,\u001b[0m\u001b[1;33m\u001b[0m\u001b[1;33m\u001b[0m\u001b[0m\n\u001b[0;32m      4\u001b[0m                     \u001b[0mepochs\u001b[0m\u001b[1;33m=\u001b[0m\u001b[1;36m15\u001b[0m\u001b[1;33m,\u001b[0m\u001b[1;33m\u001b[0m\u001b[1;33m\u001b[0m\u001b[0m\n\u001b[1;32m----> 5\u001b[1;33m                     workers=2)\n\u001b[0m",
      "\u001b[1;32m~\\anaconda3\\envs\\dl\\lib\\site-packages\\tensorflow\\python\\keras\\engine\\training.py\u001b[0m in \u001b[0;36mfit_generator\u001b[1;34m(self, generator, steps_per_epoch, epochs, verbose, callbacks, validation_data, validation_steps, validation_freq, class_weight, max_queue_size, workers, use_multiprocessing, shuffle, initial_epoch)\u001b[0m\n\u001b[0;32m   1431\u001b[0m         \u001b[0mshuffle\u001b[0m\u001b[1;33m=\u001b[0m\u001b[0mshuffle\u001b[0m\u001b[1;33m,\u001b[0m\u001b[1;33m\u001b[0m\u001b[1;33m\u001b[0m\u001b[0m\n\u001b[0;32m   1432\u001b[0m         \u001b[0minitial_epoch\u001b[0m\u001b[1;33m=\u001b[0m\u001b[0minitial_epoch\u001b[0m\u001b[1;33m,\u001b[0m\u001b[1;33m\u001b[0m\u001b[1;33m\u001b[0m\u001b[0m\n\u001b[1;32m-> 1433\u001b[1;33m         steps_name='steps_per_epoch')\n\u001b[0m\u001b[0;32m   1434\u001b[0m \u001b[1;33m\u001b[0m\u001b[0m\n\u001b[0;32m   1435\u001b[0m   def evaluate_generator(self,\n",
      "\u001b[1;32m~\\anaconda3\\envs\\dl\\lib\\site-packages\\tensorflow\\python\\keras\\engine\\training_generator.py\u001b[0m in \u001b[0;36mmodel_iteration\u001b[1;34m(model, data, steps_per_epoch, epochs, verbose, callbacks, validation_data, validation_steps, validation_freq, class_weight, max_queue_size, workers, use_multiprocessing, shuffle, initial_epoch, mode, batch_size, steps_name, **kwargs)\u001b[0m\n\u001b[0;32m    218\u001b[0m     \u001b[0mstep\u001b[0m \u001b[1;33m=\u001b[0m \u001b[1;36m0\u001b[0m\u001b[1;33m\u001b[0m\u001b[1;33m\u001b[0m\u001b[0m\n\u001b[0;32m    219\u001b[0m     \u001b[1;32mwhile\u001b[0m \u001b[0mstep\u001b[0m \u001b[1;33m<\u001b[0m \u001b[0mtarget_steps\u001b[0m\u001b[1;33m:\u001b[0m\u001b[1;33m\u001b[0m\u001b[1;33m\u001b[0m\u001b[0m\n\u001b[1;32m--> 220\u001b[1;33m       \u001b[0mbatch_data\u001b[0m \u001b[1;33m=\u001b[0m \u001b[0m_get_next_batch\u001b[0m\u001b[1;33m(\u001b[0m\u001b[0mgenerator\u001b[0m\u001b[1;33m,\u001b[0m \u001b[0mmode\u001b[0m\u001b[1;33m)\u001b[0m\u001b[1;33m\u001b[0m\u001b[1;33m\u001b[0m\u001b[0m\n\u001b[0m\u001b[0;32m    221\u001b[0m       \u001b[1;32mif\u001b[0m \u001b[0mbatch_data\u001b[0m \u001b[1;32mis\u001b[0m \u001b[1;32mNone\u001b[0m\u001b[1;33m:\u001b[0m\u001b[1;33m\u001b[0m\u001b[1;33m\u001b[0m\u001b[0m\n\u001b[0;32m    222\u001b[0m         \u001b[1;32mif\u001b[0m \u001b[0mis_dataset\u001b[0m\u001b[1;33m:\u001b[0m\u001b[1;33m\u001b[0m\u001b[1;33m\u001b[0m\u001b[0m\n",
      "\u001b[1;32m~\\anaconda3\\envs\\dl\\lib\\site-packages\\tensorflow\\python\\keras\\engine\\training_generator.py\u001b[0m in \u001b[0;36m_get_next_batch\u001b[1;34m(generator, mode)\u001b[0m\n\u001b[0;32m    360\u001b[0m   \u001b[1;34m\"\"\"Retrieves the next batch of input data.\"\"\"\u001b[0m\u001b[1;33m\u001b[0m\u001b[1;33m\u001b[0m\u001b[0m\n\u001b[0;32m    361\u001b[0m   \u001b[1;32mtry\u001b[0m\u001b[1;33m:\u001b[0m\u001b[1;33m\u001b[0m\u001b[1;33m\u001b[0m\u001b[0m\n\u001b[1;32m--> 362\u001b[1;33m     \u001b[0mgenerator_output\u001b[0m \u001b[1;33m=\u001b[0m \u001b[0mnext\u001b[0m\u001b[1;33m(\u001b[0m\u001b[0mgenerator\u001b[0m\u001b[1;33m)\u001b[0m\u001b[1;33m\u001b[0m\u001b[1;33m\u001b[0m\u001b[0m\n\u001b[0m\u001b[0;32m    363\u001b[0m   \u001b[1;32mexcept\u001b[0m \u001b[1;33m(\u001b[0m\u001b[0mStopIteration\u001b[0m\u001b[1;33m,\u001b[0m \u001b[0merrors\u001b[0m\u001b[1;33m.\u001b[0m\u001b[0mOutOfRangeError\u001b[0m\u001b[1;33m)\u001b[0m\u001b[1;33m:\u001b[0m\u001b[1;33m\u001b[0m\u001b[1;33m\u001b[0m\u001b[0m\n\u001b[0;32m    364\u001b[0m     \u001b[1;32mreturn\u001b[0m \u001b[1;32mNone\u001b[0m\u001b[1;33m\u001b[0m\u001b[1;33m\u001b[0m\u001b[0m\n",
      "\u001b[1;32m~\\anaconda3\\envs\\dl\\lib\\site-packages\\tensorflow\\python\\keras\\utils\\data_utils.py\u001b[0m in \u001b[0;36mget\u001b[1;34m(self)\u001b[0m\n\u001b[0;32m    777\u001b[0m     \u001b[1;32mtry\u001b[0m\u001b[1;33m:\u001b[0m\u001b[1;33m\u001b[0m\u001b[1;33m\u001b[0m\u001b[0m\n\u001b[0;32m    778\u001b[0m       \u001b[1;32mwhile\u001b[0m \u001b[0mself\u001b[0m\u001b[1;33m.\u001b[0m\u001b[0mis_running\u001b[0m\u001b[1;33m(\u001b[0m\u001b[1;33m)\u001b[0m\u001b[1;33m:\u001b[0m\u001b[1;33m\u001b[0m\u001b[1;33m\u001b[0m\u001b[0m\n\u001b[1;32m--> 779\u001b[1;33m         \u001b[0minputs\u001b[0m \u001b[1;33m=\u001b[0m \u001b[0mself\u001b[0m\u001b[1;33m.\u001b[0m\u001b[0mqueue\u001b[0m\u001b[1;33m.\u001b[0m\u001b[0mget\u001b[0m\u001b[1;33m(\u001b[0m\u001b[0mblock\u001b[0m\u001b[1;33m=\u001b[0m\u001b[1;32mTrue\u001b[0m\u001b[1;33m)\u001b[0m\u001b[1;33m.\u001b[0m\u001b[0mget\u001b[0m\u001b[1;33m(\u001b[0m\u001b[1;33m)\u001b[0m\u001b[1;33m\u001b[0m\u001b[1;33m\u001b[0m\u001b[0m\n\u001b[0m\u001b[0;32m    780\u001b[0m         \u001b[0mself\u001b[0m\u001b[1;33m.\u001b[0m\u001b[0mqueue\u001b[0m\u001b[1;33m.\u001b[0m\u001b[0mtask_done\u001b[0m\u001b[1;33m(\u001b[0m\u001b[1;33m)\u001b[0m\u001b[1;33m\u001b[0m\u001b[1;33m\u001b[0m\u001b[0m\n\u001b[0;32m    781\u001b[0m         \u001b[1;32mif\u001b[0m \u001b[0minputs\u001b[0m \u001b[1;32mis\u001b[0m \u001b[1;32mnot\u001b[0m \u001b[1;32mNone\u001b[0m\u001b[1;33m:\u001b[0m\u001b[1;33m\u001b[0m\u001b[1;33m\u001b[0m\u001b[0m\n",
      "\u001b[1;32m~\\anaconda3\\envs\\dl\\lib\\multiprocessing\\pool.py\u001b[0m in \u001b[0;36mget\u001b[1;34m(self, timeout)\u001b[0m\n\u001b[0;32m    649\u001b[0m \u001b[1;33m\u001b[0m\u001b[0m\n\u001b[0;32m    650\u001b[0m     \u001b[1;32mdef\u001b[0m \u001b[0mget\u001b[0m\u001b[1;33m(\u001b[0m\u001b[0mself\u001b[0m\u001b[1;33m,\u001b[0m \u001b[0mtimeout\u001b[0m\u001b[1;33m=\u001b[0m\u001b[1;32mNone\u001b[0m\u001b[1;33m)\u001b[0m\u001b[1;33m:\u001b[0m\u001b[1;33m\u001b[0m\u001b[1;33m\u001b[0m\u001b[0m\n\u001b[1;32m--> 651\u001b[1;33m         \u001b[0mself\u001b[0m\u001b[1;33m.\u001b[0m\u001b[0mwait\u001b[0m\u001b[1;33m(\u001b[0m\u001b[0mtimeout\u001b[0m\u001b[1;33m)\u001b[0m\u001b[1;33m\u001b[0m\u001b[1;33m\u001b[0m\u001b[0m\n\u001b[0m\u001b[0;32m    652\u001b[0m         \u001b[1;32mif\u001b[0m \u001b[1;32mnot\u001b[0m \u001b[0mself\u001b[0m\u001b[1;33m.\u001b[0m\u001b[0mready\u001b[0m\u001b[1;33m(\u001b[0m\u001b[1;33m)\u001b[0m\u001b[1;33m:\u001b[0m\u001b[1;33m\u001b[0m\u001b[1;33m\u001b[0m\u001b[0m\n\u001b[0;32m    653\u001b[0m             \u001b[1;32mraise\u001b[0m \u001b[0mTimeoutError\u001b[0m\u001b[1;33m\u001b[0m\u001b[1;33m\u001b[0m\u001b[0m\n",
      "\u001b[1;32m~\\anaconda3\\envs\\dl\\lib\\multiprocessing\\pool.py\u001b[0m in \u001b[0;36mwait\u001b[1;34m(self, timeout)\u001b[0m\n\u001b[0;32m    646\u001b[0m \u001b[1;33m\u001b[0m\u001b[0m\n\u001b[0;32m    647\u001b[0m     \u001b[1;32mdef\u001b[0m \u001b[0mwait\u001b[0m\u001b[1;33m(\u001b[0m\u001b[0mself\u001b[0m\u001b[1;33m,\u001b[0m \u001b[0mtimeout\u001b[0m\u001b[1;33m=\u001b[0m\u001b[1;32mNone\u001b[0m\u001b[1;33m)\u001b[0m\u001b[1;33m:\u001b[0m\u001b[1;33m\u001b[0m\u001b[1;33m\u001b[0m\u001b[0m\n\u001b[1;32m--> 648\u001b[1;33m         \u001b[0mself\u001b[0m\u001b[1;33m.\u001b[0m\u001b[0m_event\u001b[0m\u001b[1;33m.\u001b[0m\u001b[0mwait\u001b[0m\u001b[1;33m(\u001b[0m\u001b[0mtimeout\u001b[0m\u001b[1;33m)\u001b[0m\u001b[1;33m\u001b[0m\u001b[1;33m\u001b[0m\u001b[0m\n\u001b[0m\u001b[0;32m    649\u001b[0m \u001b[1;33m\u001b[0m\u001b[0m\n\u001b[0;32m    650\u001b[0m     \u001b[1;32mdef\u001b[0m \u001b[0mget\u001b[0m\u001b[1;33m(\u001b[0m\u001b[0mself\u001b[0m\u001b[1;33m,\u001b[0m \u001b[0mtimeout\u001b[0m\u001b[1;33m=\u001b[0m\u001b[1;32mNone\u001b[0m\u001b[1;33m)\u001b[0m\u001b[1;33m:\u001b[0m\u001b[1;33m\u001b[0m\u001b[1;33m\u001b[0m\u001b[0m\n",
      "\u001b[1;32m~\\anaconda3\\envs\\dl\\lib\\threading.py\u001b[0m in \u001b[0;36mwait\u001b[1;34m(self, timeout)\u001b[0m\n\u001b[0;32m    550\u001b[0m             \u001b[0msignaled\u001b[0m \u001b[1;33m=\u001b[0m \u001b[0mself\u001b[0m\u001b[1;33m.\u001b[0m\u001b[0m_flag\u001b[0m\u001b[1;33m\u001b[0m\u001b[1;33m\u001b[0m\u001b[0m\n\u001b[0;32m    551\u001b[0m             \u001b[1;32mif\u001b[0m \u001b[1;32mnot\u001b[0m \u001b[0msignaled\u001b[0m\u001b[1;33m:\u001b[0m\u001b[1;33m\u001b[0m\u001b[1;33m\u001b[0m\u001b[0m\n\u001b[1;32m--> 552\u001b[1;33m                 \u001b[0msignaled\u001b[0m \u001b[1;33m=\u001b[0m \u001b[0mself\u001b[0m\u001b[1;33m.\u001b[0m\u001b[0m_cond\u001b[0m\u001b[1;33m.\u001b[0m\u001b[0mwait\u001b[0m\u001b[1;33m(\u001b[0m\u001b[0mtimeout\u001b[0m\u001b[1;33m)\u001b[0m\u001b[1;33m\u001b[0m\u001b[1;33m\u001b[0m\u001b[0m\n\u001b[0m\u001b[0;32m    553\u001b[0m             \u001b[1;32mreturn\u001b[0m \u001b[0msignaled\u001b[0m\u001b[1;33m\u001b[0m\u001b[1;33m\u001b[0m\u001b[0m\n\u001b[0;32m    554\u001b[0m \u001b[1;33m\u001b[0m\u001b[0m\n",
      "\u001b[1;32m~\\anaconda3\\envs\\dl\\lib\\threading.py\u001b[0m in \u001b[0;36mwait\u001b[1;34m(self, timeout)\u001b[0m\n\u001b[0;32m    294\u001b[0m         \u001b[1;32mtry\u001b[0m\u001b[1;33m:\u001b[0m    \u001b[1;31m# restore state no matter what (e.g., KeyboardInterrupt)\u001b[0m\u001b[1;33m\u001b[0m\u001b[1;33m\u001b[0m\u001b[0m\n\u001b[0;32m    295\u001b[0m             \u001b[1;32mif\u001b[0m \u001b[0mtimeout\u001b[0m \u001b[1;32mis\u001b[0m \u001b[1;32mNone\u001b[0m\u001b[1;33m:\u001b[0m\u001b[1;33m\u001b[0m\u001b[1;33m\u001b[0m\u001b[0m\n\u001b[1;32m--> 296\u001b[1;33m                 \u001b[0mwaiter\u001b[0m\u001b[1;33m.\u001b[0m\u001b[0macquire\u001b[0m\u001b[1;33m(\u001b[0m\u001b[1;33m)\u001b[0m\u001b[1;33m\u001b[0m\u001b[1;33m\u001b[0m\u001b[0m\n\u001b[0m\u001b[0;32m    297\u001b[0m                 \u001b[0mgotit\u001b[0m \u001b[1;33m=\u001b[0m \u001b[1;32mTrue\u001b[0m\u001b[1;33m\u001b[0m\u001b[1;33m\u001b[0m\u001b[0m\n\u001b[0;32m    298\u001b[0m             \u001b[1;32melse\u001b[0m\u001b[1;33m:\u001b[0m\u001b[1;33m\u001b[0m\u001b[1;33m\u001b[0m\u001b[0m\n",
      "\u001b[1;31mKeyboardInterrupt\u001b[0m: "
     ]
    }
   ],
   "source": [
    "model.fit_generator(generator=training_generator,\n",
    "                    validation_data=validation_generator,\n",
    "                    use_multiprocessing=False,\n",
    "                    epochs=15,\n",
    "                    workers=2)"
   ]
  },
  {
   "cell_type": "code",
   "execution_count": 147,
   "id": "26f6a4a3",
   "metadata": {},
   "outputs": [],
   "source": [
    "input_val = inputs[-2640:]\n",
    "output_val = outputs[-2640:]\n",
    "\n",
    "y_pred = np.argmax(model.predict(inputs[-2640:]), axis=1)"
   ]
  },
  {
   "cell_type": "code",
   "execution_count": 151,
   "id": "7aee3b44",
   "metadata": {},
   "outputs": [
    {
     "data": {
      "text/plain": [
       "(109, 35, 79, 2417)"
      ]
     },
     "execution_count": 151,
     "metadata": {},
     "output_type": "execute_result"
    }
   ],
   "source": [
    "np.sum((y_pred == 1) & (output_val == 1)),\\\n",
    "np.sum((y_pred == 1) & (output_val == 0)),\\\n",
    "np.sum((y_pred == 0) & (output_val == 1)),\\\n",
    "np.sum((y_pred == 0) & (output_val == 0))\n"
   ]
  },
  {
   "cell_type": "code",
   "execution_count": 152,
   "id": "8401d0d9",
   "metadata": {},
   "outputs": [
    {
     "data": {
      "text/plain": [
       "0.7569444444444444"
      ]
     },
     "execution_count": 152,
     "metadata": {},
     "output_type": "execute_result"
    }
   ],
   "source": [
    "109/(109+35)"
   ]
  },
  {
   "cell_type": "code",
   "execution_count": 153,
   "id": "3521048e",
   "metadata": {},
   "outputs": [
    {
     "data": {
      "text/plain": [
       "0.5797872340425532"
      ]
     },
     "execution_count": 153,
     "metadata": {},
     "output_type": "execute_result"
    }
   ],
   "source": [
    "109/(109+79)"
   ]
  },
  {
   "cell_type": "code",
   "execution_count": 154,
   "id": "b0ddc4dc",
   "metadata": {},
   "outputs": [
    {
     "data": {
      "text/plain": [
       "0.9857259380097879"
      ]
     },
     "execution_count": 154,
     "metadata": {},
     "output_type": "execute_result"
    }
   ],
   "source": [
    "2417/(2417+35)"
   ]
  },
  {
   "cell_type": "code",
   "execution_count": 145,
   "id": "2770dd63",
   "metadata": {},
   "outputs": [],
   "source": [
    "y_hat = np.argmax(model.predict(inputs), axis=1)"
   ]
  },
  {
   "cell_type": "code",
   "execution_count": 146,
   "id": "fefaec99",
   "metadata": {},
   "outputs": [
    {
     "data": {
      "text/plain": [
       "(array([0, 1], dtype=int64), array([12437,   763], dtype=int64))"
      ]
     },
     "execution_count": 146,
     "metadata": {},
     "output_type": "execute_result"
    }
   ],
   "source": [
    "np.unique(y_hat, return_counts=True)"
   ]
  },
  {
   "cell_type": "code",
   "execution_count": null,
   "id": "8ad8fda4",
   "metadata": {},
   "outputs": [],
   "source": [
    "output"
   ]
  },
  {
   "cell_type": "code",
   "execution_count": 17,
   "id": "09961a88",
   "metadata": {},
   "outputs": [],
   "source": [
    "path = 'data/processed'"
   ]
  },
  {
   "cell_type": "code",
   "execution_count": 39,
   "id": "523a3771",
   "metadata": {},
   "outputs": [],
   "source": []
  },
  {
   "cell_type": "code",
   "execution_count": 40,
   "id": "50a36736",
   "metadata": {},
   "outputs": [
    {
     "data": {
      "text/plain": [
       "13200"
      ]
     },
     "execution_count": 40,
     "metadata": {},
     "output_type": "execute_result"
    }
   ],
   "source": []
  },
  {
   "cell_type": "code",
   "execution_count": null,
   "id": "bce6ea80",
   "metadata": {},
   "outputs": [],
   "source": [
    "ID = (path, inc_id, day, i, j)"
   ]
  },
  {
   "cell_type": "code",
   "execution_count": null,
   "id": "58169ca8",
   "metadata": {},
   "outputs": [],
   "source": [
    "time = '12z'\n",
    "fxx = 'f00'\n",
    "path = 'data/processed'\n",
    "inc_id = 11917747\n",
    "dim = 10\n",
    "i = 14\n",
    "j = 17\n",
    "day = 1\n",
    "layer_names = None\n",
    "threshold = 0.2"
   ]
  },
  {
   "cell_type": "code",
   "execution_count": null,
   "id": "d9aab675",
   "metadata": {},
   "outputs": [],
   "source": []
  },
  {
   "cell_type": "code",
   "execution_count": 14,
   "id": "a378b283",
   "metadata": {},
   "outputs": [
    {
     "name": "stderr",
     "output_type": "stream",
     "text": [
      "C:\\Users\\mit\\anaconda3\\envs\\dl\\lib\\site-packages\\ipykernel_launcher.py:30: RuntimeWarning: invalid value encountered in true_divide\n",
      "C:\\Users\\mit\\anaconda3\\envs\\dl\\lib\\site-packages\\ipykernel_launcher.py:37: RuntimeWarning: invalid value encountered in true_divide\n",
      "C:\\Users\\mit\\anaconda3\\envs\\dl\\lib\\site-packages\\ipykernel_launcher.py:24: RuntimeWarning: divide by zero encountered in true_divide\n"
     ]
    }
   ],
   "source": [
    "a, b = basic_cnn_preprocess('data/processed', 11917747, 5, 14, 17, 10, '12z', 'f00', 0.2, ['fire', 'downwind', 'wind'])"
   ]
  },
  {
   "cell_type": "code",
   "execution_count": 15,
   "id": "b6a4c9ce",
   "metadata": {},
   "outputs": [
    {
     "data": {
      "text/plain": [
       "<matplotlib.image.AxesImage at 0x23f4a1e0a48>"
      ]
     },
     "execution_count": 15,
     "metadata": {},
     "output_type": "execute_result"
    },
    {
     "data": {
      "image/png": "[encoded data removed]",
      "text/plain": [
       "<Figure size 432x288 with 1 Axes>"
      ]
     },
     "metadata": {
      "needs_background": "light"
     },
     "output_type": "display_data"
    }
   ],
   "source": [
    "plt.imshow(a[:,:,0])"
   ]
  }
 ],
 "metadata": {
  "kernelspec": {
   "display_name": "Python 3 (ipykernel)",
   "language": "python",
   "name": "python3"
  },
  "language_info": {
   "codemirror_mode": {
    "name": "ipython",
    "version": 3
   },
   "file_extension": ".py",
   "mimetype": "text/x-python",
   "name": "python",
   "nbconvert_exporter": "python",
   "pygments_lexer": "ipython3",
   "version": "3.7.11"
  }
 },
 "nbformat": 4,
 "nbformat_minor": 5
}
