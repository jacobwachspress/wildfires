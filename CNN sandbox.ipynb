{
 "cells": [
  {
   "cell_type": "code",
   "execution_count": 2,
   "id": "022cb19d",
   "metadata": {},
   "outputs": [],
   "source": [
    "from tensorflow import keras\n",
    "import tensorflow as tf\n",
    "import numpy as np\n",
    "import pandas as pd\n",
    "from osgeo import gdal\n",
    "import matplotlib.pyplot as plt\n",
    "from fire_history import get_fire_grid_bounds\n",
    "import pickle\n",
    "import json\n",
    "from glob import glob\n",
    "import os"
   ]
  },
  {
   "cell_type": "code",
   "execution_count": 3,
   "id": "8abd9569",
   "metadata": {},
   "outputs": [],
   "source": [
    "dropbox_path = r\"C:\\Users\\mit\\Dropbox (MIT)\\wildfire_repo\"\n",
    "hrrr_path = dropbox_path + '/hrrr'\n",
    "\n",
    "with open('data/clean/bbox.json') as json_file:\n",
    "    bboxes = json.load(json_file)\n",
    "    \n",
    "path = 'data/clean/fire_histories_revised'"
   ]
  },
  {
   "cell_type": "code",
   "execution_count": 4,
   "id": "a4e385d5",
   "metadata": {},
   "outputs": [],
   "source": [
    "def slope_aspect_wind_transform(slope, aspect, u_wind, v_wind, i, j):\n",
    "    \n",
    "    # sometimes the slope or aspect DataFrames do not read in correctly\n",
    "    if np.any(aspect == -9999) or np.any(slope == -9999):\n",
    "        raise ValueError('Slope or aspect not read correctly')\n",
    "        \n",
    "    # get the shape of the arrays, make sure they are always the same\n",
    "    h, w = slope.shape\n",
    "    for arr in [aspect, u_wind, v_wind]:\n",
    "        if arr.shape != slope.shape:\n",
    "            raise ValueError(\"Arrays not all of same shape\")\n",
    "        \n",
    "    # get the distance E and N needed to travel from each pixel to (i, j) pixel \n",
    "    u_dist = np.zeros((h, w))\n",
    "    v_dist = np.zeros((h, w))\n",
    "    for y in range(h):\n",
    "        for x in range(w):\n",
    "            u_dist[y, x] = j - x\n",
    "            v_dist[y, x] = y - i\n",
    "            \n",
    "    # get the pixel distance from each pixel to (i, j)\n",
    "    dist = (v_dist ** 2 + u_dist ** 2) ** 0.5\n",
    "    \n",
    "    # get the U and V component of the direction of the upslope\n",
    "    # (270 degrees is up E, 180 is up N)\n",
    "    u_upslope = - np.sin(aspect / 180 * np.pi)\n",
    "    v_upslope = - np.cos(aspect / 180 * np.pi)\n",
    "\n",
    "    # dot product the upslope vector with the vector from pixel to (i, j)\n",
    "    upslope = (u_dist * u_upslope  + v_dist * v_upslope) / dist\n",
    "    \n",
    "    # manually set 0/0 value at pixel (i, j) to 1\n",
    "    upslope[i, j] = 1\n",
    "    \n",
    "    # dot product the downwind vector with the vector from pixel to (i, j)\n",
    "    wind = (u_wind ** 2 + v_wind ** 2) ** 0.5\n",
    "    downwind = (u_dist * u_wind + v_dist * v_wind) / (dist * wind)\n",
    "    downwind[i, j] = 1\n",
    "    \n",
    "    # manually set 0/0 value at pixel (i, j) to 1\n",
    "    return dist, upslope, downwind, wind\n",
    "    "
   ]
  },
  {
   "cell_type": "code",
   "execution_count": 5,
   "id": "634ca034",
   "metadata": {},
   "outputs": [],
   "source": [
    "try:\n",
    "    del static_data\n",
    "except:\n",
    "    pass\n"
   ]
  },
  {
   "cell_type": "code",
   "execution_count": 6,
   "id": "743add22",
   "metadata": {},
   "outputs": [],
   "source": [
    "path = 'data/clean/fire_histories_revised'"
   ]
  },
  {
   "cell_type": "code",
   "execution_count": 38,
   "id": "10b5f45a",
   "metadata": {},
   "outputs": [],
   "source": [
    "time_fxx = [{'time' : '12z', 'fxx' : 'f00'}]\n",
    "\n",
    "\n",
    "dropbox_path = r\"C:\\Users\\mit\\Dropbox (MIT)\\wildfire_repo\"\n",
    "hrrr = dropbox_path + '/hrrr'\n",
    "\n",
    "process_single_fire_data('data/clean/fire_histories_revised', 'data/processed', hrrr, 11917747, time_fxx)"
   ]
  },
  {
   "cell_type": "code",
   "execution_count": 7,
   "id": "31d0fa6c",
   "metadata": {},
   "outputs": [],
   "source": [
    "def get_grid_bounds_from_geo_ds(ds):\n",
    "    \n",
    "    tr = ds.GetGeoTransform()\n",
    "    bounds = [tr[0], tr[3] + ds.RasterYSize * tr[5], tr[0] + ds.RasterXSize * tr[1], tr[3]]\n",
    "    return tr[1], -tr[5], bounds"
   ]
  },
  {
   "cell_type": "code",
   "execution_count": 8,
   "id": "2147bfee",
   "metadata": {},
   "outputs": [],
   "source": [
    "def process_single_fire_data(in_dir, out_dir, hrrr_path, inc_id, time_fxx_list):\n",
    "    \n",
    "    # only do this if we have a fire footprint\n",
    "    if not os.path.isfile(f'{in_dir}/{inc_id}/daily_fire_footprint.vrt'):\n",
    "        return\n",
    "    \n",
    "    # make directories if needed\n",
    "    if not os.path.isdir(out_dir):\n",
    "        os.mkdir(out_dir)\n",
    "    if not os.path.isdir(f'{out_dir}/{inc_id}'):\n",
    "        os.mkdir(f'{out_dir}/{inc_id}')\n",
    "\n",
    "\n",
    "    static_data = gdal.Open(f'{in_dir}/{inc_id}/static_data.vrt')\n",
    "    \n",
    "    # make it an array and check we read it right\n",
    "    bands = [static_data.GetRasterBand(i+1) for i in range(static_data.RasterCount)]\n",
    "    np_static_data = np.dstack([band.ReadAsArray() for band in bands])\n",
    "    if np.any(np_static_data == -9999):\n",
    "        raise ValueError('Static data read in wrong')\n",
    "\n",
    "    # save to numpy\n",
    "    np.save(f'{out_dir}/{inc_id}/static_data.npy', np_static_data)\n",
    "    \n",
    "    # save json with documentation of the layers\n",
    "    static_data_lookup = pd.read_csv('data/input/static_data_params.csv')\n",
    "    static_data_lookup = dict(zip(static_data_lookup['layer'], static_data_lookup.index))\n",
    "    with open(f'{out_dir}/{inc_id}/static_data.json', 'w') as f:\n",
    "        json.dump(static_data_lookup, f)\n",
    "\n",
    "    # read geotransform info from static data, to be used to read weather data later\n",
    "    lon_res, lat_res, fire_bbox = get_grid_bounds_from_geo_ds(static_data)\n",
    "    \n",
    "    # read fire footprint data, get number of days\n",
    "    fire_footprint = gdal.Open(f'{in_dir}/{inc_id}/daily_fire_footprint.vrt')\n",
    "    num_days = fire_footprint.RasterCount\n",
    "    \n",
    "    # for each fire day\n",
    "    for fire_day in range(1, num_days+1):\n",
    "\n",
    "        # make numbered subdirectory\n",
    "        if not os.path.isdir(f'{out_dir}/{inc_id}/{fire_day}'):\n",
    "            os.mkdir(f'{out_dir}/{inc_id}/{fire_day}')\n",
    "\n",
    "        # get the raster band and the day\n",
    "        fire = fire_footprint.GetRasterBand(fire_day)\n",
    "        day = fire.GetDescription()\n",
    "        day = day.replace('-', '')\n",
    "\n",
    "        # for the first day only, save some global info about the fire\n",
    "        if fire_day == 1:\n",
    "            with open(f'{out_dir}/{inc_id}/info.json', 'w') as f:\n",
    "                json.dump({'transform' : static_data.GetGeoTransform(), \n",
    "                           'shape' : np_static_data.shape[0:2],\n",
    "                           'start_day' : day,\n",
    "                            'num_days' : num_days}, \n",
    "                          f)\n",
    "\n",
    "        # read the fire footprint for the day as an array, and save\n",
    "        fire = fire.ReadAsArray()\n",
    "        np.save(f'{out_dir}/{inc_id}/{fire_day}/fire.npy', fire)\n",
    "\n",
    "        # for each set of time/fxx params in the list\n",
    "        for d in time_fxx_list:\n",
    "            \n",
    "            # prepare the regex to grab corresponding GRIB file\n",
    "            time = d['time']\n",
    "            fxx = d['fxx']\n",
    "            regex = f'{hrrr_path}/{day}/*{time}*{fxx}*grib2*'\n",
    "            \n",
    "            # read the grib file\n",
    "            grib = glob(regex)\n",
    "            grib = [i for i in grib if '.xml' not in i]\n",
    "            if len(grib) != 1:\n",
    "                raise ValueError(\"Not exactly one GRIB file found\")\n",
    "            grib_file = grib[0]\n",
    "            ds = gdal.Open(grib_file)\n",
    "            \n",
    "            # slice and warp to fire bounds using info from static data\n",
    "            warped = gdal.Warp('temp.vrt', ds, format='VRT', dstSRS='WGS84', xRes=lon_res, yRes=lat_res,\n",
    "                      resampleAlg='bilinear', outputBounds=fire_bbox)\n",
    "\n",
    "            # read weather data to array and save\n",
    "            np_weather_data = np.dstack([warped.GetRasterBand(i+1).ReadAsArray() for i in range(warped.RasterCount)])\n",
    "            np.save(f'{out_dir}/{inc_id}/{fire_day}/weather_{time}_{fxx}.npy', np_weather_data)\n",
    "            \n",
    "            # read and save info about the channels\n",
    "            with open(f'{hrrr_path}/{day}/band_lookup_{time}.json', 'r') as f:\n",
    "                band_lookup = json.load(f)\n",
    "            weather_lookup = {key : band_lookup[key] - 1 for key in band_lookup}\n",
    "            with open(f'{out_dir}/{inc_id}/{fire_day}/weather_{time}.json', 'w') as f:\n",
    "                json.dump(weather_lookup, f)\n",
    "                \n",
    "    os.remove('temp.vrt')  "
   ]
  },
  {
   "cell_type": "code",
   "execution_count": 9,
   "id": "4df59833",
   "metadata": {},
   "outputs": [],
   "source": [
    "inc_id = 11917747\n",
    "time = '12z'\n",
    "fxx = 'f00'\n",
    "\n",
    "bbox = bboxes[str(inc_id)]\n",
    "lon_res, lat_res, fire_bbox = get_fire_grid_bounds(bbox, 0.6)\n",
    "\n",
    "static_data = gdal.Open(f'{path}/{inc_id}/static_data.vrt')\n",
    "fire_footprint = gdal.Open(f'{path}/{inc_id}/daily_fire_footprint.vrt')\n",
    "fire = fire_footprint.GetRasterBand(25)\n",
    "day = fire.GetDescription()\n",
    "day = day.replace('-', '')\n",
    "\n",
    "slope = static_data.GetRasterBand(2)\n",
    "slope = slope.ReadAsArray()\n",
    "aspect = static_data.GetRasterBand(3)\n",
    "aspect = aspect.ReadAsArray()\n",
    "\n",
    "layers = {}\n",
    "\n",
    "regex = f'{hrrr_path}/{day}/*{time}*{fxx}*grib2*'\n",
    "grib = glob(regex)\n",
    "grib = [i for i in grib if '.xml' not in i]\n",
    "if len(grib) != 1:\n",
    "    raise ValueError(\"Not exactly one GRIB file found\")\n",
    "grib_file = grib[0]\n",
    "with open(f'{hrrr_path}/{day}/band_lookup_{time}.json', 'r') as f:\n",
    "    band_lookup = json.load(f)\n",
    "ds = gdal.Open(grib_file)\n",
    "warped = gdal.Warp('temp.vrt', ds, format='VRT', dstSRS='WGS84', xRes=lon_res, yRes=lat_res,\n",
    "          resampleAlg='near', outputBounds=fire_bbox)\n",
    "\n",
    "layers = {}\n",
    "for key in band_lookup:\n",
    "    band = warped.GetRasterBand(band_lookup[key])\n",
    "    layers[key] = band.ReadAsArray()\n",
    "\n",
    "u_wind = layers['UGRD:10 m']\n",
    "v_wind = layers['VGRD:10 m']"
   ]
  },
  {
   "cell_type": "code",
   "execution_count": 10,
   "id": "6e2376e7",
   "metadata": {},
   "outputs": [
    {
     "name": "stderr",
     "output_type": "stream",
     "text": [
      "C:\\Users\\mit\\anaconda3\\envs\\dl\\lib\\site-packages\\ipykernel_launcher.py:30: RuntimeWarning: invalid value encountered in true_divide\n",
      "C:\\Users\\mit\\anaconda3\\envs\\dl\\lib\\site-packages\\ipykernel_launcher.py:37: RuntimeWarning: invalid value encountered in true_divide\n"
     ]
    }
   ],
   "source": [
    "i = 4\n",
    "j = 7\n",
    "dist, upslope, downwind, wind = slope_aspect_wind_transform(slope, aspect, u_wind, v_wind, i, j)"
   ]
  },
  {
   "cell_type": "code",
   "execution_count": 11,
   "id": "ab388a6e",
   "metadata": {},
   "outputs": [
    {
     "data": {
      "text/plain": [
       "Text(0.5, 1.0, 'Upslope in the direction \\n of the key pixel (4, 7)')"
      ]
     },
     "execution_count": 11,
     "metadata": {},
     "output_type": "execute_result"
    },
    {
     "data": {
      "image/png": "[encoded data removed]",
      "text/plain": [
       "<Figure size 1080x720 with 12 Axes>"
      ]
     },
     "metadata": {
      "needs_background": "light"
     },
     "output_type": "display_data"
    }
   ],
   "source": [
    "plt.rcParams['figure.figsize'] = (15, 10)\n",
    "fig, axs = plt.subplots(2, 3)\n",
    "\n",
    "im = axs[0,0].imshow(u_wind)\n",
    "plt.colorbar(im, ax=axs[0,0])\n",
    "axs[0,0].set_title(f'East component of wind\\n {day}')\n",
    "\n",
    "im = axs[0,1].imshow(v_wind)\n",
    "plt.colorbar(im, ax=axs[0,1])\n",
    "axs[0,1].set_title(f'North component of wind\\n {day}')\n",
    "\n",
    "im = axs[0,2].imshow(downwind)\n",
    "plt.colorbar(im, ax=axs[0,2])\n",
    "axs[0,2].set_title(f'Downwind in the direction \\n of the key pixel ({i}, {j})')\n",
    "\n",
    "im = axs[1,0].imshow(-np.sin(aspect / 180 * np.pi))\n",
    "plt.colorbar(im, ax=axs[1,0])\n",
    "axs[1,0].set_title('East component of upslope')\n",
    "\n",
    "im = axs[1,1].imshow(-np.cos(aspect / 180 * np.pi))\n",
    "plt.colorbar(im, ax=axs[1,1])\n",
    "axs[1,1].set_title('North component of upslope')\n",
    "\n",
    "im = axs[1,2].imshow(upslope)\n",
    "plt.colorbar(im, ax=axs[1,2])\n",
    "axs[1,2].set_title(f'Upslope in the direction \\n of the key pixel ({i}, {j})')"
   ]
  },
  {
   "cell_type": "markdown",
   "id": "ec2359e5",
   "metadata": {},
   "source": [
    "![SegmentLocal](data/clean/fire_histories_revised/11917747/daily_fire_footprint.gif \"segment\")"
   ]
  },
  {
   "cell_type": "code",
   "execution_count": 12,
   "id": "e21c8020",
   "metadata": {},
   "outputs": [],
   "source": [
    "def get_layers(layer_names, slope, aspect, fire_array, next_fire_array, geo_ds, band_lookup, i, j, dim,\n",
    "              threshold=0.2):\n",
    "    \n",
    "    layers = {}\n",
    "    for key in band_lookup:\n",
    "        band = geo_ds.GetRasterBand(band_lookup[key])\n",
    "        layers[key] = band.ReadAsArray()\n",
    "    \n",
    "    u_wind = layers['UGRD:10 m']\n",
    "    v_wind = layers['VGRD:10 m']\n",
    "    \n",
    "    layers['dist'], layers['upslope'], layers['downwind'], layers['wind'] = \\\n",
    "        slope_aspect_wind_transform(slope, aspect, u_wind, v_wind, i, j)\n",
    "    \n",
    "    layers['inv_dist'] = 1/layers['dist']\n",
    "    layers['inv_dist'][i, j] = layers['inv_dist'].min()\n",
    "    \n",
    "    layers['fire'] = fire_array\n",
    "    \n",
    "    if layer_names is not None:   \n",
    "        to_stack = [layers[name] for name in layer_names]\n",
    "    else:\n",
    "        to_stack = [layers[name] for name in layers]\n",
    "    stack = np.dstack(to_stack)\n",
    "    stack = stack[i-dim:i+dim+1, j-dim:j+dim+1, :]\n",
    "    \n",
    "    output = (next_fire_array[i, j] > threshold).astype(int)\n",
    "    \n",
    "    return stack, output"
   ]
  },
  {
   "cell_type": "code",
   "execution_count": 16,
   "id": "32f1e588",
   "metadata": {},
   "outputs": [
    {
     "name": "stderr",
     "output_type": "stream",
     "text": [
      "C:\\Users\\mit\\anaconda3\\envs\\dl\\lib\\site-packages\\ipykernel_launcher.py:30: RuntimeWarning: invalid value encountered in true_divide\n",
      "C:\\Users\\mit\\anaconda3\\envs\\dl\\lib\\site-packages\\ipykernel_launcher.py:37: RuntimeWarning: invalid value encountered in true_divide\n",
      "C:\\Users\\mit\\anaconda3\\envs\\dl\\lib\\site-packages\\ipykernel_launcher.py:15: RuntimeWarning: divide by zero encountered in true_divide\n",
      "  from ipykernel import kernelapp as app\n"
     ]
    }
   ],
   "source": [
    "inputs = []\n",
    "outputs = []\n",
    "layers_to_use = ['fire', 'downwind', 'wind']\n",
    "dim = 10\n",
    "    \n",
    "for fire_day in range(1, num_days):\n",
    "\n",
    "    \n",
    "    fire = fire_footprint.GetRasterBand(fire_day)\n",
    "    next_day = fire_footprint.GetRasterBand(fire_day + 1) \n",
    "\n",
    "    day = fire.GetDescription()\n",
    "    day = day.replace('-', '')\n",
    "\n",
    "    fire_array = fire.ReadAsArray()\n",
    "\n",
    "    layers = {}\n",
    "    regex = f'{hrrr_path}/{day}/*{time}*{fxx}*grib2*'\n",
    "    grib = glob(regex)\n",
    "    grib = [i for i in grib if '.xml' not in i]\n",
    "    if len(grib) != 1:\n",
    "        raise ValueError(\"Not exactly one GRIB file found\")\n",
    "    grib_file = grib[0]\n",
    "    with open(f'{hrrr_path}/{day}/band_lookup_{time}.json', 'r') as f:\n",
    "        band_lookup = json.load(f)\n",
    "    ds = gdal.Open(grib_file)\n",
    "    warped = gdal.Warp('temp.vrt', ds, format='VRT', dstSRS='WGS84', xRes=lon_res, yRes=lat_res,\n",
    "              resampleAlg='near', outputBounds=fire_bbox)\n",
    " \n",
    "    for i in range(dim, slope.shape[0] - dim):\n",
    "        for j in range(dim, slope.shape[1] - dim):\n",
    "            stack, output = get_layers(layers_to_use, slope, aspect, fire_array, \n",
    "                                       next_day.ReadAsArray(), warped, band_lookup, i, j, dim)\n",
    "            inputs.append(stack)\n",
    "            outputs.append(output)"
   ]
  },
  {
   "cell_type": "code",
   "execution_count": 138,
   "id": "aed8b617",
   "metadata": {},
   "outputs": [],
   "source": [
    "inputs = np.asarray(inputs)\n",
    "outputs = np.asarray(outputs)\n",
    "\n",
    "ix_to_keep = np.arange(outputs.shape[0])\n",
    "np.random.seed(8)\n",
    "np.random.shuffle(ix_to_keep)\n",
    "\n",
    "inputs = inputs[ix_to_keep, :, :, :]\n",
    "outputs = outputs[ix_to_keep]"
   ]
  },
  {
   "cell_type": "code",
   "execution_count": 139,
   "id": "fb758b07",
   "metadata": {},
   "outputs": [
    {
     "name": "stdout",
     "output_type": "stream",
     "text": [
      "(13200, 21, 21, 3)\n",
      "(13200,)\n"
     ]
    }
   ],
   "source": [
    "print(inputs.shape)\n",
    "print(outputs.shape)"
   ]
  },
  {
   "cell_type": "code",
   "execution_count": 140,
   "id": "5b8ff1d0",
   "metadata": {},
   "outputs": [
    {
     "data": {
      "text/plain": [
       "0.9287878787878788"
      ]
     },
     "execution_count": 140,
     "metadata": {},
     "output_type": "execute_result"
    }
   ],
   "source": [
    "1 - outputs[-2640:].mean()"
   ]
  },
  {
   "cell_type": "code",
   "execution_count": 8,
   "id": "fad9cbed",
   "metadata": {},
   "outputs": [],
   "source": [
    "def slope_aspect_wind_transform(slope, aspect, u_wind, v_wind, i, j):\n",
    "\n",
    "    # sometimes the slope or aspect DataFrames do not read in correctly\n",
    "    if np.any(aspect == -9999) or np.any(slope == -9999):\n",
    "        raise ValueError('Slope or aspect not read correctly')\n",
    "\n",
    "    # get the shape of the arrays, make sure they are always the same\n",
    "    h, w = slope.shape\n",
    "    for arr in [aspect, u_wind, v_wind]:\n",
    "        if arr.shape != slope.shape:\n",
    "            raise ValueError(\"Arrays not all of same shape\")\n",
    "\n",
    "    # get the distance E and N needed to travel from each pixel to (i, j) pixel \n",
    "    u_dist = np.zeros((h, w))\n",
    "    v_dist = np.zeros((h, w))\n",
    "    for y in range(h):\n",
    "        for x in range(w):\n",
    "            u_dist[y, x] = j - x\n",
    "            v_dist[y, x] = y - i\n",
    "\n",
    "    # get the pixel distance from each pixel to (i, j)\n",
    "    dist = (v_dist ** 2 + u_dist ** 2) ** 0.5\n",
    "\n",
    "    # get the U and V component of the direction of the upslope\n",
    "    # (270 degrees is up E, 180 is up N)\n",
    "    u_upslope = - np.sin(aspect / 180 * np.pi)\n",
    "    v_upslope = - np.cos(aspect / 180 * np.pi)\n",
    "\n",
    "    # dot product the upslope vector with the vector from pixel to (i, j)\n",
    "    upslope = (u_dist * u_upslope  + v_dist * v_upslope) / dist\n",
    "\n",
    "    # manually set 0/0 value at pixel (i, j) to 1\n",
    "    upslope[i, j] = 1\n",
    "\n",
    "    # dot product the downwind vector with the vector from pixel to (i, j)\n",
    "    wind = (u_wind ** 2 + v_wind ** 2) ** 0.5\n",
    "    downwind = (u_dist * u_wind + v_dist * v_wind) / (dist * wind)\n",
    "    downwind[i, j] = 1\n",
    "\n",
    "    # manually set 0/0 value at pixel (i, j) to 1\n",
    "    return dist, upslope, downwind, wind"
   ]
  },
  {
   "cell_type": "code",
   "execution_count": 268,
   "id": "4eead704",
   "metadata": {},
   "outputs": [],
   "source": [
    "def basic_cnn_preprocess(path, inc_id, day, i, j, dim, time, fxx, threshold, layer_names):\n",
    "\n",
    "    with open(f'{path}/{inc_id}/static_data.json', 'r') as f:\n",
    "        static_data_lookup = json.load(f)\n",
    "\n",
    "    static_data = np.load(f'{path}/{inc_id}/static_data.npy')\n",
    "    slope = static_data[:, :, static_data_lookup['slope']].clip(0, np.inf)\n",
    "    aspect = static_data[:, :, static_data_lookup['aspect']].clip(0, np.inf)\n",
    "\n",
    "    with open(f'{path}/{inc_id}/{day}/weather_{time}.json', 'r') as f:\n",
    "        weather_data_lookup = json.load(f)\n",
    "    weather_data = np.load(f'{path}/{inc_id}/{day}/weather_{time}_{fxx}.npy')\n",
    "\n",
    "    layers = {}\n",
    "    for key in weather_data_lookup:\n",
    "        layers[key] = weather_data[:, :, weather_data_lookup[key]]\n",
    "\n",
    "    u_wind = layers['UGRD:10 m']\n",
    "    v_wind = layers['VGRD:10 m']\n",
    "\n",
    "    layers['dist'], layers['upslope'], layers['downwind'], layers['wind'] = \\\n",
    "        slope_aspect_wind_transform(slope, aspect, u_wind, v_wind, i, j)\n",
    "\n",
    "    layers['inv_dist'] = 1/layers['dist']\n",
    "    layers['inv_dist'][i, j] = layers['inv_dist'].min()\n",
    "\n",
    "    layers['fire'] = np.load(f'{path}/{inc_id}/{day}/fire.npy')\n",
    "\n",
    "    to_stack = [layers[name] for name in layer_names]\n",
    "    \n",
    "    stack = np.dstack(to_stack)\n",
    "    stack = stack[i-dim:i+dim+1, j-dim:j+dim+1, :]\n",
    "\n",
    "    next_fire_array = np.load(f'{path}/{inc_id}/{day+1}/fire.npy')\n",
    "    output = (next_fire_array[i, j] > threshold).astype(int)\n",
    "    \n",
    "    return stack, output"
   ]
  },
  {
   "cell_type": "code",
   "execution_count": 48,
   "id": "43b255e2",
   "metadata": {},
   "outputs": [
    {
     "data": {
      "text/plain": [
       "['TMP:2 m',\n",
       " 'SPFH:2 m',\n",
       " 'UGRD:10 m',\n",
       " 'VGRD:10 m',\n",
       " 'LTNG',\n",
       " 'PRATE',\n",
       " 'PRES:surface']"
      ]
     },
     "execution_count": 48,
     "metadata": {},
     "output_type": "execute_result"
    }
   ],
   "source": [
    "with open(r\"C:\\Users\\mit\\Documents\\GitHub\\wildfires\\data\\processed\\11978937\\3\\weather_12z.json\") as f:\n",
    "    lookup = json.load(f)\n",
    "    \n",
    "list(lookup.keys())"
   ]
  },
  {
   "cell_type": "code",
   "execution_count": 273,
   "id": "eee82159",
   "metadata": {},
   "outputs": [
    {
     "name": "stderr",
     "output_type": "stream",
     "text": [
      "C:\\Users\\mit\\anaconda3\\envs\\dl\\lib\\site-packages\\ipykernel_launcher.py:30: RuntimeWarning: invalid value encountered in true_divide\n",
      "C:\\Users\\mit\\anaconda3\\envs\\dl\\lib\\site-packages\\ipykernel_launcher.py:37: RuntimeWarning: invalid value encountered in true_divide\n",
      "C:\\Users\\mit\\anaconda3\\envs\\dl\\lib\\site-packages\\ipykernel_launcher.py:24: RuntimeWarning: divide by zero encountered in true_divide\n"
     ]
    }
   ],
   "source": [
    "out_path = 'data/cnn_input3'\n",
    "\n",
    "if not os.path.isdir(out_path):\n",
    "    os.mkdir(out_path)\n",
    "    \n",
    "path = 'data/processed'\n",
    "dim = 10\n",
    "time = '12z'\n",
    "fxx = 'f00'\n",
    "threshold = 0.2\n",
    "l = ['fire', 'downwind', 'upslope', 'wind'] + ['TMP:2 m', 'SPFH:2 m','LTNG', 'PRATE', 'PRES:surface']\n",
    "\n",
    "all_IDs = []\n",
    "inc_ids = os.listdir(path)\n",
    "\n",
    "for inc_id in inc_ids:\n",
    "    shape = np.load(f'{path}/{inc_id}/1/fire.npy').shape[0:2]\n",
    "    days = sorted([int(i) for i in os.listdir(f'{path}/{inc_id}') if '.' not in i])\n",
    "    days = days[:-1]\n",
    "    IDs = [(inc_id, day, i, j) for day in days for i in range(dim, shape[0] - dim) \\\n",
    "                               for j in range(dim, shape[1] - dim)]\n",
    "    all_IDs = all_IDs + IDs\n",
    "\n",
    "outps = []\n",
    "for ix, ID in enumerate(all_IDs):\n",
    "    \n",
    "    inc_id, day, i, j = ID\n",
    "    inp, outp = basic_cnn_preprocess(path, inc_id, day, i, j, dim, time, fxx, threshold, l)\n",
    "    \n",
    "    np.save(f'{out_path}/{ix}.npy', inp)\n",
    "    outps.append(outp)\n",
    "np.save(f'{out_path}/outputs.npy', np.asarray(outps))"
   ]
  },
  {
   "cell_type": "code",
   "execution_count": 272,
   "id": "e077d3ae",
   "metadata": {},
   "outputs": [
    {
     "data": {
      "text/plain": [
       "198422"
      ]
     },
     "execution_count": 272,
     "metadata": {},
     "output_type": "execute_result"
    }
   ],
   "source": [
    "len(all_IDs)"
   ]
  },
  {
   "cell_type": "code",
   "execution_count": 274,
   "id": "851c959b",
   "metadata": {},
   "outputs": [],
   "source": [
    "np.save(f'{out_path}/IDs.npy', np.asarray(all_IDs))"
   ]
  },
  {
   "cell_type": "code",
   "execution_count": 50,
   "id": "deda82c2",
   "metadata": {},
   "outputs": [
    {
     "data": {
      "text/plain": [
       "14080"
      ]
     },
     "execution_count": 50,
     "metadata": {},
     "output_type": "execute_result"
    }
   ],
   "source": [
    "len(outps)"
   ]
  },
  {
   "cell_type": "code",
   "execution_count": 51,
   "id": "f9678718",
   "metadata": {},
   "outputs": [
    {
     "data": {
      "text/plain": [
       "0.06427556818181818"
      ]
     },
     "execution_count": 51,
     "metadata": {},
     "output_type": "execute_result"
    }
   ],
   "source": [
    "np.mean(outps)"
   ]
  },
  {
   "cell_type": "code",
   "execution_count": 52,
   "id": "50c4c951",
   "metadata": {},
   "outputs": [],
   "source": [
    "inputs = np.asarray(inps)\n",
    "outputs = np.asarray(outps)\n",
    "\n",
    "ix_to_keep = np.arange(outputs.shape[0])\n",
    "np.random.seed(8)\n",
    "np.random.shuffle(ix_to_keep)\n",
    "\n",
    "inputs = inputs[ix_to_keep, :, :, :]\n",
    "outputs = outputs[ix_to_keep]"
   ]
  },
  {
   "cell_type": "code",
   "execution_count": 53,
   "id": "39cd37a4",
   "metadata": {},
   "outputs": [
    {
     "data": {
      "text/plain": [
       "(14080, 21, 21, 9)"
      ]
     },
     "execution_count": 53,
     "metadata": {},
     "output_type": "execute_result"
    }
   ],
   "source": [
    "inputs.shape"
   ]
  },
  {
   "cell_type": "code",
   "execution_count": 275,
   "id": "25c596dd",
   "metadata": {},
   "outputs": [],
   "source": [
    "class DataGenerator(keras.utils.Sequence):\n",
    "    'Generates data for Keras'\n",
    "    def __init__(self, data_path, list_IDs, batch_size=32, dim=(21, 21), shuffle=True):\n",
    "        'Initialization'\n",
    "        self.dim = dim\n",
    "        self.data_path = data_path\n",
    "        self.batch_size = batch_size\n",
    "        self.labels = np.load(f'{data_path}/outputs.npy')\n",
    "        self.list_IDs = list_IDs\n",
    "        self.n_channels = np.load(f'{data_path}/1.npy').shape[-1]\n",
    "        self.shuffle = shuffle\n",
    "        self.on_epoch_end()\n",
    "\n",
    "    def __len__(self):\n",
    "        'Denotes the number of batches per epoch'\n",
    "        return int(np.floor(len(self.list_IDs) / self.batch_size))\n",
    "\n",
    "    def __getitem__(self, index):\n",
    "        'Generate one batch of data'\n",
    "        # Generate indexes of the batch\n",
    "        indexes = self.indexes[index*self.batch_size:(index+1)*self.batch_size]\n",
    "\n",
    "        # Find list of IDs\n",
    "        list_IDs_temp = [self.list_IDs[k] for k in indexes]\n",
    "\n",
    "        # Generate data\n",
    "        X, y = self.__data_generation(list_IDs_temp)\n",
    "\n",
    "        return X, y\n",
    "\n",
    "    def on_epoch_end(self):\n",
    "        'Updates indexes after each epoch'\n",
    "        self.indexes = np.arange(len(self.list_IDs))\n",
    "        if self.shuffle == True:\n",
    "            np.random.shuffle(self.indexes)\n",
    "\n",
    "    def __data_generation(self, list_IDs_temp):\n",
    "        'Generates data containing batch_size samples' # X : (n_samples, *dim, n_channels)\n",
    "        # Initialization\n",
    "        X = np.empty((self.batch_size, *self.dim, self.n_channels))\n",
    "        y = np.empty((self.batch_size), dtype=int)\n",
    "\n",
    "        # Generate data\n",
    "        for i, ID in enumerate(list_IDs_temp):\n",
    "            # Store sample\n",
    "            X[i,] = np.load(f'{self.data_path}/{ID}.npy')\n",
    "\n",
    "            # Store class\n",
    "            y[i] = self.labels[ID]\n",
    "\n",
    "        return X, y"
   ]
  },
  {
   "cell_type": "code",
   "execution_count": 285,
   "id": "009eec3e",
   "metadata": {},
   "outputs": [],
   "source": [
    "outputs = np.load('data/cnn_input3/outputs.npy')\n",
    "ix_to_keep = np.arange(outputs.shape[0])\n",
    "np.random.seed(8)\n",
    "np.random.shuffle(ix_to_keep)"
   ]
  },
  {
   "cell_type": "code",
   "execution_count": 286,
   "id": "a27cf2d0",
   "metadata": {},
   "outputs": [],
   "source": [
    "split = int(np.floor(0.8*len(ix_to_keep)))\n",
    "train = ix_to_keep[:split]\n",
    "val = ix_to_keep[split:]"
   ]
  },
  {
   "cell_type": "code",
   "execution_count": 287,
   "id": "ae332c07",
   "metadata": {},
   "outputs": [],
   "source": [
    "# Generators\n",
    "training_generator = DataGenerator('data/cnn_input3', train)\n",
    "validation_generator = DataGenerator('data/cnn_input3', val)"
   ]
  },
  {
   "cell_type": "code",
   "execution_count": 288,
   "id": "77a587e6",
   "metadata": {},
   "outputs": [
    {
     "data": {
      "text/plain": [
       "0.9685312974110507"
      ]
     },
     "execution_count": 288,
     "metadata": {},
     "output_type": "execute_result"
    }
   ],
   "source": [
    "1 - outputs[val].mean()"
   ]
  },
  {
   "cell_type": "code",
   "execution_count": null,
   "id": "29dec79c",
   "metadata": {},
   "outputs": [
    {
     "name": "stdout",
     "output_type": "stream",
     "text": [
      "Epoch 1/15\n",
      "5108/5108 [==============================] - 222s 43ms/step - loss: 0.0912 - acc: 0.9703 - val_loss: 0.0735 - val_acc: 0.9729\n",
      "Epoch 2/15\n",
      "5108/5108 [==============================] - 290s 57ms/step - loss: 0.0707 - acc: 0.9747 - val_loss: 0.0667 - val_acc: 0.9757\n",
      "Epoch 3/15\n",
      "5108/5108 [==============================] - 275s 54ms/step - loss: 0.0590 - acc: 0.9785 - val_loss: 0.0585 - val_acc: 0.9794\n",
      "Epoch 4/15\n",
      "5108/5108 [==============================] - 288s 56ms/step - loss: 0.0508 - acc: 0.9812 - val_loss: 0.0525 - val_acc: 0.9802\n",
      "Epoch 5/15\n",
      "5108/5108 [==============================] - 320s 63ms/step - loss: 0.0448 - acc: 0.9834 - val_loss: 0.0517 - val_acc: 0.9810\n",
      "Epoch 6/15\n",
      "5108/5108 [==============================] - 275s 54ms/step - loss: 0.0399 - acc: 0.9850 - val_loss: 0.0502 - val_acc: 0.9821\n",
      "Epoch 7/15\n",
      "5108/5108 [==============================] - 276s 54ms/step - loss: 0.0366 - acc: 0.9867 - val_loss: 0.0503 - val_acc: 0.9821\n",
      "Epoch 8/15\n",
      "5108/5108 [==============================] - 275s 54ms/step - loss: 0.0327 - acc: 0.9882 - val_loss: 0.0509 - val_acc: 0.9822\n",
      "Epoch 9/15\n",
      "5108/5108 [==============================] - 1014s 199ms/step - loss: 0.0306 - acc: 0.9887 - val_loss: 0.0523 - val_acc: 0.9827\n",
      "Epoch 10/15\n",
      "5108/5108 [==============================] - 275s 54ms/step - loss: 0.0279 - acc: 0.9897 - val_loss: 0.0499 - val_acc: 0.9825\n",
      "Epoch 11/15\n",
      "5108/5108 [==============================] - 292s 57ms/step - loss: 0.0261 - acc: 0.9906 - val_loss: 0.0509 - val_acc: 0.9838\n",
      "Epoch 12/15\n",
      "5108/5108 [==============================] - 283s 55ms/step - loss: 0.0238 - acc: 0.9913 - val_loss: 0.0522 - val_acc: 0.9830\n",
      "Epoch 13/15\n",
      "5108/5108 [==============================] - 279s 55ms/step - loss: 0.0217 - acc: 0.9922 - val_loss: 0.0538 - val_acc: 0.9838\n",
      "Epoch 14/15\n",
      "5108/5108 [==============================] - 278s 54ms/step - loss: 0.0204 - acc: 0.9925 - val_loss: 0.0546 - val_acc: 0.9836\n",
      "Epoch 15/15\n",
      "4546/5108 [=========================>....] - ETA: 24s - loss: 0.0194 - acc: 0.9929"
     ]
    }
   ],
   "source": [
    "model = make_model([0, 1, 2, 3], [0, 1, 2, 3, 4, 5, 6, 7, 8], 'all')\n",
    "\n",
    "model.compile(loss='sparse_categorical_crossentropy',\n",
    "             optimizer='adam',\n",
    "             metrics=['accuracy'])\n",
    "\n",
    "callbacks = [keras.callbacks.ModelCheckpoint(\n",
    "    filepath='cnn_from_scratch.keras',\n",
    "    save_best_only=True,\n",
    "    monitor='val_acc')]\n",
    "\n",
    "\n",
    "model.fit_generator(generator=training_generator,\n",
    "                    validation_data=validation_generator,\n",
    "                    use_multiprocessing=False,\n",
    "                    epochs=15,\n",
    "                    workers=50)"
   ]
  },
  {
   "cell_type": "code",
   "execution_count": 177,
   "id": "48affe2b",
   "metadata": {},
   "outputs": [],
   "source": [
    "from tensorflow.keras.layers import Conv2D, MaxPool2D, Flatten, Dense, Dropout, Lambda, BatchNormalization\n",
    "\n",
    "model = keras.Sequential(\n",
    "    [\n",
    "        keras.Input(shape=inputs.shape[1:]),\n",
    "        Conv2D(5, kernel_size=(2, 2), activation=\"relu\", name=\"Conv_1\"),\n",
    "        MaxPool2D(),\n",
    "        Flatten(),\n",
    "        Dense(256, activation=\"relu\"),   \n",
    "        Dropout(0.2), \n",
    "        Dense(2, activation=\"softmax\", name=\"Output\")\n",
    "    ]\n",
    "\n",
    ")"
   ]
  },
  {
   "cell_type": "code",
   "execution_count": null,
   "id": "57832038",
   "metadata": {},
   "outputs": [],
   "source": [
    "model = keras.Sequential(\n",
    "    [\n",
    "        keras.Input(shape=inputs.shape[1:]),\n",
    "        Conv2D(5, kernel_size=(2, 2), activation=\"relu\", name=\"Conv_1\"),\n",
    "        MaxPool2D(),\n",
    "        Flatten(),\n",
    "        Dense(256, activation=\"relu\"),   \n",
    "        Dropout(0.2), \n",
    "        Dense(2, activation=\"softmax\", name=\"Output\")\n",
    "    ]\n",
    "\n",
    ")"
   ]
  },
  {
   "cell_type": "code",
   "execution_count": 182,
   "id": "9e57d4e1",
   "metadata": {},
   "outputs": [],
   "source": [
    "def make_model(conv_ixs, point_ixs, name):\n",
    "    \n",
    "    input_data = keras.Input(shape=inputs.shape[1:])\n",
    "    \n",
    "    m = int((inputs.shape[1]+1)/2)\n",
    "\n",
    "    x = Lambda(lambda t: tf.stack([t[..., i] for i in conv_ixs], axis=-1), name='Get_layers_for_conv')(input_data)\n",
    "    x = BatchNormalization()(x)\n",
    "    x = Conv2D(5, kernel_size=(2, 2), activation=\"relu\")(x)\n",
    "    x = MaxPool2D()(x)\n",
    "    x = Flatten()(x)\n",
    "    y = Lambda(lambda t: tf.stack([t[..., i] for i in point_ixs], axis=-1), name='Get_layers_for_point_estimates')(input_data)\n",
    "    y = Lambda(lambda x: x[:, m, m], name='Get_point_data')(y)\n",
    "    y = BatchNormalization()(y)\n",
    "    y = keras.layers.Concatenate()([x, y])\n",
    "    y = Dense(256, activation=\"relu\")(y) \n",
    "    y = Dropout(0.2)(y)\n",
    "    output_data = Dense(2, activation=\"softmax\", name=\"Output\")(y)\n",
    "\n",
    "    return keras.Model(input_data, output_data, name=name)\n",
    "    "
   ]
  },
  {
   "cell_type": "code",
   "execution_count": 165,
   "id": "e5071967",
   "metadata": {},
   "outputs": [],
   "source": [
    "def test_params(conv, point, layers_list):\n",
    "    \n",
    "    name = 'CONV ' + ' '.join(conv) + ' + ' + 'POINT '+' '.join(point)\n",
    "\n",
    "    c_ix = [i for i, ix in enumerate(layers_list) if ix in conv]\n",
    "    p_ix = [i for i, ix in enumerate(layers_list) if ix in point]\n",
    "\n",
    "    model = make_model(c_ix, p_ix, name)\n",
    "\n",
    "\n",
    "    model.compile(loss='sparse_categorical_crossentropy',\n",
    "                 optimizer='adam',\n",
    "                 metrics=['accuracy'])\n",
    "\n",
    "    callbacks = [keras.callbacks.ModelCheckpoint(\n",
    "        filepath='cnn_from_scratch.keras',\n",
    "        save_best_only=True,\n",
    "        monitor='val_acc')]\n",
    "\n",
    "    # This callback will tell the trainer that we must store the weights that give the best accuracy in validation\n",
    "\n",
    "    model.fit(inputs,\n",
    "             outputs,\n",
    "             batch_size=32,\n",
    "             epochs=10,\n",
    "             validation_split=0.2,\n",
    "             callbacks=callbacks)\n",
    "\n",
    "    y_pred = np.argmax(model.predict(inputs), axis=1)\n",
    "    \n",
    "    return name, np.unique(y_pred, return_counts=True) "
   ]
  },
  {
   "cell_type": "code",
   "execution_count": 209,
   "id": "e19f70c1",
   "metadata": {},
   "outputs": [],
   "source": [
    "model = make_model([0, 1, 2, 3, 4, 5, 6, 7, 8], [0], 'all')"
   ]
  },
  {
   "cell_type": "code",
   "execution_count": 191,
   "id": "28ab4d9f",
   "metadata": {},
   "outputs": [
    {
     "name": "stdout",
     "output_type": "stream",
     "text": [
      "Train on 11264 samples, validate on 2816 samples\n",
      "Epoch 1/15\n",
      "11264/11264 [==============================] - 15s 1ms/sample - loss: 0.1891 - acc: 0.9379 - val_loss: 0.1681 - val_acc: 0.9379\n",
      "Epoch 2/15\n",
      "11264/11264 [==============================] - 10s 920us/sample - loss: 0.1282 - acc: 0.9511 - val_loss: 0.1268 - val_acc: 0.9489\n",
      "Epoch 3/15\n",
      "11264/11264 [==============================] - 10s 917us/sample - loss: 0.1048 - acc: 0.9590 - val_loss: 0.1085 - val_acc: 0.9567\n",
      "Epoch 4/15\n",
      "11264/11264 [==============================] - 10s 861us/sample - loss: 0.0880 - acc: 0.9624 - val_loss: 0.1220 - val_acc: 0.9517\n",
      "Epoch 5/15\n",
      "11264/11264 [==============================] - 10s 909us/sample - loss: 0.0803 - acc: 0.9663 - val_loss: 0.1128 - val_acc: 0.9524\n",
      "Epoch 6/15\n",
      "11264/11264 [==============================] - 10s 915us/sample - loss: 0.0668 - acc: 0.9722 - val_loss: 0.0907 - val_acc: 0.9634\n",
      "Epoch 7/15\n",
      "11264/11264 [==============================] - 10s 913us/sample - loss: 0.0626 - acc: 0.9744 - val_loss: 0.1054 - val_acc: 0.9631\n",
      "Epoch 8/15\n",
      "11264/11264 [==============================] - 10s 907us/sample - loss: 0.0544 - acc: 0.9777 - val_loss: 0.0975 - val_acc: 0.9616\n",
      "Epoch 9/15\n",
      "11264/11264 [==============================] - 10s 915us/sample - loss: 0.0495 - acc: 0.9812 - val_loss: 0.1043 - val_acc: 0.9641\n",
      "Epoch 10/15\n",
      "11264/11264 [==============================] - 10s 907us/sample - loss: 0.0436 - acc: 0.9821 - val_loss: 0.1034 - val_acc: 0.9634\n",
      "Epoch 11/15\n",
      "11264/11264 [==============================] - 10s 907us/sample - loss: 0.0398 - acc: 0.9851 - val_loss: 0.1095 - val_acc: 0.9620\n",
      "Epoch 12/15\n",
      "11264/11264 [==============================] - 10s 911us/sample - loss: 0.0328 - acc: 0.9875 - val_loss: 0.1267 - val_acc: 0.9620\n",
      "Epoch 13/15\n",
      "11264/11264 [==============================] - 10s 906us/sample - loss: 0.0323 - acc: 0.9877 - val_loss: 0.1251 - val_acc: 0.9634\n",
      "Epoch 14/15\n",
      "11264/11264 [==============================] - 10s 903us/sample - loss: 0.0312 - acc: 0.9878 - val_loss: 0.1293 - val_acc: 0.9606\n",
      "Epoch 15/15\n",
      "11264/11264 [==============================] - 10s 908us/sample - loss: 0.0282 - acc: 0.9880 - val_loss: 0.1284 - val_acc: 0.9638\n"
     ]
    }
   ],
   "source": [
    "model.compile(loss='sparse_categorical_crossentropy',\n",
    "             optimizer='adam',\n",
    "             metrics=['accuracy'])\n",
    "\n",
    "callbacks = [keras.callbacks.ModelCheckpoint(\n",
    "    filepath='cnn_from_scratch.keras',\n",
    "    save_best_only=True,\n",
    "    monitor='val_acc')]\n",
    "\n",
    "# This callback will tell the trainer that we must store the weights that give the best accuracy in validation\n",
    "\n",
    "model.fit(inputs,\n",
    "         outputs,\n",
    "         batch_size=32,\n",
    "         epochs=15,\n",
    "         validation_split=0.2,\n",
    "         callbacks=callbacks)\n",
    "\n",
    "y_pred = np.argmax(model.predict(inputs), axis=1)"
   ]
  },
  {
   "cell_type": "code",
   "execution_count": 184,
   "id": "9d8078ee",
   "metadata": {},
   "outputs": [
    {
     "data": {
      "image/png": "[encoded data removed]",
      "text/plain": [
       "<IPython.core.display.Image object>"
      ]
     },
     "execution_count": 184,
     "metadata": {},
     "output_type": "execute_result"
    }
   ],
   "source": [
    "keras.utils.plot_model(m)"
   ]
  },
  {
   "cell_type": "code",
   "execution_count": 166,
   "id": "a8904b0d",
   "metadata": {},
   "outputs": [
    {
     "data": {
      "text/plain": [
       "['fire',\n",
       " 'downwind',\n",
       " 'upslope',\n",
       " 'wind',\n",
       " 'TMP:2 m',\n",
       " 'SPFH:2 m',\n",
       " 'LTNG',\n",
       " 'PRATE',\n",
       " 'PRES:surface']"
      ]
     },
     "execution_count": 166,
     "metadata": {},
     "output_type": "execute_result"
    }
   ],
   "source": [
    "layers"
   ]
  },
  {
   "cell_type": "code",
   "execution_count": 167,
   "id": "587f1a0c",
   "metadata": {},
   "outputs": [
    {
     "name": "stdout",
     "output_type": "stream",
     "text": [
      "Train on 11264 samples, validate on 2816 samples\n",
      "Epoch 1/10\n",
      "11264/11264 [==============================] - 6s 540us/sample - loss: 0.2239 - acc: 0.9351 - val_loss: 0.1813 - val_acc: 0.9379\n",
      "Epoch 2/10\n",
      "11264/11264 [==============================] - 4s 375us/sample - loss: 0.1641 - acc: 0.9409 - val_loss: 0.1528 - val_acc: 0.9425\n",
      "Epoch 3/10\n",
      "11264/11264 [==============================] - 4s 367us/sample - loss: 0.1397 - acc: 0.9480 - val_loss: 0.1411 - val_acc: 0.9474\n",
      "Epoch 4/10\n",
      "11264/11264 [==============================] - 4s 367us/sample - loss: 0.1167 - acc: 0.9547 - val_loss: 0.1265 - val_acc: 0.9503\n",
      "Epoch 5/10\n",
      "11264/11264 [==============================] - 4s 360us/sample - loss: 0.1012 - acc: 0.9603 - val_loss: 0.1122 - val_acc: 0.9560\n",
      "Epoch 6/10\n",
      "11264/11264 [==============================] - 4s 360us/sample - loss: 0.0857 - acc: 0.9653 - val_loss: 0.1250 - val_acc: 0.9545\n",
      "Epoch 7/10\n",
      "11264/11264 [==============================] - 4s 356us/sample - loss: 0.0767 - acc: 0.9693 - val_loss: 0.1043 - val_acc: 0.9616\n",
      "Epoch 8/10\n",
      "11264/11264 [==============================] - 4s 366us/sample - loss: 0.0655 - acc: 0.9759 - val_loss: 0.0997 - val_acc: 0.9656\n",
      "Epoch 9/10\n",
      "11264/11264 [==============================] - 4s 355us/sample - loss: 0.0633 - acc: 0.9744 - val_loss: 0.1046 - val_acc: 0.9602\n",
      "Epoch 10/10\n",
      "11264/11264 [==============================] - 4s 353us/sample - loss: 0.0525 - acc: 0.9803 - val_loss: 0.1087 - val_acc: 0.9585\n",
      "Train on 11264 samples, validate on 2816 samples\n",
      "Epoch 1/10\n",
      "11264/11264 [==============================] - 6s 533us/sample - loss: 0.2420 - acc: 0.9355 - val_loss: 0.2180 - val_acc: 0.9354\n",
      "Epoch 2/10\n",
      "11264/11264 [==============================] - 4s 368us/sample - loss: 0.1874 - acc: 0.9385 - val_loss: 0.1645 - val_acc: 0.9407\n",
      "Epoch 3/10\n",
      "11264/11264 [==============================] - 4s 367us/sample - loss: 0.1497 - acc: 0.9446 - val_loss: 0.1421 - val_acc: 0.9425\n",
      "Epoch 4/10\n",
      "11264/11264 [==============================] - 4s 363us/sample - loss: 0.1233 - acc: 0.9511 - val_loss: 0.1309 - val_acc: 0.9506\n",
      "Epoch 5/10\n",
      "11264/11264 [==============================] - 4s 358us/sample - loss: 0.1086 - acc: 0.9577 - val_loss: 0.1219 - val_acc: 0.9531\n",
      "Epoch 6/10\n",
      "11264/11264 [==============================] - 4s 353us/sample - loss: 0.0961 - acc: 0.9628 - val_loss: 0.1234 - val_acc: 0.9506\n",
      "Epoch 7/10\n",
      "11264/11264 [==============================] - 4s 352us/sample - loss: 0.0822 - acc: 0.9693 - val_loss: 0.1080 - val_acc: 0.9616\n",
      "Epoch 8/10\n",
      "11264/11264 [==============================] - 4s 354us/sample - loss: 0.0737 - acc: 0.9725 - val_loss: 0.1073 - val_acc: 0.9599\n",
      "Epoch 9/10\n",
      "11264/11264 [==============================] - 4s 353us/sample - loss: 0.0669 - acc: 0.9743 - val_loss: 0.1083 - val_acc: 0.9631\n",
      "Epoch 10/10\n",
      "11264/11264 [==============================] - 4s 353us/sample - loss: 0.0614 - acc: 0.9764 - val_loss: 0.1222 - val_acc: 0.9616\n",
      "Train on 11264 samples, validate on 2816 samples\n",
      "Epoch 1/10\n",
      "11264/11264 [==============================] - 6s 570us/sample - loss: 0.2500 - acc: 0.9324 - val_loss: 0.2022 - val_acc: 0.9350\n",
      "Epoch 2/10\n",
      "11264/11264 [==============================] - 4s 380us/sample - loss: 0.1945 - acc: 0.9381 - val_loss: 0.1927 - val_acc: 0.9347\n",
      "Epoch 3/10\n",
      "11264/11264 [==============================] - 4s 377us/sample - loss: 0.1669 - acc: 0.9431 - val_loss: 0.1615 - val_acc: 0.9414\n",
      "Epoch 4/10\n",
      "11264/11264 [==============================] - 4s 373us/sample - loss: 0.1470 - acc: 0.9470 - val_loss: 0.1504 - val_acc: 0.9446\n",
      "Epoch 5/10\n",
      "11264/11264 [==============================] - 4s 377us/sample - loss: 0.1276 - acc: 0.9537 - val_loss: 0.1506 - val_acc: 0.9482\n",
      "Epoch 6/10\n",
      "11264/11264 [==============================] - 4s 380us/sample - loss: 0.1149 - acc: 0.9560 - val_loss: 0.1417 - val_acc: 0.9489\n",
      "Epoch 7/10\n",
      "11264/11264 [==============================] - 4s 378us/sample - loss: 0.1016 - acc: 0.9623 - val_loss: 0.1293 - val_acc: 0.9542\n",
      "Epoch 8/10\n",
      "11264/11264 [==============================] - 4s 380us/sample - loss: 0.0894 - acc: 0.9665 - val_loss: 0.1229 - val_acc: 0.9545\n",
      "Epoch 9/10\n",
      "11264/11264 [==============================] - 4s 364us/sample - loss: 0.0808 - acc: 0.9674 - val_loss: 0.1331 - val_acc: 0.9524\n",
      "Epoch 10/10\n",
      "11264/11264 [==============================] - 4s 367us/sample - loss: 0.0696 - acc: 0.9744 - val_loss: 0.1227 - val_acc: 0.9549\n",
      "Train on 11264 samples, validate on 2816 samples\n",
      "Epoch 1/10\n",
      "11264/11264 [==============================] - 7s 589us/sample - loss: 0.2645 - acc: 0.9329 - val_loss: 0.1858 - val_acc: 0.9354\n",
      "Epoch 2/10\n",
      "11264/11264 [==============================] - 4s 385us/sample - loss: 0.1784 - acc: 0.9376 - val_loss: 0.1624 - val_acc: 0.9382\n",
      "Epoch 3/10\n",
      "11264/11264 [==============================] - 4s 380us/sample - loss: 0.1494 - acc: 0.9438 - val_loss: 0.1624 - val_acc: 0.9382\n",
      "Epoch 4/10\n",
      "11264/11264 [==============================] - 4s 378us/sample - loss: 0.1222 - acc: 0.9533 - val_loss: 0.1398 - val_acc: 0.9467\n",
      "Epoch 5/10\n",
      "11264/11264 [==============================] - 4s 387us/sample - loss: 0.1065 - acc: 0.9577 - val_loss: 0.1246 - val_acc: 0.9489\n",
      "Epoch 6/10\n",
      "11264/11264 [==============================] - 4s 384us/sample - loss: 0.0929 - acc: 0.9640 - val_loss: 0.1144 - val_acc: 0.9531\n",
      "Epoch 7/10\n",
      "11264/11264 [==============================] - 4s 379us/sample - loss: 0.0797 - acc: 0.9680 - val_loss: 0.1195 - val_acc: 0.9545\n",
      "Epoch 8/10\n",
      "11264/11264 [==============================] - 4s 378us/sample - loss: 0.0750 - acc: 0.9689 - val_loss: 0.1099 - val_acc: 0.9595\n",
      "Epoch 9/10\n",
      "11264/11264 [==============================] - 4s 378us/sample - loss: 0.0628 - acc: 0.9747 - val_loss: 0.1031 - val_acc: 0.9606\n",
      "Epoch 10/10\n",
      "11264/11264 [==============================] - 4s 376us/sample - loss: 0.0579 - acc: 0.9762 - val_loss: 0.1028 - val_acc: 0.9638\n",
      "Train on 11264 samples, validate on 2816 samples\n",
      "Epoch 1/10\n",
      "11264/11264 [==============================] - 7s 601us/sample - loss: 291.7241 - acc: 0.8754 - val_loss: 100.9902 - val_acc: 0.9350\n",
      "Epoch 2/10\n",
      "11264/11264 [==============================] - 4s 396us/sample - loss: 91.0300 - acc: 0.8798 - val_loss: 28.8715 - val_acc: 0.9350\n",
      "Epoch 3/10\n",
      "11264/11264 [==============================] - 4s 393us/sample - loss: 17.3732 - acc: 0.8819 - val_loss: 3.8364 - val_acc: 0.9350\n",
      "Epoch 4/10\n",
      "11264/11264 [==============================] - 4s 388us/sample - loss: 4.0419 - acc: 0.8815 - val_loss: 4.6012 - val_acc: 0.9350\n",
      "Epoch 5/10\n",
      "11264/11264 [==============================] - 4s 393us/sample - loss: 2.5301 - acc: 0.8819 - val_loss: 3.0078 - val_acc: 0.9350\n",
      "Epoch 6/10\n",
      "11264/11264 [==============================] - 4s 386us/sample - loss: 0.9178 - acc: 0.8921 - val_loss: 0.2881 - val_acc: 0.9350\n",
      "Epoch 7/10\n",
      "11264/11264 [==============================] - 4s 387us/sample - loss: 0.5219 - acc: 0.8999 - val_loss: 0.2813 - val_acc: 0.9350\n",
      "Epoch 8/10\n",
      "11264/11264 [==============================] - 4s 393us/sample - loss: 0.3996 - acc: 0.9173 - val_loss: 0.2296 - val_acc: 0.9350\n",
      "Epoch 9/10\n",
      "11264/11264 [==============================] - 4s 393us/sample - loss: 0.2936 - acc: 0.9281 - val_loss: 0.2200 - val_acc: 0.9350\n",
      "Epoch 10/10\n",
      "11264/11264 [==============================] - 4s 392us/sample - loss: 0.2681 - acc: 0.9302 - val_loss: 0.2154 - val_acc: 0.9350\n"
     ]
    }
   ],
   "source": [
    "d = {}\n",
    "\n",
    "conv = ['fire',\n",
    " 'downwind',\n",
    " 'upslope',\n",
    " 'wind']\n",
    "\n",
    "points = ['TMP:2 m', 'SPFH:2 m', 'LTNG', 'PRATE', 'PRES:surface']\n",
    "for i in points:\n",
    "    point = [i]\n",
    "    name, guesses = test_params(conv, point, layers)\n",
    "    d[name] = guesses\n",
    "\n"
   ]
  },
  {
   "cell_type": "code",
   "execution_count": 169,
   "id": "86fab214",
   "metadata": {},
   "outputs": [
    {
     "name": "stdout",
     "output_type": "stream",
     "text": [
      "Train on 11264 samples, validate on 2816 samples\n",
      "Epoch 1/10\n",
      "11264/11264 [==============================] - 7s 621us/sample - loss: 0.2911 - acc: 0.9302 - val_loss: 0.2070 - val_acc: 0.9350\n",
      "Epoch 2/10\n",
      "11264/11264 [==============================] - 5s 406us/sample - loss: 0.2033 - acc: 0.9363 - val_loss: 0.1924 - val_acc: 0.9354\n",
      "Epoch 3/10\n",
      "11264/11264 [==============================] - 5s 401us/sample - loss: 0.1785 - acc: 0.9382 - val_loss: 0.1665 - val_acc: 0.9350\n",
      "Epoch 4/10\n",
      "11264/11264 [==============================] - 5s 402us/sample - loss: 0.1589 - acc: 0.9411 - val_loss: 0.1487 - val_acc: 0.9403\n",
      "Epoch 5/10\n",
      "11264/11264 [==============================] - 5s 403us/sample - loss: 0.1362 - acc: 0.9458 - val_loss: 0.1396 - val_acc: 0.9453\n",
      "Epoch 6/10\n",
      "11264/11264 [==============================] - 5s 416us/sample - loss: 0.1203 - acc: 0.9518 - val_loss: 0.1287 - val_acc: 0.9460\n",
      "Epoch 7/10\n",
      "11264/11264 [==============================] - 5s 407us/sample - loss: 0.1042 - acc: 0.9573 - val_loss: 0.1140 - val_acc: 0.9517\n",
      "Epoch 8/10\n",
      "11264/11264 [==============================] - 5s 408us/sample - loss: 0.0921 - acc: 0.9649 - val_loss: 0.1114 - val_acc: 0.9524\n",
      "Epoch 9/10\n",
      "11264/11264 [==============================] - 5s 416us/sample - loss: 0.0843 - acc: 0.9671 - val_loss: 0.1105 - val_acc: 0.9549\n",
      "Epoch 10/10\n",
      "11264/11264 [==============================] - 5s 400us/sample - loss: 0.0737 - acc: 0.9709 - val_loss: 0.1092 - val_acc: 0.9535\n"
     ]
    }
   ],
   "source": [
    "p = ['TMP:2 m', 'SPFH:2 m', 'LTNG', 'PRATE']\n",
    "name, guesses = test_params(conv, p, layers)\n",
    "d[name] = guesses"
   ]
  },
  {
   "cell_type": "code",
   "execution_count": 170,
   "id": "0d5aa6be",
   "metadata": {},
   "outputs": [
    {
     "data": {
      "text/plain": [
       "{'CONV fire downwind upslope wind + POINT TMP:2 m': (array([0, 1], dtype=int64),\n",
       "  array([13228,   852], dtype=int64)),\n",
       " 'CONV fire downwind upslope wind + POINT SPFH:2 m': (array([0, 1], dtype=int64),\n",
       "  array([13430,   650], dtype=int64)),\n",
       " 'CONV fire downwind upslope wind + POINT LTNG': (array([0, 1], dtype=int64),\n",
       "  array([13448,   632], dtype=int64)),\n",
       " 'CONV fire downwind upslope wind + POINT PRATE': (array([0, 1], dtype=int64),\n",
       "  array([13288,   792], dtype=int64)),\n",
       " 'CONV fire downwind upslope wind + POINT PRES:surface': (array([0], dtype=int64),\n",
       "  array([14080], dtype=int64)),\n",
       " 'CONV fire downwind upslope wind + POINT TMP:2 m SPFH:2 m LTNG PRATE': (array([0, 1], dtype=int64),\n",
       "  array([13387,   693], dtype=int64))}"
      ]
     },
     "execution_count": 170,
     "metadata": {},
     "output_type": "execute_result"
    }
   ],
   "source": [
    "d"
   ]
  },
  {
   "cell_type": "code",
   "execution_count": 175,
   "id": "ccc2671b",
   "metadata": {},
   "outputs": [
    {
     "name": "stdout",
     "output_type": "stream",
     "text": [
      "0\n",
      "0.13419190753536941\n",
      "1\n",
      "-0.006567122290851242\n",
      "2\n",
      "-0.06035161390534101\n",
      "3\n",
      "3.80332143717475\n",
      "4\n",
      "8.168767984487987\n",
      "5\n",
      "0.003163689746665303\n",
      "6\n",
      "0.0\n",
      "7\n",
      "0.0\n",
      "8\n",
      "74456.95738256167\n"
     ]
    }
   ],
   "source": [
    "for i in range(inputs.shape[3]):\n",
    "    print(i)\n",
    "    print(np.mean(inputs[0, :, :, i]))"
   ]
  },
  {
   "cell_type": "code",
   "execution_count": 155,
   "id": "45206b51",
   "metadata": {},
   "outputs": [
    {
     "data": {
      "text/plain": [
       "['_TF_MODULE_IGNORED_PROPERTIES',\n",
       " '__call__',\n",
       " '__class__',\n",
       " '__delattr__',\n",
       " '__dict__',\n",
       " '__dir__',\n",
       " '__doc__',\n",
       " '__eq__',\n",
       " '__format__',\n",
       " '__ge__',\n",
       " '__getattribute__',\n",
       " '__gt__',\n",
       " '__hash__',\n",
       " '__init__',\n",
       " '__init_subclass__',\n",
       " '__le__',\n",
       " '__lt__',\n",
       " '__module__',\n",
       " '__ne__',\n",
       " '__new__',\n",
       " '__reduce__',\n",
       " '__reduce_ex__',\n",
       " '__repr__',\n",
       " '__setattr__',\n",
       " '__sizeof__',\n",
       " '__str__',\n",
       " '__subclasshook__',\n",
       " '__weakref__',\n",
       " '_activity_regularizer',\n",
       " '_add_inbound_node',\n",
       " '_add_unique_metric_name',\n",
       " '_add_variable_with_custom_getter',\n",
       " '_all_metrics_tensors',\n",
       " '_assert_compile_was_called',\n",
       " '_assert_weights_created',\n",
       " '_base_init',\n",
       " '_cache_output_metric_attributes',\n",
       " '_call_convention',\n",
       " '_call_fn_args',\n",
       " '_call_metric_fn',\n",
       " '_callable_losses',\n",
       " '_check_trainable_weights_consistency',\n",
       " '_checkpoint_dependencies',\n",
       " '_ckpt_saved_epoch',\n",
       " '_clear_losses',\n",
       " '_cloning',\n",
       " '_collected_trainable_weights',\n",
       " '_compile_distribution',\n",
       " '_compile_eagerly',\n",
       " '_compile_metric_functions',\n",
       " '_compile_metrics',\n",
       " '_compile_metrics_names',\n",
       " '_compile_metrics_tensors',\n",
       " '_compile_weighted_metrics',\n",
       " '_compile_weights_loss_and_weighted_metrics',\n",
       " '_compute_output_and_mask_jointly',\n",
       " '_deferred_dependencies',\n",
       " '_determine_call_convention',\n",
       " '_distributed_function_cache',\n",
       " '_distributed_model_cache',\n",
       " '_distribution_standardize_user_data',\n",
       " '_distribution_strategy',\n",
       " '_dtype',\n",
       " '_dynamic',\n",
       " '_eager_add_metric',\n",
       " '_eager_losses',\n",
       " '_expects_training_arg',\n",
       " '_feed_input_names',\n",
       " '_feed_input_shapes',\n",
       " '_feed_inputs',\n",
       " '_feed_loss_fns',\n",
       " '_feed_output_names',\n",
       " '_feed_output_shapes',\n",
       " '_feed_sample_weights',\n",
       " '_feed_targets',\n",
       " '_flatten',\n",
       " '_function_kwargs',\n",
       " '_gather_children_attribute',\n",
       " '_gather_saveables_for_checkpoint',\n",
       " '_get_callback_model',\n",
       " '_get_existing_metric',\n",
       " '_get_node_attribute_at_index',\n",
       " '_graph',\n",
       " '_handle_activity_regularization',\n",
       " '_handle_deferred_dependencies',\n",
       " '_handle_metrics',\n",
       " '_handle_per_output_metrics',\n",
       " '_handle_weight_regularization',\n",
       " '_inbound_nodes',\n",
       " '_init_graph_network',\n",
       " '_init_metric_attributes',\n",
       " '_init_set_name',\n",
       " '_init_subclassed_network',\n",
       " '_input_coordinates',\n",
       " '_input_layers',\n",
       " '_inputs_from_call_args',\n",
       " '_insert_layers',\n",
       " '_is_compiled',\n",
       " '_is_graph_network',\n",
       " '_is_layer',\n",
       " '_keras_api_names',\n",
       " '_keras_api_names_v1',\n",
       " '_layer_call_argspecs',\n",
       " '_layers',\n",
       " '_layers_by_depth',\n",
       " '_list_functions_for_serialization',\n",
       " '_lookup_dependency',\n",
       " '_loss_weights_list',\n",
       " '_losses',\n",
       " '_make_callback_model',\n",
       " '_make_execution_function',\n",
       " '_make_predict_function',\n",
       " '_make_test_function',\n",
       " '_make_train_function',\n",
       " '_maybe_build',\n",
       " '_maybe_create_attribute',\n",
       " '_maybe_initialize_trackable',\n",
       " '_maybe_load_initial_epoch_from_ckpt',\n",
       " '_metrics',\n",
       " '_metrics_tensors',\n",
       " '_mixed_precision_policy',\n",
       " '_name',\n",
       " '_name_based_attribute_restore',\n",
       " '_name_based_restores',\n",
       " '_name_scope',\n",
       " '_nested_inputs',\n",
       " '_nested_outputs',\n",
       " '_network_nodes',\n",
       " '_no_dependency',\n",
       " '_nodes_by_depth',\n",
       " '_non_trainable_weights',\n",
       " '_obj_reference_counts',\n",
       " '_outbound_nodes',\n",
       " '_output_coordinates',\n",
       " '_output_layers',\n",
       " '_output_loss_metrics',\n",
       " '_output_mask_cache',\n",
       " '_output_shape_cache',\n",
       " '_output_tensor_cache',\n",
       " '_per_output_metrics',\n",
       " '_per_output_weighted_metrics',\n",
       " '_preload_simple_restoration',\n",
       " '_prepare_output_masks',\n",
       " '_prepare_sample_weights',\n",
       " '_prepare_skip_target_masks',\n",
       " '_prepare_total_loss',\n",
       " '_process_target_tensor_for_compile',\n",
       " '_recompile_weights_loss_and_weighted_metrics',\n",
       " '_restore_from_checkpoint_position',\n",
       " '_reuse',\n",
       " '_run_eagerly',\n",
       " '_run_internal_graph',\n",
       " '_sample_weight_modes',\n",
       " '_scope',\n",
       " '_self_name_based_restores',\n",
       " '_self_setattr_tracking',\n",
       " '_self_unconditional_checkpoint_dependencies',\n",
       " '_self_unconditional_deferred_dependencies',\n",
       " '_self_unconditional_dependency_names',\n",
       " '_self_update_uid',\n",
       " '_set_connectivity_metadata_',\n",
       " '_set_dtype_and_policy',\n",
       " '_set_input_attrs',\n",
       " '_set_inputs',\n",
       " '_set_mask_metadata',\n",
       " '_set_metric_attributes',\n",
       " '_set_output_attrs',\n",
       " '_set_output_names',\n",
       " '_set_per_output_metric_attributes',\n",
       " '_setattr_tracking',\n",
       " '_should_compute_mask',\n",
       " '_single_restoration_from_checkpoint_position',\n",
       " '_standardize_user_data',\n",
       " '_symbolic_add_metric',\n",
       " '_symbolic_call',\n",
       " '_targets',\n",
       " '_tf_api_names',\n",
       " '_tf_api_names_v1',\n",
       " '_track_layers',\n",
       " '_track_trackable',\n",
       " '_trackable_saver',\n",
       " '_trainable',\n",
       " '_trainable_weights',\n",
       " '_training_endpoints',\n",
       " '_unconditional_checkpoint_dependencies',\n",
       " '_unconditional_dependency_names',\n",
       " '_unpack_validation_data',\n",
       " '_update_sample_weight_modes',\n",
       " '_update_uid',\n",
       " '_updated_config',\n",
       " '_updates',\n",
       " '_validate_compile_param_for_distribution_strategy',\n",
       " '_validate_graph_inputs_and_outputs',\n",
       " '_validate_or_infer_batch_size',\n",
       " 'activity_regularizer',\n",
       " 'add_loss',\n",
       " 'add_metric',\n",
       " 'add_update',\n",
       " 'add_variable',\n",
       " 'add_weight',\n",
       " 'apply',\n",
       " 'build',\n",
       " 'built',\n",
       " 'call',\n",
       " 'compile',\n",
       " 'compute_mask',\n",
       " 'compute_output_shape',\n",
       " 'count_params',\n",
       " 'dtype',\n",
       " 'dynamic',\n",
       " 'evaluate',\n",
       " 'evaluate_generator',\n",
       " 'fit',\n",
       " 'fit_generator',\n",
       " 'from_config',\n",
       " 'get_config',\n",
       " 'get_input_at',\n",
       " 'get_input_mask_at',\n",
       " 'get_input_shape_at',\n",
       " 'get_layer',\n",
       " 'get_losses_for',\n",
       " 'get_output_at',\n",
       " 'get_output_mask_at',\n",
       " 'get_output_shape_at',\n",
       " 'get_updates_for',\n",
       " 'get_weights',\n",
       " 'history',\n",
       " 'inbound_nodes',\n",
       " 'input',\n",
       " 'input_mask',\n",
       " 'input_names',\n",
       " 'input_shape',\n",
       " 'input_spec',\n",
       " 'inputs',\n",
       " 'layers',\n",
       " 'load_weights',\n",
       " 'loss',\n",
       " 'loss_functions',\n",
       " 'loss_weights',\n",
       " 'losses',\n",
       " 'metrics',\n",
       " 'metrics_names',\n",
       " 'name',\n",
       " 'name_scope',\n",
       " 'non_trainable_variables',\n",
       " 'non_trainable_weights',\n",
       " 'optimizer',\n",
       " 'outbound_nodes',\n",
       " 'output',\n",
       " 'output_mask',\n",
       " 'output_names',\n",
       " 'output_shape',\n",
       " 'outputs',\n",
       " 'predict',\n",
       " 'predict_function',\n",
       " 'predict_generator',\n",
       " 'predict_on_batch',\n",
       " 'reset_metrics',\n",
       " 'reset_states',\n",
       " 'run_eagerly',\n",
       " 'sample_weight_mode',\n",
       " 'sample_weights',\n",
       " 'save',\n",
       " 'save_weights',\n",
       " 'set_weights',\n",
       " 'state_updates',\n",
       " 'stateful',\n",
       " 'stop_training',\n",
       " 'submodules',\n",
       " 'summary',\n",
       " 'supports_masking',\n",
       " 'test_function',\n",
       " 'test_on_batch',\n",
       " 'to_json',\n",
       " 'to_yaml',\n",
       " 'total_loss',\n",
       " 'train_function',\n",
       " 'train_on_batch',\n",
       " 'trainable',\n",
       " 'trainable_variables',\n",
       " 'trainable_weights',\n",
       " 'updates',\n",
       " 'variables',\n",
       " 'weights',\n",
       " 'with_name_scope']"
      ]
     },
     "execution_count": 155,
     "metadata": {},
     "output_type": "execute_result"
    }
   ],
   "source": [
    "dir(model)"
   ]
  },
  {
   "cell_type": "code",
   "execution_count": 160,
   "id": "bf858e74",
   "metadata": {},
   "outputs": [
    {
     "ename": "ValueError",
     "evalue": "When using data tensors as input to a model, you should specify the `steps` argument.",
     "output_type": "error",
     "traceback": [
      "\u001b[1;31m---------------------------------------------------------------------------\u001b[0m",
      "\u001b[1;31mValueError\u001b[0m                                Traceback (most recent call last)",
      "\u001b[1;32m~\\AppData\\Local\\Temp/ipykernel_13000/271906568.py\u001b[0m in \u001b[0;36m<module>\u001b[1;34m\u001b[0m\n\u001b[1;32m----> 1\u001b[1;33m \u001b[0mmodel\u001b[0m\u001b[1;33m.\u001b[0m\u001b[0mevaluate\u001b[0m\u001b[1;33m(\u001b[0m\u001b[1;33m)\u001b[0m\u001b[1;33m\u001b[0m\u001b[1;33m\u001b[0m\u001b[0m\n\u001b[0m",
      "\u001b[1;32m~\\anaconda3\\envs\\dl\\lib\\site-packages\\tensorflow\\python\\keras\\engine\\training.py\u001b[0m in \u001b[0;36mevaluate\u001b[1;34m(self, x, y, batch_size, verbose, sample_weight, steps, callbacks, max_queue_size, workers, use_multiprocessing)\u001b[0m\n\u001b[0;32m    939\u001b[0m         \u001b[0mcheck_steps\u001b[0m\u001b[1;33m=\u001b[0m\u001b[1;32mTrue\u001b[0m\u001b[1;33m,\u001b[0m\u001b[1;33m\u001b[0m\u001b[1;33m\u001b[0m\u001b[0m\n\u001b[0;32m    940\u001b[0m         \u001b[0msteps_name\u001b[0m\u001b[1;33m=\u001b[0m\u001b[1;34m'steps'\u001b[0m\u001b[1;33m,\u001b[0m\u001b[1;33m\u001b[0m\u001b[1;33m\u001b[0m\u001b[0m\n\u001b[1;32m--> 941\u001b[1;33m         steps=steps)\n\u001b[0m\u001b[0;32m    942\u001b[0m \u001b[1;33m\u001b[0m\u001b[0m\n\u001b[0;32m    943\u001b[0m     \u001b[1;32mif\u001b[0m \u001b[0mself\u001b[0m\u001b[1;33m.\u001b[0m\u001b[0mrun_eagerly\u001b[0m\u001b[1;33m:\u001b[0m\u001b[1;33m\u001b[0m\u001b[1;33m\u001b[0m\u001b[0m\n",
      "\u001b[1;32m~\\anaconda3\\envs\\dl\\lib\\site-packages\\tensorflow\\python\\keras\\engine\\training.py\u001b[0m in \u001b[0;36m_standardize_user_data\u001b[1;34m(self, x, y, sample_weight, class_weight, batch_size, check_steps, steps_name, steps, validation_split, shuffle, extract_tensors_from_dataset)\u001b[0m\n\u001b[0;32m   2507\u001b[0m     \u001b[1;31m# Validates `steps` argument based on x's type.\u001b[0m\u001b[1;33m\u001b[0m\u001b[1;33m\u001b[0m\u001b[1;33m\u001b[0m\u001b[0m\n\u001b[0;32m   2508\u001b[0m     \u001b[1;32mif\u001b[0m \u001b[0mcheck_steps\u001b[0m\u001b[1;33m:\u001b[0m\u001b[1;33m\u001b[0m\u001b[1;33m\u001b[0m\u001b[0m\n\u001b[1;32m-> 2509\u001b[1;33m       \u001b[0mtraining_utils\u001b[0m\u001b[1;33m.\u001b[0m\u001b[0mcheck_steps_argument\u001b[0m\u001b[1;33m(\u001b[0m\u001b[0mx\u001b[0m\u001b[1;33m,\u001b[0m \u001b[0msteps\u001b[0m\u001b[1;33m,\u001b[0m \u001b[0msteps_name\u001b[0m\u001b[1;33m)\u001b[0m\u001b[1;33m\u001b[0m\u001b[1;33m\u001b[0m\u001b[0m\n\u001b[0m\u001b[0;32m   2510\u001b[0m \u001b[1;33m\u001b[0m\u001b[0m\n\u001b[0;32m   2511\u001b[0m     \u001b[1;31m# First, we build/compile the model on the fly if necessary.\u001b[0m\u001b[1;33m\u001b[0m\u001b[1;33m\u001b[0m\u001b[1;33m\u001b[0m\u001b[0m\n",
      "\u001b[1;32m~\\anaconda3\\envs\\dl\\lib\\site-packages\\tensorflow\\python\\keras\\engine\\training_utils.py\u001b[0m in \u001b[0;36mcheck_steps_argument\u001b[1;34m(input_data, steps, steps_name)\u001b[0m\n\u001b[0;32m    988\u001b[0m       raise ValueError('When using {input_type} as input to a model, you should'\n\u001b[0;32m    989\u001b[0m                        ' specify the `{steps_name}` argument.'.format(\n\u001b[1;32m--> 990\u001b[1;33m                            input_type=input_type_str, steps_name=steps_name))\n\u001b[0m\u001b[0;32m    991\u001b[0m     \u001b[1;32mreturn\u001b[0m \u001b[1;32mTrue\u001b[0m\u001b[1;33m\u001b[0m\u001b[1;33m\u001b[0m\u001b[0m\n\u001b[0;32m    992\u001b[0m   \u001b[1;32mreturn\u001b[0m \u001b[1;32mFalse\u001b[0m\u001b[1;33m\u001b[0m\u001b[1;33m\u001b[0m\u001b[0m\n",
      "\u001b[1;31mValueError\u001b[0m: When using data tensors as input to a model, you should specify the `steps` argument."
     ]
    }
   ],
   "source": [
    "model.evaluate()"
   ]
  },
  {
   "cell_type": "code",
   "execution_count": 132,
   "id": "091204d4",
   "metadata": {},
   "outputs": [
    {
     "data": {
      "text/plain": [
       "['fire',\n",
       " 'downwind',\n",
       " 'upslope',\n",
       " 'wind',\n",
       " 'TMP:2 m',\n",
       " 'SPFH:2 m',\n",
       " 'LTNG',\n",
       " 'PRATE',\n",
       " 'PRES:surface']"
      ]
     },
     "execution_count": 132,
     "metadata": {},
     "output_type": "execute_result"
    }
   ],
   "source": [
    "layers"
   ]
  },
  {
   "cell_type": "code",
   "execution_count": 131,
   "id": "1e751dea",
   "metadata": {},
   "outputs": [
    {
     "data": {
      "image/png": "[encoded data removed]",
      "text/plain": [
       "<IPython.core.display.Image object>"
      ]
     },
     "execution_count": 131,
     "metadata": {},
     "output_type": "execute_result"
    }
   ],
   "source": [
    "keras.utils.plot_model(model2)"
   ]
  },
  {
   "cell_type": "code",
   "execution_count": 74,
   "id": "1020c402",
   "metadata": {},
   "outputs": [],
   "source": [
    "num_conv = 4\n",
    "\n",
    "input_data = keras.Input(shape=inputs.shape[1:])\n",
    "x = Lambda(lambda x: x[:, :, :, 0:num_conv], name='Get_layers_for_conv')(input_data)\n",
    "x = Conv2D(5, kernel_size=(2, 2), activation=\"relu\")(x)\n",
    "x = MaxPool2D()(x)\n",
    "x = Flatten()(x)\n",
    "y = Lambda(lambda x: x[:, int((inputs.shape[1]+1)/2), int((inputs.shape[2]+1)/2)], name='Get_point_data')(input_data)\n",
    "y = keras.layers.Concatenate()([x, y])\n",
    "y = Dense(256, activation=\"relu\")(y) \n",
    "y = Dropout(0.2)(y)\n",
    "output_data = Dense(2, activation=\"softmax\", name=\"Output\")(y)\n",
    "\n",
    "model3 = keras.Model(input_data, output_data, name='Conv_and_point')\n",
    "\n"
   ]
  },
  {
   "cell_type": "code",
   "execution_count": 77,
   "id": "74e982b4",
   "metadata": {},
   "outputs": [
    {
     "name": "stdout",
     "output_type": "stream",
     "text": [
      "Train on 11264 samples, validate on 2816 samples\n",
      "Epoch 1/15\n",
      "11264/11264 [==============================] - 5s 476us/sample - loss: 295.9024 - acc: 0.8762 - val_loss: 167.1822 - val_acc: 0.9350\n",
      "Epoch 2/15\n",
      "11264/11264 [==============================] - 4s 320us/sample - loss: 94.5231 - acc: 0.8822 - val_loss: 20.8126 - val_acc: 0.9350\n",
      "Epoch 3/15\n",
      "11264/11264 [==============================] - 4s 322us/sample - loss: 14.4604 - acc: 0.8825 - val_loss: 10.4279 - val_acc: 0.9350\n",
      "Epoch 4/15\n",
      "11264/11264 [==============================] - 4s 332us/sample - loss: 3.6049 - acc: 0.8796 - val_loss: 0.5755 - val_acc: 0.9350\n",
      "Epoch 5/15\n",
      "11264/11264 [==============================] - 4s 332us/sample - loss: 1.9313 - acc: 0.8840 - val_loss: 0.8313 - val_acc: 0.9350\n",
      "Epoch 6/15\n",
      "11264/11264 [==============================] - 4s 325us/sample - loss: 0.8641 - acc: 0.8926 - val_loss: 0.3049 - val_acc: 0.9350\n",
      "Epoch 7/15\n",
      "11264/11264 [==============================] - 4s 331us/sample - loss: 0.6176 - acc: 0.8975 - val_loss: 0.2499 - val_acc: 0.9350\n",
      "Epoch 8/15\n",
      "11264/11264 [==============================] - 4s 315us/sample - loss: 0.4838 - acc: 0.9110 - val_loss: 0.2636 - val_acc: 0.9350\n",
      "Epoch 9/15\n",
      "11264/11264 [==============================] - 4s 331us/sample - loss: 0.3223 - acc: 0.9252 - val_loss: 0.2220 - val_acc: 0.9350\n",
      "Epoch 10/15\n",
      "11264/11264 [==============================] - 4s 332us/sample - loss: 0.2821 - acc: 0.9300 - val_loss: 0.3317 - val_acc: 0.9350\n",
      "Epoch 11/15\n",
      "11264/11264 [==============================] - 4s 331us/sample - loss: 0.2760 - acc: 0.9334 - val_loss: 0.2222 - val_acc: 0.9350\n",
      "Epoch 12/15\n",
      "11264/11264 [==============================] - 4s 331us/sample - loss: 0.2509 - acc: 0.9355 - val_loss: 0.2438 - val_acc: 0.9350\n",
      "Epoch 13/15\n",
      "11264/11264 [==============================] - 3s 261us/sample - loss: 0.2436 - acc: 0.9359 - val_loss: 0.2285 - val_acc: 0.9350\n",
      "Epoch 14/15\n",
      "11264/11264 [==============================] - 3s 231us/sample - loss: 0.2400 - acc: 0.9357 - val_loss: 0.2191 - val_acc: 0.9350\n",
      "Epoch 15/15\n",
      "11264/11264 [==============================] - 3s 244us/sample - loss: 0.2394 - acc: 0.9358 - val_loss: 0.2214 - val_acc: 0.9350\n"
     ]
    },
    {
     "data": {
      "text/plain": [
       "<tensorflow.python.keras.callbacks.History at 0x1ca82728248>"
      ]
     },
     "execution_count": 77,
     "metadata": {},
     "output_type": "execute_result"
    }
   ],
   "source": [
    "model3.compile(loss='sparse_categorical_crossentropy',\n",
    "             optimizer='adam',\n",
    "             metrics=['accuracy'])\n",
    "\n",
    "callbacks = [keras.callbacks.ModelCheckpoint(\n",
    "    filepath='cnn_from_scratch.keras',\n",
    "    save_best_only=True,\n",
    "    monitor='val_acc')]\n",
    "\n",
    "# This callback will tell the trainer that we must store the weights that give the best accuracy in validation\n",
    "\n",
    "model3.fit(inputs,\n",
    "         outputs,\n",
    "         batch_size=32,\n",
    "         epochs=15,\n",
    "         validation_split=0.2,\n",
    "         callbacks=callbacks)"
   ]
  },
  {
   "cell_type": "code",
   "execution_count": 146,
   "id": "030cf651",
   "metadata": {},
   "outputs": [],
   "source": []
  },
  {
   "cell_type": "code",
   "execution_count": 153,
   "id": "617e4d89",
   "metadata": {},
   "outputs": [
    {
     "data": {
      "text/plain": [
       "(array([0, 1], dtype=int64), array([13242,   838], dtype=int64))"
      ]
     },
     "execution_count": 153,
     "metadata": {},
     "output_type": "execute_result"
    }
   ],
   "source": []
  },
  {
   "cell_type": "code",
   "execution_count": 60,
   "id": "db119845",
   "metadata": {},
   "outputs": [
    {
     "data": {
      "text/plain": [
       "(14080, 21, 21, 9)"
      ]
     },
     "execution_count": 60,
     "metadata": {},
     "output_type": "execute_result"
    }
   ],
   "source": [
    "inputs.shape"
   ]
  },
  {
   "cell_type": "code",
   "execution_count": 27,
   "id": "9ee46f0c",
   "metadata": {},
   "outputs": [],
   "source": [
    "model.compile(loss='sparse_categorical_crossentropy',\n",
    "             optimizer='adam',\n",
    "             metrics=['accuracy'])"
   ]
  },
  {
   "cell_type": "code",
   "execution_count": 28,
   "id": "5f598c8c",
   "metadata": {},
   "outputs": [],
   "source": [
    "callbacks = [keras.callbacks.ModelCheckpoint(\n",
    "    filepath='cnn_from_scratch.keras',\n",
    "    save_best_only=True,\n",
    "    monitor='val_acc')]"
   ]
  },
  {
   "cell_type": "code",
   "execution_count": 29,
   "id": "28d4c9ac",
   "metadata": {},
   "outputs": [
    {
     "name": "stdout",
     "output_type": "stream",
     "text": [
      "Train on 11264 samples, validate on 2816 samples\n",
      "Epoch 1/15\n",
      "11264/11264 [==============================] - 2s 154us/sample - loss: 0.2341 - acc: 0.9346 - val_loss: 0.1998 - val_acc: 0.9350\n",
      "Epoch 2/15\n",
      "11264/11264 [==============================] - 1s 129us/sample - loss: 0.1854 - acc: 0.9389 - val_loss: 0.1965 - val_acc: 0.9347\n",
      "Epoch 3/15\n",
      "11264/11264 [==============================] - 1s 132us/sample - loss: 0.1687 - acc: 0.9424 - val_loss: 0.1711 - val_acc: 0.9421\n",
      "Epoch 4/15\n",
      "11264/11264 [==============================] - 1s 131us/sample - loss: 0.1518 - acc: 0.9458 - val_loss: 0.1726 - val_acc: 0.9382\n",
      "Epoch 5/15\n",
      "11264/11264 [==============================] - 1s 132us/sample - loss: 0.1369 - acc: 0.9512 - val_loss: 0.1623 - val_acc: 0.9396\n",
      "Epoch 6/15\n",
      "11264/11264 [==============================] - 1s 129us/sample - loss: 0.1266 - acc: 0.9521 - val_loss: 0.1511 - val_acc: 0.9464\n",
      "Epoch 7/15\n",
      "11264/11264 [==============================] - 2s 134us/sample - loss: 0.1157 - acc: 0.9547 - val_loss: 0.1470 - val_acc: 0.9482\n",
      "Epoch 8/15\n",
      "11264/11264 [==============================] - 1s 129us/sample - loss: 0.1059 - acc: 0.9588 - val_loss: 0.1550 - val_acc: 0.9446\n",
      "Epoch 9/15\n",
      "11264/11264 [==============================] - 1s 129us/sample - loss: 0.1009 - acc: 0.9608 - val_loss: 0.1626 - val_acc: 0.9432\n",
      "Epoch 10/15\n",
      "11264/11264 [==============================] - 1s 127us/sample - loss: 0.0902 - acc: 0.9629 - val_loss: 0.1752 - val_acc: 0.9414\n",
      "Epoch 11/15\n",
      "11264/11264 [==============================] - 1s 130us/sample - loss: 0.0854 - acc: 0.9672 - val_loss: 0.1456 - val_acc: 0.9499\n",
      "Epoch 12/15\n",
      "11264/11264 [==============================] - 1s 129us/sample - loss: 0.0785 - acc: 0.9685 - val_loss: 0.1402 - val_acc: 0.9524\n",
      "Epoch 13/15\n",
      "11264/11264 [==============================] - 1s 127us/sample - loss: 0.0785 - acc: 0.9692 - val_loss: 0.1458 - val_acc: 0.9499\n",
      "Epoch 14/15\n",
      "11264/11264 [==============================] - 1s 128us/sample - loss: 0.0712 - acc: 0.9713 - val_loss: 0.1366 - val_acc: 0.9524\n",
      "Epoch 15/15\n",
      "11264/11264 [==============================] - 1s 129us/sample - loss: 0.0647 - acc: 0.9750 - val_loss: 0.1445 - val_acc: 0.9538\n"
     ]
    },
    {
     "data": {
      "text/plain": [
       "<tensorflow.python.keras.callbacks.History at 0x1780b946688>"
      ]
     },
     "execution_count": 29,
     "metadata": {},
     "output_type": "execute_result"
    }
   ],
   "source": [
    "callbacks = [keras.callbacks.ModelCheckpoint(\n",
    "    filepath='cnn_from_scratch.keras',\n",
    "    save_best_only=True,\n",
    "    monitor='val_acc')]\n",
    "\n",
    "# This callback will tell the trainer that we must store the weights that give the best accuracy in validation\n",
    "\n",
    "model.fit(inputs,\n",
    "         outputs,\n",
    "         batch_size=32,\n",
    "         epochs=15,\n",
    "         validation_split=0.2,\n",
    "         callbacks=callbacks)"
   ]
  },
  {
   "cell_type": "code",
   "execution_count": 30,
   "id": "66930599",
   "metadata": {},
   "outputs": [],
   "source": [
    "sorted_IDs = [all_IDs[i] for i in ix_to_keep]"
   ]
  },
  {
   "cell_type": "code",
   "execution_count": 31,
   "id": "72040dda",
   "metadata": {},
   "outputs": [],
   "source": [
    "inc_ids = set([i[0] for i in sorted_IDs])\n",
    "path = 'data/processed'\n",
    "\n",
    "fires = {}\n",
    "for inc_id in inc_ids:\n",
    "    with open(f'{path}/{inc_id}/info.json', 'r') as f:\n",
    "        info = json.load(f)\n",
    "    shape = info['shape']\n",
    "    days = info['num_days']\n",
    "    arr_shape = tuple(shape) + (days,)\n",
    "    fires[inc_id] = np.full(arr_shape, 'No prediction', dtype='object')"
   ]
  },
  {
   "cell_type": "code",
   "execution_count": 32,
   "id": "709f4fbc",
   "metadata": {},
   "outputs": [],
   "source": [
    "y_pred = np.argmax(model.predict(inputs), axis=1)"
   ]
  },
  {
   "cell_type": "code",
   "execution_count": 33,
   "id": "a047a68f",
   "metadata": {},
   "outputs": [],
   "source": [
    "for i, ID in enumerate(sorted_IDs):\n",
    "    \n",
    "    pred = y_pred[i]\n",
    "    actual = outputs[i]\n",
    "    train = i < len(outputs) * 0.8\n",
    "\n",
    "    val = 'Error'\n",
    "    if pred == 0 and actual == 0:\n",
    "        val = 'True Negative'\n",
    "    if pred == 1 and actual == 1:\n",
    "        val = 'True Positive'\n",
    "    if pred == 1 and actual == 0:\n",
    "        val = 'False Positive'\n",
    "    if pred == 0 and actual == 1:\n",
    "        val = 'False Negative'\n",
    "        \n",
    "    # haha a little bit on the nose\n",
    "    if val == 'Error':\n",
    "        raise ValueError() \n",
    "        \n",
    "    if train:\n",
    "        val = 'Train ' + val\n",
    "    else:\n",
    "        val = 'Validation ' + val\n",
    "        \n",
    "    inc, day, i, j = ID\n",
    "    \n",
    "    # note that 1-indexing and next day cancel each other out, not day+1\n",
    "    fires[inc_id][i, j, day] = val\n",
    "        "
   ]
  },
  {
   "cell_type": "code",
   "execution_count": 34,
   "id": "850bb217",
   "metadata": {},
   "outputs": [],
   "source": [
    "def f(s, green=[], red=[]):\n",
    "\n",
    "    if s in green:\n",
    "        return 1\n",
    "    if s in red:\n",
    "        return -1\n",
    "    return 0\n",
    "\n",
    "func = np.vectorize(f, excluded=['green', 'red'])"
   ]
  },
  {
   "cell_type": "code",
   "execution_count": 40,
   "id": "154c9586",
   "metadata": {},
   "outputs": [],
   "source": [
    "def plots(path, day):\n",
    "\n",
    "\n",
    "    plt.rcParams['figure.figsize'] = (10, 20)\n",
    "    fig, axs = plt.subplots(4, 2)\n",
    "\n",
    "    weather = np.load(f'{path}/{day-1}/weather_12z_f00.npy')\n",
    "    with open(f'{path}/{day-1}/weather_12z.json', 'r') as f:\n",
    "        bands = json.load(f)\n",
    "    u_wind = weather[:, :, bands['UGRD:10 m']]\n",
    "    v_wind = weather[:, :, bands['VGRD:10 m']]\n",
    "    axs[0, 0].quiver(np.flip(u_wind, axis=0)[::4, ::4], np.flip(v_wind, axis=0)[::4, ::4], scale=100)\n",
    "    axs[0, 0].set_title('Yesterday wind')\n",
    "\n",
    "    weather = np.load(f'{path}/{day}/weather_12z_f00.npy')\n",
    "    with open(f'{path}/{day}/weather_12z.json', 'r') as f:\n",
    "        bands = json.load(f)\n",
    "    u_wind = weather[:, :, bands['UGRD:10 m']]\n",
    "    v_wind = weather[:, :, bands['VGRD:10 m']]\n",
    "    axs[0, 1].quiver(np.flip(u_wind, axis=0)[::4, ::4], np.flip(v_wind, axis=0)[::4, ::4], scale=100)\n",
    "    axs[0, 1].set_title('Today wind')\n",
    "\n",
    "    fire = np.load(f'{path}/{day-1}/fire.npy')\n",
    "    fire = fire > 0.2\n",
    "    axs[1, 0].imshow(fire, cmap='hot')\n",
    "    axs[1,0].set_title('Yesterday fire')\n",
    "\n",
    "    fire = np.load(f'{path}/{day}/fire.npy')\n",
    "    fire = fire > 0.2\n",
    "    axs[1, 1].imshow(fire, cmap='hot')\n",
    "    axs[1,1].set_title('Today fire')\n",
    "\n",
    "\n",
    "    day_fire = fires[inc_id][:, :, day-1]\n",
    "    d = {'green' : ['Train True Positive'], 'red' : ['Train True Positive']}\n",
    "    axs[2, 0].imshow(func(day_fire, **d), cmap = plt.cm.get_cmap('RdYlGn', 3), vmin=-1, vmax=1)\n",
    "    axs[2,0].set_title('Train True Positive/Train False Negative')\n",
    "\n",
    "    d = {'green' : ['Validation True Positive'], 'red' : ['Validation False Negative']}\n",
    "    axs[2, 1].imshow(func(day_fire, **d), cmap = plt.cm.get_cmap('RdYlGn', 3), vmin=-1, vmax=1)\n",
    "    axs[2,1].set_title('Validation True Positive/False Negative')\n",
    "\n",
    "    d = {'green' : ['Train True Negative'], 'red' : ['Train False Positive']}\n",
    "    axs[3, 0].imshow(func(day_fire, **d), cmap = plt.cm.get_cmap('RdYlGn', 3), vmin=-1, vmax=1)\n",
    "    axs[3,0].set_title('Train True Negative/Train False Positive')\n",
    "\n",
    "    d = {'green' : ['Validation True Negative'], 'red' : ['Validation False Positive']}\n",
    "    axs[3, 1].imshow(func(day_fire, **d), cmap = plt.cm.get_cmap('RdYlGn', 3), vmin=-1, vmax=1)\n",
    "    axs[3,1].set_title('Validation True Negative/Validation False Positive')"
   ]
  },
  {
   "cell_type": "code",
   "execution_count": 45,
   "id": "b9231921",
   "metadata": {},
   "outputs": [
    {
     "data": {
      "image/png": "[encoded data removed]",
      "text/plain": [
       "<Figure size 720x1440 with 8 Axes>"
      ]
     },
     "metadata": {
      "needs_background": "light"
     },
     "output_type": "display_data"
    }
   ],
   "source": [
    "path = f'data/processed/{inc_id}'\n",
    "day = 12\n",
    "\n",
    "plots(path, day)"
   ]
  },
  {
   "cell_type": "code",
   "execution_count": null,
   "id": "29e3ba2d",
   "metadata": {},
   "outputs": [],
   "source": [
    "model.fit_generator(generator=training_generator,\n",
    "                    validation_data=validation_generator,\n",
    "                    use_multiprocessing=False,\n",
    "                    epochs=15,\n",
    "                    workers=2)"
   ]
  },
  {
   "cell_type": "code",
   "execution_count": 147,
   "id": "26f6a4a3",
   "metadata": {},
   "outputs": [],
   "source": [
    "input_val = inputs[-2640:]\n",
    "output_val = outputs[-2640:]\n",
    "\n",
    "y_pred = np.argmax(model.predict(inputs[-2640:]), axis=1)"
   ]
  },
  {
   "cell_type": "code",
   "execution_count": 151,
   "id": "7aee3b44",
   "metadata": {},
   "outputs": [
    {
     "data": {
      "text/plain": [
       "(109, 35, 79, 2417)"
      ]
     },
     "execution_count": 151,
     "metadata": {},
     "output_type": "execute_result"
    }
   ],
   "source": [
    "np.sum((y_pred == 1) & (output_val == 1)),\\\n",
    "np.sum((y_pred == 1) & (output_val == 0)),\\\n",
    "np.sum((y_pred == 0) & (output_val == 1)),\\\n",
    "np.sum((y_pred == 0) & (output_val == 0))\n"
   ]
  },
  {
   "cell_type": "code",
   "execution_count": 152,
   "id": "8401d0d9",
   "metadata": {},
   "outputs": [
    {
     "data": {
      "text/plain": [
       "0.7569444444444444"
      ]
     },
     "execution_count": 152,
     "metadata": {},
     "output_type": "execute_result"
    }
   ],
   "source": [
    "109/(109+35)"
   ]
  },
  {
   "cell_type": "code",
   "execution_count": 153,
   "id": "3521048e",
   "metadata": {},
   "outputs": [
    {
     "data": {
      "text/plain": [
       "0.5797872340425532"
      ]
     },
     "execution_count": 153,
     "metadata": {},
     "output_type": "execute_result"
    }
   ],
   "source": [
    "109/(109+79)"
   ]
  },
  {
   "cell_type": "code",
   "execution_count": 154,
   "id": "b0ddc4dc",
   "metadata": {},
   "outputs": [
    {
     "data": {
      "text/plain": [
       "0.9857259380097879"
      ]
     },
     "execution_count": 154,
     "metadata": {},
     "output_type": "execute_result"
    }
   ],
   "source": [
    "2417/(2417+35)"
   ]
  },
  {
   "cell_type": "code",
   "execution_count": 145,
   "id": "2770dd63",
   "metadata": {},
   "outputs": [],
   "source": [
    "y_hat = np.argmax(model.predict(inputs), axis=1)"
   ]
  },
  {
   "cell_type": "code",
   "execution_count": 146,
   "id": "fefaec99",
   "metadata": {},
   "outputs": [
    {
     "data": {
      "text/plain": [
       "(array([0, 1], dtype=int64), array([12437,   763], dtype=int64))"
      ]
     },
     "execution_count": 146,
     "metadata": {},
     "output_type": "execute_result"
    }
   ],
   "source": [
    "np.unique(y_hat, return_counts=True)"
   ]
  }
 ],
 "metadata": {
  "kernelspec": {
   "display_name": "Python 3 (ipykernel)",
   "language": "python",
   "name": "python3"
  },
  "language_info": {
   "codemirror_mode": {
    "name": "ipython",
    "version": 3
   },
   "file_extension": ".py",
   "mimetype": "text/x-python",
   "name": "python",
   "nbconvert_exporter": "python",
   "pygments_lexer": "ipython3",
   "version": "3.7.11"
  }
 },
 "nbformat": 4,
 "nbformat_minor": 5
}
