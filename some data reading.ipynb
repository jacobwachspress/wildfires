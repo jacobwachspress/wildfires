{
 "cells": [
  {
   "cell_type": "code",
   "execution_count": 1,
   "id": "a9bb90da",
   "metadata": {},
   "outputs": [],
   "source": [
    "import numpy as np"
   ]
  },
  {
   "cell_type": "code",
   "execution_count": 13,
   "id": "3ae938dd",
   "metadata": {},
   "outputs": [
    {
     "name": "stdout",
     "output_type": "stream",
     "text": [
      "p\\np\n"
     ]
    }
   ],
   "source": [
    "print(r'p\\np')"
   ]
  },
  {
   "cell_type": "code",
   "execution_count": 2,
   "id": "d49d9330",
   "metadata": {},
   "outputs": [],
   "source": [
    "path = r'data\\processed'"
   ]
  },
  {
   "cell_type": "code",
   "execution_count": 3,
   "id": "89208daf",
   "metadata": {},
   "outputs": [],
   "source": [
    "inc_id = 11966019"
   ]
  },
  {
   "cell_type": "code",
   "execution_count": 4,
   "id": "77546f46",
   "metadata": {},
   "outputs": [
    {
     "data": {
      "text/plain": [
       "'data\\\\processed/11966019'"
      ]
     },
     "execution_count": 4,
     "metadata": {},
     "output_type": "execute_result"
    }
   ],
   "source": [
    "fire_path = f'{path}/{inc_id}'\n",
    "fire_path"
   ]
  },
  {
   "cell_type": "code",
   "execution_count": 22,
   "id": "cc7dfe4e",
   "metadata": {},
   "outputs": [],
   "source": [
    "day = 3"
   ]
  },
  {
   "cell_type": "code",
   "execution_count": 23,
   "id": "a6639c0a",
   "metadata": {},
   "outputs": [],
   "source": [
    "fire = np.load(f'{fire_path}/{day}/fire.npy')"
   ]
  },
  {
   "cell_type": "code",
   "execution_count": 25,
   "id": "cae60274",
   "metadata": {},
   "outputs": [],
   "source": [
    "import json"
   ]
  },
  {
   "cell_type": "code",
   "execution_count": 26,
   "id": "36b674d3",
   "metadata": {},
   "outputs": [],
   "source": [
    "file_path = f'{fire_path}/{day}/weather_12z.json'"
   ]
  },
  {
   "cell_type": "code",
   "execution_count": 32,
   "id": "9113f7c0",
   "metadata": {},
   "outputs": [
    {
     "data": {
      "text/plain": [
       "{'TMP:2 m': 2,\n",
       " 'SPFH:2 m': 3,\n",
       " 'UGRD:10 m': 4,\n",
       " 'VGRD:10 m': 5,\n",
       " 'LTNG': 0,\n",
       " 'PRATE': 6,\n",
       " 'PRES:surface': 1}"
      ]
     },
     "execution_count": 32,
     "metadata": {},
     "output_type": "execute_result"
    }
   ],
   "source": [
    "with open(file_path, 'r') as f:\n",
    "    lookup = json.load(f)\n",
    "    \n",
    "lookup"
   ]
  },
  {
   "cell_type": "code",
   "execution_count": 36,
   "id": "3ca0ba3d",
   "metadata": {},
   "outputs": [
    {
     "data": {
      "text/plain": [
       "3"
      ]
     },
     "execution_count": 36,
     "metadata": {},
     "output_type": "execute_result"
    }
   ],
   "source": [
    "day"
   ]
  },
  {
   "cell_type": "code",
   "execution_count": 33,
   "id": "8c9784e6",
   "metadata": {},
   "outputs": [],
   "source": [
    "file_path = f'{fire_path}/{day}/weather_12z_f00.npy'"
   ]
  },
  {
   "cell_type": "code",
   "execution_count": 34,
   "id": "2386ec2c",
   "metadata": {},
   "outputs": [],
   "source": [
    "weather = np.load(file_path)"
   ]
  },
  {
   "cell_type": "code",
   "execution_count": 35,
   "id": "858caca6",
   "metadata": {},
   "outputs": [
    {
     "data": {
      "text/plain": [
       "(8, 13, 7)"
      ]
     },
     "execution_count": 35,
     "metadata": {},
     "output_type": "execute_result"
    }
   ],
   "source": [
    "weather.shape"
   ]
  },
  {
   "cell_type": "code",
   "execution_count": null,
   "id": "1b1fadd6",
   "metadata": {},
   "outputs": [],
   "source": []
  },
  {
   "cell_type": "code",
   "execution_count": 44,
   "id": "007acf44",
   "metadata": {},
   "outputs": [
    {
     "data": {
      "text/plain": [
       "{'transform': [-105.39224335872966,\n",
       "  0.011333221881493723,\n",
       "  0.0,\n",
       "  40.1890339540901,\n",
       "  0.0,\n",
       "  -0.008696211147510213],\n",
       " 'shape': [8, 13],\n",
       " 'start_day': '20201016',\n",
       " 'num_days': 6}"
      ]
     },
     "execution_count": 44,
     "metadata": {},
     "output_type": "execute_result"
    }
   ],
   "source": [
    "with open(f'{fire_path}/info.json', 'r') as f:\n",
    "    info = json.load(f)\n",
    "    \n",
    "info"
   ]
  },
  {
   "cell_type": "code",
   "execution_count": 42,
   "id": "dc0aed45",
   "metadata": {},
   "outputs": [
    {
     "data": {
      "text/plain": [
       "array([[-0.97840601, -0.83702408, -0.66405095, -0.45948661, -0.36399259,\n",
       "        -0.28948243, -0.21938086, -0.02642025,  0.20209019,  0.43931544,\n",
       "         0.89671807,  1.44822495,  1.99646379],\n",
       "       [-1.03272141, -0.87290003, -0.72441331, -0.59771901, -0.51388796,\n",
       "        -0.43319976, -0.35033231, -0.12914121,  0.1504285 ,  0.43871518,\n",
       "         0.87840464,  1.41084189,  1.94001028],\n",
       "       [-0.76884011, -0.75970583, -0.73877729, -0.73964657, -0.67257408,\n",
       "        -0.57911743, -0.483481  , -0.24064043,  0.09000094,  0.42936143,\n",
       "         0.86336912,  1.37673209,  1.88682539],\n",
       "       [-0.51936883, -0.62437621, -0.73103683, -0.85950066, -0.83346361,\n",
       "        -0.72723543, -0.61402483, -0.32709994,  0.07635091,  0.48198208,\n",
       "         0.92407871,  1.3990732 ,  1.85662512],\n",
       "       [-0.42618224, -0.60552419, -0.7598726 , -0.91094972, -0.85581419,\n",
       "        -0.65096395, -0.4308477 , -0.1125892 ,  0.30367384,  0.72211774,\n",
       "         1.12997689,  1.50292513,  1.85842648],\n",
       "       [-0.45768069, -0.6808763 , -0.81610047, -0.94805254, -0.86675909,\n",
       "        -0.57254236, -0.26305583,  0.09972597,  0.5288043 ,  0.96006402,\n",
       "         1.35335542,  1.62423261,  1.87765862],\n",
       "       [-0.46590379, -0.75954839, -0.87564366, -0.98846603, -0.89313242,\n",
       "        -0.5095275 , -0.11064902,  0.3098456 ,  0.74896956,  1.19482855,\n",
       "         1.60239956,  1.79925159,  1.99173975],\n",
       "       [-0.34771489, -0.61323693, -0.62624064, -0.62287578, -0.49553764,\n",
       "        -0.17138231,  0.1265833 ,  0.44534768,  0.92830811,  1.4189072 ,\n",
       "         1.88645587,  2.05779686,  2.2247729 ]])"
      ]
     },
     "execution_count": 42,
     "metadata": {},
     "output_type": "execute_result"
    }
   ],
   "source": [
    "temp = weather[:, :, lookup['TMP:2 m']]\n",
    "temp"
   ]
  },
  {
   "cell_type": "code",
   "execution_count": 24,
   "id": "97274841",
   "metadata": {},
   "outputs": [
    {
     "data": {
      "text/plain": [
       "array([[ 0.00000000e+00,  0.00000000e+00,  0.00000000e+00,\n",
       "         0.00000000e+00,  0.00000000e+00,  0.00000000e+00,\n",
       "         0.00000000e+00,  0.00000000e+00,  0.00000000e+00,\n",
       "         0.00000000e+00,  0.00000000e+00,  0.00000000e+00,\n",
       "         0.00000000e+00],\n",
       "       [-6.50406524e-04, -1.39797740e-02, -2.45408006e-02,\n",
       "        -2.66485997e-02, -1.47545924e-02, -9.03342385e-04,\n",
       "         1.50557054e-04,  0.00000000e+00,  0.00000000e+00,\n",
       "         0.00000000e+00,  0.00000000e+00,  0.00000000e+00,\n",
       "         0.00000000e+00],\n",
       "       [-1.89300403e-02,  1.35953024e-01,  4.99466538e-01,\n",
       "         3.20073158e-01,  2.13686943e-01, -1.37174211e-03,\n",
       "        -1.21932628e-03,  0.00000000e+00,  0.00000000e+00,\n",
       "         0.00000000e+00,  0.00000000e+00,  0.00000000e+00,\n",
       "         0.00000000e+00],\n",
       "       [ 2.51358032e-01,  7.95844615e-01,  6.66666687e-01,\n",
       "         7.27023304e-01,  5.21719277e-01,  5.71559221e-02,\n",
       "        -8.68770014e-03,  0.00000000e+00,  0.00000000e+00,\n",
       "         0.00000000e+00,  0.00000000e+00,  0.00000000e+00,\n",
       "         0.00000000e+00],\n",
       "       [ 1.24609053e-01,  3.34387243e-01,  6.87547624e-01,\n",
       "         2.22679466e-01,  2.50419140e-01,  1.72229838e-02,\n",
       "        -2.89590005e-03,  0.00000000e+00,  0.00000000e+00,\n",
       "         0.00000000e+00,  0.00000000e+00,  0.00000000e+00,\n",
       "         0.00000000e+00],\n",
       "       [-1.90946497e-02,  1.67118330e-02,  5.33455284e-03,\n",
       "         4.80109751e-02,  1.67657365e-03, -5.02972119e-03,\n",
       "         3.04831570e-04,  0.00000000e+00,  0.00000000e+00,\n",
       "         0.00000000e+00,  0.00000000e+00,  0.00000000e+00,\n",
       "         0.00000000e+00],\n",
       "       [ 4.87804879e-04, -4.46162978e-03, -7.22673908e-03,\n",
       "         2.89069563e-02,  1.21951215e-02, -1.35501358e-03,\n",
       "         0.00000000e+00,  0.00000000e+00,  0.00000000e+00,\n",
       "         0.00000000e+00,  0.00000000e+00,  0.00000000e+00,\n",
       "         0.00000000e+00],\n",
       "       [ 0.00000000e+00,  0.00000000e+00,  3.29218106e-04,\n",
       "        -3.45679023e-03, -1.48148148e-03,  1.64609053e-04,\n",
       "         0.00000000e+00,  0.00000000e+00,  0.00000000e+00,\n",
       "         0.00000000e+00,  0.00000000e+00,  0.00000000e+00,\n",
       "         0.00000000e+00]], dtype=float32)"
      ]
     },
     "execution_count": 24,
     "metadata": {},
     "output_type": "execute_result"
    }
   ],
   "source": [
    "fire"
   ]
  },
  {
   "cell_type": "code",
   "execution_count": null,
   "id": "d4d72b5e",
   "metadata": {},
   "outputs": [],
   "source": []
  }
 ],
 "metadata": {
  "kernelspec": {
   "display_name": "Python 3",
   "language": "python",
   "name": "python3"
  },
  "language_info": {
   "codemirror_mode": {
    "name": "ipython",
    "version": 3
   },
   "file_extension": ".py",
   "mimetype": "text/x-python",
   "name": "python",
   "nbconvert_exporter": "python",
   "pygments_lexer": "ipython3",
   "version": "3.8.8"
  }
 },
 "nbformat": 4,
 "nbformat_minor": 5
}
